{
 "cells": [
  {
   "cell_type": "markdown",
   "id": "86684368-51fa-471e-8763-169d7baaa20a",
   "metadata": {},
   "source": [
    "# Ejercicio N°1 - Estadística Descriptiva"
   ]
  },
  {
   "cell_type": "markdown",
   "id": "de4fbfbe-bec4-4932-9001-5202b99fa3e9",
   "metadata": {},
   "source": [
    "Para este análisis, se seleccionó el \"Adult Income Dataset\", disponible en el UCI Machine Learning Repository. Este conjunto de datos también puede obtenerse ejecutando el siguiente código:"
   ]
  },
  {
   "cell_type": "code",
   "execution_count": 1,
   "id": "00352437-28c9-4329-8001-7f4108ff72d9",
   "metadata": {},
   "outputs": [],
   "source": [
    "options(warn = -1)"
   ]
  },
  {
   "cell_type": "code",
   "execution_count": 2,
   "id": "25fd32ad-351e-439b-8cfe-bc909c2142c3",
   "metadata": {},
   "outputs": [],
   "source": [
    "url <- \"https://archive.ics.uci.edu/ml/machine-learning-databases/adult/adult.data\"\n",
    "download.file(url, destfile = \"adult.data\")"
   ]
  },
  {
   "cell_type": "code",
   "execution_count": 3,
   "id": "2acd6d25-6dfd-46bc-b37e-d4b24285db17",
   "metadata": {},
   "outputs": [],
   "source": [
    "column_names <- c(\"age\", \"workclass\", \"fnlwgt\", \"education\", \"education_num\", \n",
    "                  \"marital_status\", \"occupation\", \"relationship\", \"race\", \n",
    "                  \"sex\", \"capital_gain\", \"capital_loss\", \"hours_per_week\", \n",
    "                  \"native_country\", \"income\")\n",
    "data <- read.csv(\"adult.data\", header = FALSE, sep = \",\", col.names = column_names, \n",
    "                 na.strings = \" ?\")"
   ]
  },
  {
   "cell_type": "markdown",
   "id": "db35060e-93e8-4b4e-8f0e-ff04275ff0a0",
   "metadata": {},
   "source": [
    "**a) Describir para este caso la población, la muestra tomada, el experimento que estará usando, las variables\n",
    "bajo análisis y cualquier otra característica relevante para el procedimiento. Si la base es simulada,\n",
    "exponga los motivos por los cuales el procedimiento es viable.**"
   ]
  },
  {
   "cell_type": "markdown",
   "id": "7d23a65d-157a-4e5a-97a2-ae4fe3b68650",
   "metadata": {},
   "source": [
    "**Descripción cualitativa:** Se trata de un dataset que contiene información demográfica y socioeconómica de individuos adultos extraída del censo de EE.UU. de 1994.\n",
    "\n",
    "El dataset posee la siguiente cantidad de filas y variables:"
   ]
  },
  {
   "cell_type": "code",
   "execution_count": 4,
   "id": "39de15fd-0b16-487d-aa12-59e5eaa4d011",
   "metadata": {},
   "outputs": [
    {
     "name": "stdout",
     "output_type": "stream",
     "text": [
      "Cantidad de filas: 32561 \n",
      "Cantidad de variables: 15"
     ]
    }
   ],
   "source": [
    "tamano_dataset <- nrow(data)\n",
    "cantidad_variables <- ncol(data)\n",
    "\n",
    "cat(\"Cantidad de filas:\", tamano_dataset, \"\\n\")\n",
    "cat(\"Cantidad de variables:\", cantidad_variables)"
   ]
  },
  {
   "cell_type": "markdown",
   "id": "f42a43d5-f3ee-4e75-9d8d-405439f7a205",
   "metadata": {},
   "source": [
    "**Descripción estadística del dataset:** "
   ]
  },
  {
   "cell_type": "code",
   "execution_count": 5,
   "id": "347cb78a-fe66-4f99-88fe-a7e47c97cb35",
   "metadata": {},
   "outputs": [
    {
     "data": {
      "text/plain": [
       "      age         workclass             fnlwgt         education        \n",
       " Min.   :17.00   Length:32561       Min.   :  12285   Length:32561      \n",
       " 1st Qu.:28.00   Class :character   1st Qu.: 117827   Class :character  \n",
       " Median :37.00   Mode  :character   Median : 178356   Mode  :character  \n",
       " Mean   :38.58                      Mean   : 189778                     \n",
       " 3rd Qu.:48.00                      3rd Qu.: 237051                     \n",
       " Max.   :90.00                      Max.   :1484705                     \n",
       " education_num   marital_status      occupation        relationship      \n",
       " Min.   : 1.00   Length:32561       Length:32561       Length:32561      \n",
       " 1st Qu.: 9.00   Class :character   Class :character   Class :character  \n",
       " Median :10.00   Mode  :character   Mode  :character   Mode  :character  \n",
       " Mean   :10.08                                                           \n",
       " 3rd Qu.:12.00                                                           \n",
       " Max.   :16.00                                                           \n",
       "     race               sex             capital_gain    capital_loss   \n",
       " Length:32561       Length:32561       Min.   :    0   Min.   :   0.0  \n",
       " Class :character   Class :character   1st Qu.:    0   1st Qu.:   0.0  \n",
       " Mode  :character   Mode  :character   Median :    0   Median :   0.0  \n",
       "                                       Mean   : 1078   Mean   :  87.3  \n",
       "                                       3rd Qu.:    0   3rd Qu.:   0.0  \n",
       "                                       Max.   :99999   Max.   :4356.0  \n",
       " hours_per_week  native_country        income         \n",
       " Min.   : 1.00   Length:32561       Length:32561      \n",
       " 1st Qu.:40.00   Class :character   Class :character  \n",
       " Median :40.00   Mode  :character   Mode  :character  \n",
       " Mean   :40.44                                        \n",
       " 3rd Qu.:45.00                                        \n",
       " Max.   :99.00                                        "
      ]
     },
     "metadata": {},
     "output_type": "display_data"
    }
   ],
   "source": [
    "summary(data)"
   ]
  },
  {
   "cell_type": "markdown",
   "id": "f490bf80-0ad5-4ecc-ad4f-48a13e7e8e14",
   "metadata": {},
   "source": [
    "**Extracción de la muestra:** se seleccionó una muestra aleatoria de 𝑛 = 2000 registros del \"Adult Income Dataset\".\n",
    "\n",
    "Esta muestra busca ser una representación adecuada para realizar análisis estadísticos descriptivos de las características demográficas y socioeconómicas de los individuos incluidos."
   ]
  },
  {
   "cell_type": "code",
   "execution_count": 6,
   "id": "8dbfc416-bc51-4797-a9e4-faf1a7620951",
   "metadata": {},
   "outputs": [],
   "source": [
    "selected_columns <- c(\"age\", \"education\", \"occupation\", \"hours_per_week\", \"income\")\n",
    "adult_data_selected <- data[selected_columns]"
   ]
  },
  {
   "cell_type": "code",
   "execution_count": 7,
   "id": "5d2da547-6bf7-41f5-b9d3-87d9b4121b13",
   "metadata": {},
   "outputs": [],
   "source": [
    "set.seed(47)\n",
    "n <- 2000\n",
    "sample_indices <- sample(1:nrow(adult_data_selected), size = n, replace = FALSE)\n",
    "sample_data <- adult_data_selected[sample_indices, ]"
   ]
  },
  {
   "cell_type": "markdown",
   "id": "61538ea4-bd8e-4f91-b629-e1217009a591",
   "metadata": {},
   "source": [
    "**Variables bajo análisis:**"
   ]
  },
  {
   "cell_type": "markdown",
   "id": "53a1d0d6-84fc-4c6a-8809-58185cf8ef4a",
   "metadata": {},
   "source": [
    "- **age**: Edad del individuo.\n",
    "  - **Tipo**: Numérica.\n",
    "  - **Descripción**: Representa la edad de cada individuo en la muestra. Esta variable permite analizar la distribución etaria y sus posibles correlaciones con otras variables.\n",
    "\n",
    "- **education**: Nivel educativo.\n",
    "  - **Tipo**: Categórica.\n",
    "  - **Descripción**: Indica el nivel educativo alcanzado por los individuos, con categorías como \"Bachelors\", \"HS-grad\", \"Masters\", etc. Esta variable es esencial para estudiar la relación entre educación e ingresos.\n",
    "\n",
    "- **occupation**: Ocupación.\n",
    "  - **Tipo**: Categórica.\n",
    "  - **Descripción**: Describe el tipo de trabajo que desempeña cada individuo, con categorías como \"Tech-support\", \"Craft-repair\", \"Other-service\", etc. Analizar esta variable puede revelar tendencias ocupacionales y su relación con el ingreso.\n",
    "\n",
    "- **hours_per_week**: Horas trabajadas por semana.\n",
    "  - **Tipo**: Numérica.\n",
    "  - **Descripción**: Indica el número de horas que cada individuo trabaja por semana. Esta variable es crucial para estudiar los patrones laborales y su impacto en los ingresos.\n",
    "\n",
    "- **income**: Ingreso anual.\n",
    "  - **Tipo**: Categórica.\n",
    "  - **Descripción**: Categorizada en \">50K\" (más de USD 50,000) y \"<=50K\" (menos de USD 50,000). Esta variable es el objetivo principal del análisis, permitiendo estudiar cómo diferentes factores demográficos y laborales influyen en los niveles de ingreso.\n"
   ]
  },
  {
   "cell_type": "markdown",
   "id": "fbee0ada-87ce-43fd-bf8f-9dff84dba7cb",
   "metadata": {},
   "source": [
    "**b) Generar un set de estadística descriptiva sobre la misma que le permita resumir la información obtenida,\n",
    "explicando para cada una de ellas su significado.**"
   ]
  },
  {
   "cell_type": "code",
   "execution_count": 8,
   "id": "3af2ad0b-4f4b-4292-95a1-0721d09466ce",
   "metadata": {},
   "outputs": [
    {
     "name": "stdout",
     "output_type": "stream",
     "text": [
      "Estadísticas Descriptivas para la Edad (age):\n",
      "Media: 38.2565 \n",
      "Mediana: 37 \n",
      "Desviación Estándar: 13.25313 \n",
      "Mínimo: 17 \n",
      "Máximo: 90 \n",
      "Rango Intercuartílico (IQR): 19 \n",
      "\n"
     ]
    }
   ],
   "source": [
    "age_mean <- mean(sample_data$age, na.rm = TRUE)\n",
    "age_median <- median(sample_data$age, na.rm = TRUE)\n",
    "age_sd <- sd(sample_data$age, na.rm = TRUE)\n",
    "age_min <- min(sample_data$age, na.rm = TRUE)\n",
    "age_max <- max(sample_data$age, na.rm = TRUE)\n",
    "age_iqr <- IQR(sample_data$age, na.rm = TRUE)\n",
    "\n",
    "cat(\"Estadísticas Descriptivas para la Edad (age):\\n\")\n",
    "cat(\"Media:\", age_mean, \"\\n\")\n",
    "cat(\"Mediana:\", age_median, \"\\n\")\n",
    "cat(\"Desviación Estándar:\", age_sd, \"\\n\")\n",
    "cat(\"Mínimo:\", age_min, \"\\n\")\n",
    "cat(\"Máximo:\", age_max, \"\\n\")\n",
    "cat(\"Rango Intercuartílico (IQR):\", age_iqr, \"\\n\\n\")"
   ]
  },
  {
   "cell_type": "code",
   "execution_count": 9,
   "id": "0e7f2abe-946f-452a-99f5-b7e6051d262f",
   "metadata": {},
   "outputs": [
    {
     "name": "stdout",
     "output_type": "stream",
     "text": [
      "Estadísticas Descriptivas para las Horas Trabajadas por Semana (hours_per_week):\n",
      "Media: 40.4245 \n",
      "Mediana: 40 \n",
      "Desviación Estándar: 11.80101 \n",
      "Mínimo: 1 \n",
      "Máximo: 99 \n",
      "Rango Intercuartílico (IQR): 5 \n",
      "\n"
     ]
    }
   ],
   "source": [
    "hours_mean <- mean(sample_data$hours_per_week, na.rm = TRUE)\n",
    "hours_median <- median(sample_data$hours_per_week, na.rm = TRUE)\n",
    "hours_sd <- sd(sample_data$hours_per_week, na.rm = TRUE)\n",
    "hours_min <- min(sample_data$hours_per_week, na.rm = TRUE)\n",
    "hours_max <- max(sample_data$hours_per_week, na.rm = TRUE)\n",
    "hours_iqr <- IQR(sample_data$hours_per_week, na.rm = TRUE)\n",
    "\n",
    "cat(\"Estadísticas Descriptivas para las Horas Trabajadas por Semana (hours_per_week):\\n\")\n",
    "cat(\"Media:\", hours_mean, \"\\n\")\n",
    "cat(\"Mediana:\", hours_median, \"\\n\")\n",
    "cat(\"Desviación Estándar:\", hours_sd, \"\\n\")\n",
    "cat(\"Mínimo:\", hours_min, \"\\n\")\n",
    "cat(\"Máximo:\", hours_max, \"\\n\")\n",
    "cat(\"Rango Intercuartílico (IQR):\", hours_iqr, \"\\n\\n\")"
   ]
  },
  {
   "cell_type": "code",
   "execution_count": 10,
   "id": "de4072f4-8e4c-406f-b31f-3643997f5ee1",
   "metadata": {},
   "outputs": [
    {
     "name": "stdout",
     "output_type": "stream",
     "text": [
      "Distribución de Frecuencias para el Nivel Educativo (education):\n",
      "\n",
      "         10th          11th          12th       1st-4th       5th-6th \n",
      "           54            67            29             9            20 \n",
      "      7th-8th           9th    Assoc-acdm     Assoc-voc     Bachelors \n",
      "           46            26            71            73           338 \n",
      "    Doctorate       HS-grad       Masters     Preschool   Prof-school \n",
      "           18           646           129             1            37 \n",
      " Some-college \n",
      "          436 \n",
      "Distribución de Frecuencias Relativas (Proporciones):\n",
      "\n",
      "         10th          11th          12th       1st-4th       5th-6th \n",
      "       0.0270        0.0335        0.0145        0.0045        0.0100 \n",
      "      7th-8th           9th    Assoc-acdm     Assoc-voc     Bachelors \n",
      "       0.0230        0.0130        0.0355        0.0365        0.1690 \n",
      "    Doctorate       HS-grad       Masters     Preschool   Prof-school \n",
      "       0.0090        0.3230        0.0645        0.0005        0.0185 \n",
      " Some-college \n",
      "       0.2180 \n",
      "\n"
     ]
    }
   ],
   "source": [
    "# Distribución de frecuencias para la variable 'education'\n",
    "education_freq <- table(sample_data$education)\n",
    "education_prop <- prop.table(education_freq)\n",
    "\n",
    "cat(\"Distribución de Frecuencias para el Nivel Educativo (education):\\n\")\n",
    "print(education_freq)\n",
    "cat(\"Distribución de Frecuencias Relativas (Proporciones):\\n\")\n",
    "print(education_prop)\n",
    "cat(\"\\n\")"
   ]
  },
  {
   "cell_type": "code",
   "execution_count": 11,
   "id": "7e973bd5-dd9e-4034-873c-5d7ca3793058",
   "metadata": {},
   "outputs": [
    {
     "name": "stdout",
     "output_type": "stream",
     "text": [
      "Distribución de Frecuencias para la Ocupación (occupation):\n",
      "\n",
      "      Adm-clerical       Armed-Forces       Craft-repair    Exec-managerial \n",
      "               233                  1                260                274 \n",
      "   Farming-fishing  Handlers-cleaners  Machine-op-inspct      Other-service \n",
      "                61                 74                119                206 \n",
      "   Priv-house-serv     Prof-specialty    Protective-serv              Sales \n",
      "                10                265                 41                209 \n",
      "      Tech-support   Transport-moving \n",
      "                63                 87 \n",
      "Distribución de Frecuencias Relativas (Proporciones):\n",
      "\n",
      "      Adm-clerical       Armed-Forces       Craft-repair    Exec-managerial \n",
      "      0.1224382554       0.0005254861       0.1366263794       0.1439831844 \n",
      "   Farming-fishing  Handlers-cleaners  Machine-op-inspct      Other-service \n",
      "      0.0320546506       0.0388859695       0.0625328429       0.1082501314 \n",
      "   Priv-house-serv     Prof-specialty    Protective-serv              Sales \n",
      "      0.0052548607       0.1392538098       0.0215449291       0.1098265896 \n",
      "      Tech-support   Transport-moving \n",
      "      0.0331056227       0.0457172885 \n",
      "\n"
     ]
    }
   ],
   "source": [
    "# Distribución de frecuencias para la variable 'occupation'\n",
    "occupation_freq <- table(sample_data$occupation)\n",
    "occupation_prop <- prop.table(occupation_freq)\n",
    "\n",
    "cat(\"Distribución de Frecuencias para la Ocupación (occupation):\\n\")\n",
    "print(occupation_freq)\n",
    "cat(\"Distribución de Frecuencias Relativas (Proporciones):\\n\")\n",
    "print(occupation_prop)\n",
    "cat(\"\\n\")"
   ]
  },
  {
   "cell_type": "code",
   "execution_count": 12,
   "id": "08e95340-7a50-4a33-9fcc-acc49a4c6146",
   "metadata": {},
   "outputs": [
    {
     "name": "stdout",
     "output_type": "stream",
     "text": [
      "Distribución de Frecuencias para el Ingreso Anual (income):\n",
      "\n",
      " <=50K   >50K \n",
      "  1503    497 \n",
      "Distribución de Frecuencias Relativas (Proporciones):\n",
      "\n",
      " <=50K   >50K \n",
      "0.7515 0.2485 \n",
      "\n"
     ]
    }
   ],
   "source": [
    "# Distribución de frecuencias para la variable 'income'\n",
    "income_freq <- table(sample_data$income)\n",
    "income_prop <- prop.table(income_freq)\n",
    "\n",
    "cat(\"Distribución de Frecuencias para el Ingreso Anual (income):\\n\")\n",
    "print(income_freq)\n",
    "cat(\"Distribución de Frecuencias Relativas (Proporciones):\\n\")\n",
    "print(income_prop)\n",
    "cat(\"\\n\")"
   ]
  },
  {
   "cell_type": "markdown",
   "id": "9896771b-32bc-415b-944a-b562234ee79a",
   "metadata": {},
   "source": [
    "**c) Generar un histograma para una de las variables cuantitativas, utilizando la forma que considere más\n",
    "correcta para agrupar las categorías. Elija la variable que mayor simetría consiga en el histograma\n",
    "resultante.**"
   ]
  },
  {
   "cell_type": "code",
   "execution_count": 13,
   "id": "3e2b9feb-9925-4dcb-96b0-a5c47418975f",
   "metadata": {},
   "outputs": [
    {
     "data": {
      "image/png": "[encoded data removed]",
      "text/plain": [
       "Plot with title \"Horas Trabajadas por Semana\""
      ]
     },
     "metadata": {
      "image/png": {
       "height": 420,
       "width": 420
      }
     },
     "output_type": "display_data"
    }
   ],
   "source": [
    "par(mfrow=c(1,2)) \n",
    "\n",
    "hist(sample_data$age, main = \"Histograma de la Edad\", xlab = \"Edad\", breaks = 25)\n",
    "hist(sample_data$hours_per_week, main = \"Horas Trabajadas por Semana\", \n",
    "     xlab = \"Horas por Semana\", breaks = 8)\n",
    "\n",
    "par(mfrow=c(1,1))"
   ]
  },
  {
   "cell_type": "markdown",
   "id": "1ab2b7ef-f04e-476a-b3b4-6604819fc503",
   "metadata": {},
   "source": [
    "# Ejercicio N°2 - Probabilidad"
   ]
  },
  {
   "cell_type": "markdown",
   "id": "b4bf865c-d7b1-43ba-a604-4c70a86031db",
   "metadata": {},
   "source": [
    "### Ejercicio 1"
   ]
  },
  {
   "cell_type": "markdown",
   "id": "7fa19c09-608b-4781-81d0-2aa19bdf4872",
   "metadata": {},
   "source": [
    "**1.1. Si lanzamos una moneda, ¿Cuál es la probabilidad esperada de obtener una cara?. Si lanzamos una moneda 10 veces, ¿Cuál es la cantidad esperada de caras?**"
   ]
  },
  {
   "cell_type": "markdown",
   "id": "c94ee9b8-030f-4c7f-b30e-6977d25554e9",
   "metadata": {},
   "source": [
    "Sea $X$ es una variable aleatoria que sigue una distribución de Bernoulli, donde la probabilidad de obtener \"cara\" es 0.5. Al evento \"cara\" se le asigna el valor 1, y al evento \"cruz\" se le asigna el valor 0. La esperanza $E[X]$ se obtiene al multiplicar cada resultado posible $X$ por su probabilidad correspondiente $P(X)$ y luego, sumar estos productos [1]:\n",
    "\n",
    "$$ E(X_i) = 1 \\cdot p(\\text{cara}) + 0 \\cdot p(\\text{cruz}) = 0.5 $$\n",
    "\n",
    "La cantidad esperada de caras al lanzar una moneda 10 veces es:\n",
    "\n",
    "$$ \\text{número de caras} = 10 \\cdot E(X_{\\text{cara}}) = 10 \\cdot 0.5 = 5 $$"
   ]
  },
  {
   "cell_type": "markdown",
   "id": "6f8cc284-063a-4b23-9e1a-139d23b1f159",
   "metadata": {},
   "source": [
    "**1.2. Lanzar una moneda 10 veces y contar el número de caras. Repetirlo 8 veces y almacenar el número de caras para cada una.**"
   ]
  },
  {
   "cell_type": "code",
   "execution_count": 14,
   "id": "545e3bc1-8889-4d65-ac23-75e899847f28",
   "metadata": {},
   "outputs": [
    {
     "name": "stdout",
     "output_type": "stream",
     "text": [
      "[1] \"Número de caras: 36\"\n"
     ]
    }
   ],
   "source": [
    "simular_lanzamientos <- function(n) {\n",
    "  sum(sample(c(\"cara\", \"cruz\"), size = n, replace = TRUE) == \"cara\")\n",
    "}\n",
    "\n",
    "resultados_8 <- replicate(8, simular_lanzamientos(10))\n",
    "media_8 <- mean(resultados_8)\n",
    "desviacion_std_8 <- sd(resultados_8)\n",
    "\n",
    "print(paste(\"Número de caras:\",sum(resultados_8)))"
   ]
  },
  {
   "cell_type": "markdown",
   "id": "43f48360-3da3-4bea-a2b3-25557428a357",
   "metadata": {},
   "source": [
    "**1.3. Lanzar una moneda 10 veces, contar el número de caras, almacenar el resultado y repetirlo 1000 veces.**"
   ]
  },
  {
   "cell_type": "code",
   "execution_count": 15,
   "id": "9971242a-0415-4b20-84d6-8b6893d1ec81",
   "metadata": {},
   "outputs": [
    {
     "name": "stdout",
     "output_type": "stream",
     "text": [
      "[1] \"Número de caras: 5006\"\n"
     ]
    }
   ],
   "source": [
    "resultados_1k <- replicate(1000, simular_lanzamientos(10))\n",
    "media_1k <- mean(resultados_1k)\n",
    "desviacion_std_1k <- sd(resultados_1k)\n",
    "\n",
    "print(paste(\"Número de caras:\",sum(resultados_1k)))"
   ]
  },
  {
   "cell_type": "markdown",
   "id": "144e76d2-f629-43c2-8afb-e571dc859610",
   "metadata": {},
   "source": [
    "**1.4. ¿Cómo difieren los resultados del experimento en (2) de los resultados en el experimento (3)? Justificar**"
   ]
  },
  {
   "cell_type": "markdown",
   "id": "a9a5a06f-d3f3-4bed-bf55-b512009b2f02",
   "metadata": {},
   "source": [
    "A medida que aumenta el número de repeticiones del experimento, la media de los resultados de estas repeticiones tiende a aproximarse más consistentemente al valor esperado de la distribución.  Esto implica que el promedio de los resultados obtenidos en múltiples repeticiones se acercará a la media de 5 caras."
   ]
  },
  {
   "cell_type": "code",
   "execution_count": 16,
   "id": "b45f2025-53ed-4f87-b835-c54022f107c6",
   "metadata": {},
   "outputs": [
    {
     "name": "stdout",
     "output_type": "stream",
     "text": [
      "[1] \"Media para 8 repeticiones: 4.5 y Desviación Estándar: 1.19522860933439\"\n",
      "[1] \"Media para 1000 repeticiones: 5.006 y Desviación Estándar: 1.61696585572441\"\n"
     ]
    }
   ],
   "source": [
    "print(paste(\"Media para 8 repeticiones:\", media_8, \n",
    "            \"y Desviación Estándar:\", desviacion_std_8))\n",
    "print(paste(\"Media para 1000 repeticiones:\", media_1k, \n",
    "            \"y Desviación Estándar:\", desviacion_std_1k))"
   ]
  },
  {
   "cell_type": "markdown",
   "id": "8e3b4356-ed53-4698-ac8d-b91ed814bc2d",
   "metadata": {},
   "source": [
    "### Ejercicio 2"
   ]
  },
  {
   "cell_type": "markdown",
   "id": "05b8d362-41f8-4342-b7ba-1b43ab84fdd2",
   "metadata": {},
   "source": [
    "**Una persona te propone jugar un juego con dados, el cual te solicita tirar 2 dados.**\n",
    "\n",
    "**• Si sale un 7, te pagarán 3 pesos.**\n",
    "\n",
    "**• Si sale un 11, te pagarán 5 pesos.**\n",
    "\n",
    "**• Si sale cualquier otra combinación, deberás pagar 0.70 pesos.**"
   ]
  },
  {
   "cell_type": "markdown",
   "id": "0e038e67-e70a-4471-911c-a9d8e94ae344",
   "metadata": {},
   "source": [
    "**2.1. ¿Cuál es la probabilidad de sacar un siete?**"
   ]
  },
  {
   "cell_type": "markdown",
   "id": "c5534671-b711-4d9f-8288-6eb046638ff1",
   "metadata": {},
   "source": [
    "Es posible hallar la probabilidad de obtener un siete al realizar el producto cartesiano de los espacios muestrales de los dados para construir un nuevo espacio muestral, dispuesto en forma de matriz, en donde cada elemento de la matriz es igual a la suma de los índices de cada posición de la fila y columna:"
   ]
  },
  {
   "cell_type": "code",
   "execution_count": 17,
   "id": "369bc0fe-2f60-439d-877d-fb4ad5e74c92",
   "metadata": {},
   "outputs": [
    {
     "name": "stdout",
     "output_type": "stream",
     "text": [
      "     [,1] [,2] [,3] [,4] [,5] [,6]\n",
      "[1,]    2    3    4    5    6    7\n",
      "[2,]    3    4    5    6    7    8\n",
      "[3,]    4    5    6    7    8    9\n",
      "[4,]    5    6    7    8    9   10\n",
      "[5,]    6    7    8    9   10   11\n",
      "[6,]    7    8    9   10   11   12\n"
     ]
    }
   ],
   "source": [
    "set1 <- 1:6\n",
    "set2 <- 1:6\n",
    "\n",
    "suma_matriz <- outer(set1, set2, FUN = \"+\")\n",
    "\n",
    "print(suma_matriz)"
   ]
  },
  {
   "cell_type": "markdown",
   "id": "6167e824-b643-47af-ad37-f96397a523ce",
   "metadata": {},
   "source": [
    "De la disposición anterior, basta con sumar la cantidad veces en que el resultado fue 7 y dividir dicho valor por la cantidad total de elementos de la matriz:"
   ]
  },
  {
   "cell_type": "code",
   "execution_count": 18,
   "id": "0674f970-aafc-47b5-b142-dd3eff582050",
   "metadata": {},
   "outputs": [
    {
     "name": "stdout",
     "output_type": "stream",
     "text": [
      "[1] \"P(7)= 0.166666666666667\"\n"
     ]
    }
   ],
   "source": [
    "cantidad_siete <- sum(suma_matriz == 7)\n",
    "print(paste(\"P(7)=\", cantidad_siete/(6*6)))"
   ]
  },
  {
   "cell_type": "markdown",
   "id": "df9302a9-aca3-4c3e-814e-3cd4d661790d",
   "metadata": {},
   "source": [
    "**2.2. ¿Cuál es la probabilidad de sacar un once?**"
   ]
  },
  {
   "cell_type": "markdown",
   "id": "fe9c9830-679b-4202-b32e-0b6de2fd6578",
   "metadata": {},
   "source": [
    "Para la solución de este inciso, se repite el procedimiento previo y se crea una máscara en la que se suma la cantidad de elementos de la matriz que sean iguales a 11 y se lo divide por el total de elementos de la matriz:"
   ]
  },
  {
   "cell_type": "code",
   "execution_count": 19,
   "id": "b3cf97d3-dc2e-4733-afbe-4b442f65552e",
   "metadata": {},
   "outputs": [
    {
     "name": "stdout",
     "output_type": "stream",
     "text": [
      "[1] \"P(11)= 0.0555555555555556\"\n"
     ]
    }
   ],
   "source": [
    "cantidad_once <- sum(suma_matriz == 11)\n",
    "print(paste(\"P(11)=\", cantidad_once/(6*6)))"
   ]
  },
  {
   "cell_type": "markdown",
   "id": "3e107a7b-75e9-4c02-b9d2-4b95c84d18bb",
   "metadata": {},
   "source": [
    "**2.3. ¿Cuál es la probabilidad de sacar un siete o un once?**"
   ]
  },
  {
   "cell_type": "markdown",
   "id": "8fc5d8c7-ddc4-4c40-90e2-9e91010d658b",
   "metadata": {},
   "source": [
    "Dado que son eventos excluyentes, el valor de la probabilidad se la obtiene con la suma [2]:"
   ]
  },
  {
   "cell_type": "code",
   "execution_count": 20,
   "id": "6ea0f1b9-64a7-4e4f-9326-ccea3c3c31d4",
   "metadata": {},
   "outputs": [
    {
     "name": "stdout",
     "output_type": "stream",
     "text": [
      "[1] \"P(7U11)= 0.222222222222222\"\n"
     ]
    }
   ],
   "source": [
    "print(paste(\"P(7U11)=\", cantidad_siete/(6*6)+cantidad_once/(6*6)))"
   ]
  },
  {
   "cell_type": "markdown",
   "id": "41309176-093e-4ccb-a160-ce40aa580a3d",
   "metadata": {},
   "source": [
    "**2.4. Simular tirar 2 dados mediante la función Roll1Dice(). Simular tirar 2 dados 100 veces y almacenar los\n",
    "resultados. Calcular los puntos anteriores (1, 2 y 3) a partir de los datos.**"
   ]
  },
  {
   "cell_type": "markdown",
   "id": "0e30dfcd-62ef-4c9d-bf80-a86c73f06755",
   "metadata": {},
   "source": [
    "Definición de la función solicitada en el ejercicio:"
   ]
  },
  {
   "cell_type": "code",
   "execution_count": 21,
   "id": "edde3cf8-bff1-4f9d-b465-41962d615472",
   "metadata": {},
   "outputs": [],
   "source": [
    "Roll1Dice <- function() {\n",
    "  sample(1:6, 1)\n",
    "}"
   ]
  },
  {
   "cell_type": "code",
   "execution_count": 22,
   "id": "854d66b7-c60f-4749-a1be-c071580c407c",
   "metadata": {},
   "outputs": [],
   "source": [
    "set.seed(87)\n",
    "veces <- 100\n",
    "resultados <- replicate(veces, Roll1Dice() + Roll1Dice())"
   ]
  },
  {
   "cell_type": "markdown",
   "id": "7b45a49c-f584-44a7-a402-8ae84c1e24ad",
   "metadata": {},
   "source": [
    "**Cálculo de P(7), P(11) y P(7U11):**"
   ]
  },
  {
   "cell_type": "code",
   "execution_count": 23,
   "id": "6fd8eaf5-db28-49c2-83bd-f412a4c40431",
   "metadata": {},
   "outputs": [
    {
     "name": "stdout",
     "output_type": "stream",
     "text": [
      "[1] \"P(7)= 0.18\"\n",
      "[1] \"P(11)= 0.07\"\n",
      "[1] \"P(7U11)= 0.25\"\n"
     ]
    }
   ],
   "source": [
    "print(paste(\"P(7)=\", sum(resultados == 7)/veces))\n",
    "print(paste(\"P(11)=\", sum(resultados == 11)/veces))\n",
    "print(paste(\"P(7U11)=\", sum(resultados == 7)/veces + sum(resultados == 11)/veces))"
   ]
  },
  {
   "cell_type": "markdown",
   "id": "a48bc43f-cd5c-41cc-af47-12eb0a166320",
   "metadata": {},
   "source": [
    "**2.5. Suponga que jugó 10 veces y obtuvo una ganancia de $ 30. ¡Qué fácil parece ser el juego! ¡Debería\n",
    "seguir jugando! ¿Es correcta la suposición? Demostrar con una simulación.**"
   ]
  },
  {
   "cell_type": "markdown",
   "id": "dc693cef-a654-4814-8373-66c6e43fc4c1",
   "metadata": {},
   "source": [
    "Esta afirmación puede ser respondida al calcular la esperanza matemática del juego.\n",
    "$$ E(X) = 3 \\cdot P(7) + 5 \\cdot P(11) - 0.7 \\cdot (1 - P(7) - P(11)) $$\n",
    "Reemplazando los valores de probabilidad de ocurrencia, la ganancia esperada por juego es de:\n",
    "$$ E(X) = 3 \\cdot \\frac{6}{36} + 5 \\cdot \\frac{2}{36} - 0.7 \\cdot \\frac{28}{36} = 0.23333 $$\n",
    "Si se juega, por ejemplo 10000 veces, la ganancia esperada es de:\n",
    "$$ n \\cdot E(X) = 10000 \\cdot 0.23333 = 2333.3 $$\n",
    "La conclusión a la que se arriba, es que debería seguir jugando, ya que el valor esperado del juego es positivo. También es posible arribar a esta conclusión mediante una simulación:"
   ]
  },
  {
   "cell_type": "code",
   "execution_count": 24,
   "id": "865bc5b4-176f-453c-b15e-e0afccfa6a2e",
   "metadata": {},
   "outputs": [
    {
     "name": "stdout",
     "output_type": "stream",
     "text": [
      "[1] \"Ganancia: 2373.4\"\n"
     ]
    }
   ],
   "source": [
    "veces <- 10000\n",
    "resultados <- replicate(veces, Roll1Dice() + Roll1Dice())\n",
    "\n",
    "print(paste(\"Ganancia:\", sum(resultados == 7) * 3 + sum(resultados == 11) * 5 - \n",
    "            sum((resultados != 7) & (resultados != 11)) * 0.7))"
   ]
  },
  {
   "cell_type": "markdown",
   "id": "13e57136-dda5-4bac-8756-c035fc1455da",
   "metadata": {},
   "source": [
    "**2.6. Ahora dicha persona te ofrece disminuir el monto a pagar a $ 0.68. ¿Deberías aceptarlo?**"
   ]
  },
  {
   "cell_type": "markdown",
   "id": "0b3fd00c-c46a-4003-b44e-dbc6b298cba0",
   "metadata": {},
   "source": [
    "La penalidad por no obtener un 7 o un 11 en la tirada de dados es menor, por lo que la ganancia esperada por jugada aumenta:\n",
    "$$ E(X) = 3 \\cdot \\frac{6}{36} + 5 \\cdot \\frac{2}{36} - 0.68 \\cdot \\frac{28}{36} = 0.24888 $$"
   ]
  },
  {
   "cell_type": "markdown",
   "id": "822a8993-ec17-40ff-8fb5-cf086dc35893",
   "metadata": {},
   "source": [
    "# Ejercicio N°3 - Variables Aleatorias"
   ]
  },
  {
   "cell_type": "markdown",
   "id": "61ffe202-0bb2-4575-b526-0afd5a6ef3f5",
   "metadata": {},
   "source": [
    "**3.1. Simular la suma de dos variables normales mediante la función rnorm(x,mu,sigma) en R con media\n",
    "igual a 0 y desvío igual a 1. Probar con el tamaño de muestra n = 10 y n = 100. ¿Qué observa si\n",
    "grafica ambos objetos?**"
   ]
  },
  {
   "cell_type": "code",
   "execution_count": 25,
   "id": "c266af17-d17d-4454-8fce-bafe6e196f19",
   "metadata": {},
   "outputs": [
    {
     "data": {
      "image/png": "[encoded data removed]",
      "text/plain": [
       "Plot with title \"Suma de var. normales (n = 100)\""
      ]
     },
     "metadata": {
      "image/png": {
       "height": 420,
       "width": 420
      }
     },
     "output_type": "display_data"
    }
   ],
   "source": [
    "n <- c(10, 100) \n",
    "\n",
    "for (valor in n) {\n",
    "    nombre_variable <- paste0(\"suma_n\", valor)\n",
    "    assign(nombre_variable, NULL)\n",
    "    \n",
    "    for (i in 1:valor) {\n",
    "        suma <- rnorm(1, 0, 1) + rnorm(1, 0, 1)\n",
    "        assign(nombre_variable, c(get(nombre_variable), suma), envir = .GlobalEnv)\n",
    "    }\n",
    "}\n",
    "\n",
    "par(mfrow = c(1, 2))  # Organizar los gráficos en una fila de dos columnas\n",
    "\n",
    "hist(suma_n10, breaks = 20, main = \"Suma de var. normales (n = 10)\", \n",
    "     xlab = \"Valor de la Suma\")\n",
    "hist(suma_n100, breaks = 20, main = \"Suma de var. normales (n = 100)\", \n",
    "     xlab = \"Valor de la Suma\")\n",
    "\n",
    "par(mfrow = c(1, 1))"
   ]
  },
  {
   "cell_type": "markdown",
   "id": "e932fdae-90d1-41d1-8896-90a704b7b412",
   "metadata": {},
   "source": [
    "**3.2. Simular la suma de dos variables normales mediante la función rnorm(x,mu,sigma) en R con media\n",
    "igual a 0 y desvío igual a 1. Probar con distintos valores de tamaño de muestra. Podría probar con n =\n",
    "100, n = 1000, n = 10000, n = 100000. Gráficar para estos distintos valores de muestra. Comprobar\n",
    "que la media (valor esperado) es igual a la suma de sus valores esperados y la varianza es igual a la\n",
    "suma de varianzas individuales.**"
   ]
  },
  {
   "cell_type": "code",
   "execution_count": 26,
   "id": "8c2cf5b6-6da3-4b35-a9c0-cd43b1a6f27a",
   "metadata": {},
   "outputs": [
    {
     "data": {
      "image/png": "[encoded data removed]",
      "text/plain": [
       "Plot with title \"Suma de var. normales (n = 100000)\""
      ]
     },
     "metadata": {
      "image/png": {
       "height": 420,
       "width": 420
      }
     },
     "output_type": "display_data"
    }
   ],
   "source": [
    "options(scipen = 999) \n",
    "n <- c(100, 1000, 10000, 100000)\n",
    "\n",
    "for (valor in n) {\n",
    "    nombre_matriz <- paste0(\"datos_n\", valor)\n",
    "    datos <- matrix(NA, nrow = valor, ncol = 2)\n",
    "\n",
    "    for (i in 1:valor) {\n",
    "        datos[i, 1] <- rnorm(1, 0, 1)\n",
    "        datos[i, 2] <- rnorm(1, 0, 1)\n",
    "    }\n",
    "    assign(nombre_matriz, datos, envir = .GlobalEnv)\n",
    "}\n",
    "\n",
    "par(mfrow = c(2, 2)) \n",
    "\n",
    "hist(rowSums(datos_n100), \n",
    "     breaks = 20, main = \"Suma de var. normales (n = 100)\", xlab = \"Valor de la Suma\")\n",
    "hist(rowSums(datos_n1000), \n",
    "     breaks = 20, main = \"Suma de var. normales (n = 1000)\", xlab = \"Valor de la Suma\")\n",
    "hist(rowSums(datos_n10000), \n",
    "     breaks = 20, main = \"Suma de var. normales (n = 10000)\", xlab = \"Valor de la Suma\")\n",
    "hist(rowSums(datos_n100000), \n",
    "     breaks = 20, main = \"Suma de var. normales (n = 100000)\", xlab = \"Valor de la Suma\")\n",
    "\n",
    "par(mfrow = c(1, 1))"
   ]
  },
  {
   "cell_type": "code",
   "execution_count": 27,
   "id": "8f92cf07-3384-42e4-a057-7f120a029e06",
   "metadata": {},
   "outputs": [
    {
     "name": "stdout",
     "output_type": "stream",
     "text": [
      "[1] \"Para la matriz datos_n100\"\n",
      "[1] \"Media de la suma: -0.0632288379607235\"\n",
      "[1] \"Suma de las medias: -0.0632288379607235\"\n",
      "[1] \"Varianza de la suma: 2.15539593443556\"\n",
      "[1] \"Suma de las varianza: 2.15539593443556\"\n",
      "\n",
      "[1] \"Para la matriz datos_n1000\"\n",
      "[1] \"Media de la suma: 0.0117383382620096\"\n",
      "[1] \"Suma de las medias: 0.0117383382620096\"\n",
      "[1] \"Varianza de la suma: 1.91476000820771\"\n",
      "[1] \"Suma de las varianza: 1.91476000820771\"\n",
      "\n",
      "[1] \"Para la matriz datos_n10000\"\n",
      "[1] \"Media de la suma: -0.00722844789776151\"\n",
      "[1] \"Suma de las medias: -0.00722844789776151\"\n",
      "[1] \"Varianza de la suma: 1.9918779220084\"\n",
      "[1] \"Suma de las varianza: 1.9918779220084\"\n",
      "\n",
      "[1] \"Para la matriz datos_n100000\"\n",
      "[1] \"Media de la suma: -0.00590240107202146\"\n",
      "[1] \"Suma de las medias: -0.00590240107202146\"\n",
      "[1] \"Varianza de la suma: 2.00765217933784\"\n",
      "[1] \"Suma de las varianza: 2.00765217933784\"\n",
      "\n"
     ]
    }
   ],
   "source": [
    "nombres_matrices <- c(\"datos_n100\", \"datos_n1000\", \"datos_n10000\", \"datos_n100000\")\n",
    "\n",
    "for (nombre_matriz in nombres_matrices) {\n",
    "    print(paste(\"Para la matriz\", nombre_matriz))\n",
    "    print(paste(\"Media de la suma:\", sum(apply(get(nombre_matriz), 2, mean))))\n",
    "    print(paste(\"Suma de las medias:\", mean(get(nombre_matriz)[, 1]) \n",
    "                + mean(get(nombre_matriz)[, 2])))\n",
    "    print(paste(\"Varianza de la suma:\", sum(apply(get(nombre_matriz), 2, var))))\n",
    "    print(paste(\"Suma de las varianza:\", var(get(nombre_matriz)[, 1]) \n",
    "                + var(get(nombre_matriz)[, 2])))\n",
    "    cat(\"\\n\")\n",
    "}"
   ]
  },
  {
   "cell_type": "markdown",
   "id": "470e8957-271f-443c-99dc-92643c9d97df",
   "metadata": {},
   "source": [
    "**3.3. Simular la suma de diez variables normales mediante la función rnorm en R con media igual a 0 y\n",
    "desvío igual a 1. Probar con distintos valores de tamaño de muestra. Podría probar con n = 100, n\n",
    "= 1000, n = 10000, n = 100000. Gráficar para estos distintos valores de muestra. Comprobar que la\n",
    "media (valor esperado) es igual a la suma de sus valores esperados y la varianza es igual a la suma de\n",
    "varianzas individuales.**"
   ]
  },
  {
   "cell_type": "code",
   "execution_count": 28,
   "id": "b9f755a9-de2c-4fae-aabd-c965da4d16aa",
   "metadata": {},
   "outputs": [
    {
     "data": {
      "image/png": "[encoded data removed]",
      "text/plain": [
       "Plot with title \"Suma de var. normales (n = 100000)\""
      ]
     },
     "metadata": {
      "image/png": {
       "height": 420,
       "width": 420
      }
     },
     "output_type": "display_data"
    }
   ],
   "source": [
    "options(scipen = 999) \n",
    "n <- c(100, 1000, 10000, 100000)\n",
    "\n",
    "for (valor in n) {\n",
    "    nombre_matriz <- paste0(\"datos_n\", valor)\n",
    "    datos <- matrix(NA, nrow = valor, ncol = 10)\n",
    "    \n",
    "    for (i in 1:valor) {\n",
    "        for (j in 1:10) {\n",
    "            datos[i, j] <- rnorm(1, 0, 1)\n",
    "        }\n",
    "    }\n",
    "    assign(nombre_matriz, datos, envir = .GlobalEnv)\n",
    "}\n",
    "\n",
    "par(mfrow = c(2, 2))\n",
    "\n",
    "hist(rowSums(datos_n100), \n",
    "     breaks = 20, main = \"Suma de var. normales (n = 100)\", xlab = \"Valor de la Suma\")\n",
    "hist(rowSums(datos_n1000), \n",
    "     breaks = 20, main = \"Suma de var. normales (n = 1000)\", xlab = \"Valor de la Suma\")\n",
    "hist(rowSums(datos_n10000), \n",
    "     breaks = 20, main = \"Suma de var. normales (n = 10000)\", xlab = \"Valor de la Suma\")\n",
    "hist(rowSums(datos_n100000), \n",
    "     breaks = 20, main = \"Suma de var. normales (n = 100000)\", xlab = \"Valor de la Suma\")\n",
    "\n",
    "par(mfrow = c(1, 1))"
   ]
  },
  {
   "cell_type": "markdown",
   "id": "cca65ef9-a9e5-4df5-9d7e-d674e1fac6b6",
   "metadata": {},
   "source": [
    "**3.4. Extra: Probar lo anterior pero sumando normales con distintas medias y desvíos.**"
   ]
  },
  {
   "cell_type": "code",
   "execution_count": 29,
   "id": "ad99ae8e-9314-41ca-96c3-357dde9edafb",
   "metadata": {},
   "outputs": [
    {
     "data": {
      "image/png": "[encoded data removed]",
      "text/plain": [
       "Plot with title \"Suma de var. normales (n = 100000)\""
      ]
     },
     "metadata": {
      "image/png": {
       "height": 420,
       "width": 420
      }
     },
     "output_type": "display_data"
    }
   ],
   "source": [
    "options(scipen = 999) \n",
    "n <- c(100, 1000, 10000, 100000)\n",
    "\n",
    "for (valor in n) {\n",
    "    nombre_matriz <- paste0(\"datos_n\", valor)\n",
    "    datos <- matrix(NA, nrow = valor, ncol = 10)\n",
    "\n",
    "    for (i in 1:valor) {\n",
    "        for (j in 1:10) {\n",
    "            datos[i, j] <- rnorm(1, sample(1:100, 1), sample(1:100, 1))\n",
    "        }\n",
    "    }\n",
    "    assign(nombre_matriz, datos, envir = .GlobalEnv)\n",
    "}\n",
    "\n",
    "par(mfrow = c(2, 2))\n",
    "\n",
    "hist(rowSums(datos_n100), \n",
    "     breaks = 15, main = \"Suma de var. normales (n = 100)\", xlab = \"Valor de la Suma\")\n",
    "hist(rowSums(datos_n1000), \n",
    "     breaks = 20, main = \"Suma de var. normales (n = 1000)\", xlab = \"Valor de la Suma\")\n",
    "hist(rowSums(datos_n10000), \n",
    "     breaks = 25, main = \"Suma de var. normales (n = 10000)\", xlab = \"Valor de la Suma\")\n",
    "hist(rowSums(datos_n100000), \n",
    "     breaks = 30, main = \"Suma de var. normales (n = 100000)\", xlab = \"Valor de la Suma\")\n",
    "\n",
    "par(mfrow = c(1, 1))"
   ]
  },
  {
   "cell_type": "markdown",
   "id": "d6a9e758-69d6-4b89-bf94-63be2af9d5c8",
   "metadata": {},
   "source": [
    "# Ejercicio N°4 - Teorema Central del Límite"
   ]
  },
  {
   "cell_type": "markdown",
   "id": "7de14558-0a6b-47dc-8a7e-d544708f34fc",
   "metadata": {},
   "source": [
    "**4.1. Poisson de parámetro λ = 1.3**"
   ]
  },
  {
   "cell_type": "code",
   "execution_count": 30,
   "id": "b2642e50-de2e-442d-9e64-18e527f87343",
   "metadata": {},
   "outputs": [
    {
     "data": {
      "image/png": "[encoded data removed]",
      "text/plain": [
       "Plot with title \"Distribución de las medias de muestras de Poisson(λ = 1.3)\""
      ]
     },
     "metadata": {
      "image/png": {
       "height": 420,
       "width": 420
      }
     },
     "output_type": "display_data"
    }
   ],
   "source": [
    "lambda <- 1.3\n",
    "n_muestras <- 5000 \n",
    "tamaño_muestra <- 100\n",
    "\n",
    "medias_muestras <- replicate(n_muestras, mean(rpois(tamaño_muestra, lambda)))\n",
    "\n",
    "hist(medias_muestras, breaks = 20, probability = TRUE, \n",
    "     main = \"Distribución de las medias de muestras de Poisson(λ = 1.3)\",\n",
    "     xlab = \"Media de las muestras\", ylab = \"Densidad\")\n",
    "\n",
    "x <- seq(min(medias_muestras), max(medias_muestras), length = 100)\n",
    "y <- dnorm(x, mean = lambda, sd = sqrt(lambda/tamaño_muestra))\n",
    "lines(x, y, col = \"red\", lwd = 2)"
   ]
  },
  {
   "cell_type": "markdown",
   "id": "2e0902fb-9a32-4e96-ab6d-7efdbff6a028",
   "metadata": {},
   "source": [
    "**4.2. Exponencial de parámetro μ = 1.5**"
   ]
  },
  {
   "cell_type": "code",
   "execution_count": 31,
   "id": "0386f137-b2cd-4690-87b0-310beec59aa6",
   "metadata": {},
   "outputs": [
    {
     "data": {
      "image/png": "[encoded data removed]",
      "text/plain": [
       "Plot with title \"Distribución de las medias de muestras Exponenciales(μ = 1.5)\""
      ]
     },
     "metadata": {
      "image/png": {
       "height": 420,
       "width": 420
      }
     },
     "output_type": "display_data"
    }
   ],
   "source": [
    "mu <- 1.5\n",
    "lambda <- 1 / mu\n",
    "n_muestras <- 5000\n",
    "tamaño_muestra <- 100\n",
    "\n",
    "set.seed(58)\n",
    "medias_muestras <- replicate(n_muestras, mean(rexp(tamaño_muestra, lambda)))\n",
    "\n",
    "hist(medias_muestras, breaks = 20, probability = TRUE, \n",
    "     main = \"Distribución de las medias de muestras Exponenciales(μ = 1.5)\",\n",
    "     xlab = \"Media de las muestras\", ylab = \"Densidad\", border = \"black\")\n",
    "\n",
    "curve(dnorm(x, mean = mean(medias_muestras), sd = sd(medias_muestras)), \n",
    "      add = TRUE, col = \"red\", lwd = 2)"
   ]
  },
  {
   "cell_type": "markdown",
   "id": "e5fc94fa-9924-488b-ad76-60e522666539",
   "metadata": {},
   "source": [
    "**4.3. Uniforme en el intervalo [5,10]**"
   ]
  },
  {
   "cell_type": "code",
   "execution_count": 32,
   "id": "fd011e45-870f-4de0-9624-10eef70af78b",
   "metadata": {},
   "outputs": [],
   "source": [
    "min_val <- 5\n",
    "max_val <- 10\n",
    "n_muestras <- 5000 \n",
    "tamaño_muestra <- 100"
   ]
  },
  {
   "cell_type": "code",
   "execution_count": 33,
   "id": "57837721-966d-41c2-9f43-8f6fefaa2aa3",
   "metadata": {},
   "outputs": [],
   "source": [
    "set.seed(32)\n",
    "medias_muestras <- replicate(n_muestras, \n",
    "                             mean(runif(tamaño_muestra, min = min_val, max = max_val)))"
   ]
  },
  {
   "cell_type": "code",
   "execution_count": 34,
   "id": "5be2e67f-2b01-4f5d-a661-9164c3efba5b",
   "metadata": {},
   "outputs": [
    {
     "data": {
      "image/png": "[encoded data removed]",
      "text/plain": [
       "Plot with title \"Distribución de las medias de muestras Uniformes[5, 10]\""
      ]
     },
     "metadata": {
      "image/png": {
       "height": 420,
       "width": 420
      }
     },
     "output_type": "display_data"
    }
   ],
   "source": [
    "hist(medias_muestras, breaks = 20, probability = TRUE, \n",
    "     main = \"Distribución de las medias de muestras Uniformes[5, 10]\",\n",
    "     xlab = \"Media de las muestras\", ylab = \"Densidad\", border = \"black\")\n",
    "\n",
    "curve(dnorm(x, mean = mean(medias_muestras), sd = sd(medias_muestras)), \n",
    "      add = TRUE, col = \"red\", lwd = 2)"
   ]
  },
  {
   "cell_type": "markdown",
   "id": "7c9bd948-3c7c-4d27-9eec-ea0c0b7031a9",
   "metadata": {},
   "source": [
    "**4.4. Weibull de parámetros shape = 1.2 y scale = 0.5**"
   ]
  },
  {
   "cell_type": "code",
   "execution_count": 35,
   "id": "d86330ca-619f-4216-a65d-76b5b9d6af87",
   "metadata": {},
   "outputs": [],
   "source": [
    "shape <- 1.2\n",
    "scale <- 0.5\n",
    "n_muestras <- 5000 \n",
    "tamaño_muestra <- 100  "
   ]
  },
  {
   "cell_type": "code",
   "execution_count": 36,
   "id": "8ed0109f-1412-455b-a951-ae255804110e",
   "metadata": {},
   "outputs": [],
   "source": [
    "set.seed(69)\n",
    "medias_muestras <- replicate(n_muestras, \n",
    "                             mean(rweibull(tamaño_muestra, shape, scale)))"
   ]
  },
  {
   "cell_type": "code",
   "execution_count": 37,
   "id": "fc211025-0a77-450b-aba2-3414f0d34438",
   "metadata": {},
   "outputs": [
    {
     "data": {
      "image/png": "[encoded data removed]",
      "text/plain": [
       "Plot with title \"Distribución de las medias de muestras Weibull(shape = 1.2, scale = 0.5)\""
      ]
     },
     "metadata": {
      "image/png": {
       "height": 420,
       "width": 420
      }
     },
     "output_type": "display_data"
    }
   ],
   "source": [
    "# Graficar el histograma de las medias de las muestras\n",
    "hist(medias_muestras, breaks = 20, probability = TRUE, \n",
    "     main = \"Distribución de las medias de muestras Weibull(shape = 1.2, scale = 0.5)\",\n",
    "     xlab = \"Media de las muestras\", ylab = \"Densidad\", border = \"black\")\n",
    "\n",
    "# Superponer la densidad normal teórica\n",
    "curve(dnorm(x, mean = mean(medias_muestras), sd = sd(medias_muestras)), \n",
    "      add = TRUE, col = \"red\", lwd = 2)"
   ]
  },
  {
   "cell_type": "markdown",
   "id": "3e0dff3e-9dc2-44f7-a1ea-2f826c44233d",
   "metadata": {},
   "source": [
    "# Ejercicio N°5"
   ]
  },
  {
   "cell_type": "markdown",
   "id": "e80449d2-2821-49d1-ac6e-2c07ce30639c",
   "metadata": {},
   "source": [
    "**Proceda a cargar el siguiente dataset de un repositorio en github,**"
   ]
  },
  {
   "cell_type": "code",
   "execution_count": 38,
   "id": "c9409958-11bf-42e2-9e8f-bbe6d2ab1f06",
   "metadata": {},
   "outputs": [],
   "source": [
    "# install.packages(\"repmis\")"
   ]
  },
  {
   "cell_type": "code",
   "execution_count": 39,
   "id": "36870779-a6c8-4ca6-a75f-904172ae6699",
   "metadata": {},
   "outputs": [
    {
     "name": "stderr",
     "output_type": "stream",
     "text": [
      "Downloading data from: https://github.com/hllinas/DatosPublicos/blob/main/Estudiantes.Rdata?raw=false \n",
      "\n",
      "\n",
      "SHA-1 hash of the downloaded data file is:\n",
      "6bf9d5a19779293538bd61d55d0662bdaf8100a1\n",
      "\n"
     ]
    },
    {
     "data": {
      "text/html": [
       "'Estudiantes'"
      ],
      "text/latex": [
       "'Estudiantes'"
      ],
      "text/markdown": [
       "'Estudiantes'"
      ],
      "text/plain": [
       "[1] \"Estudiantes\""
      ]
     },
     "metadata": {},
     "output_type": "display_data"
    }
   ],
   "source": [
    "url = \"https://github.com/hllinas/DatosPublicos/blob/main/Estudiantes.Rdata?raw=false\"\n",
    "repmis::source_data(url)\n",
    "datos <- Estudiantes"
   ]
  },
  {
   "cell_type": "markdown",
   "id": "9ad499c4-8afe-4e01-a5f7-24ee1078e5b1",
   "metadata": {},
   "source": [
    "**Realizar los siguientes ejercicios. Interprete todas sus respuestas.**"
   ]
  },
  {
   "cell_type": "markdown",
   "id": "a6171e0d-656b-465a-872c-70c7b273506c",
   "metadata": {},
   "source": [
    "**a) Considerar solamente las observaciones que van desde la 2 hasta la 35 y definir el data frame “datos2a35”. Verificar su tamaño, variables y estructura.**"
   ]
  },
  {
   "cell_type": "code",
   "execution_count": 40,
   "id": "28798009-e4bb-47e7-a8a3-e0e83ab1ae45",
   "metadata": {},
   "outputs": [],
   "source": [
    "datos2a35 <- datos[2:35, ]"
   ]
  },
  {
   "cell_type": "markdown",
   "id": "d96372e9-1a54-4ad3-b215-38302109368c",
   "metadata": {},
   "source": [
    "Tamaño de datos2a35:"
   ]
  },
  {
   "cell_type": "code",
   "execution_count": 41,
   "id": "626818d9-da1a-4b93-b145-b7e34b9377b4",
   "metadata": {},
   "outputs": [
    {
     "data": {
      "text/html": [
       "<style>\n",
       ".list-inline {list-style: none; margin:0; padding: 0}\n",
       ".list-inline>li {display: inline-block}\n",
       ".list-inline>li:not(:last-child)::after {content: \"\\00b7\"; padding: 0 .5ex}\n",
       "</style>\n",
       "<ol class=list-inline><li>34</li><li>46</li></ol>\n"
      ],
      "text/latex": [
       "\\begin{enumerate*}\n",
       "\\item 34\n",
       "\\item 46\n",
       "\\end{enumerate*}\n"
      ],
      "text/markdown": [
       "1. 34\n",
       "2. 46\n",
       "\n",
       "\n"
      ],
      "text/plain": [
       "[1] 34 46"
      ]
     },
     "metadata": {},
     "output_type": "display_data"
    }
   ],
   "source": [
    "dim(datos2a35) # tamaño"
   ]
  },
  {
   "cell_type": "markdown",
   "id": "c1d0f0e9-9711-4101-aa1c-5437f81b2d98",
   "metadata": {},
   "source": [
    "Variables de datos2a35:"
   ]
  },
  {
   "cell_type": "code",
   "execution_count": 42,
   "id": "a1f8ac5b-d1e2-492f-8092-b4b18ab2035d",
   "metadata": {},
   "outputs": [
    {
     "data": {
      "text/html": [
       "<style>\n",
       ".list-inline {list-style: none; margin:0; padding: 0}\n",
       ".list-inline>li {display: inline-block}\n",
       ".list-inline>li:not(:last-child)::after {content: \"\\00b7\"; padding: 0 .5ex}\n",
       "</style>\n",
       "<ol class=list-inline><li>'Observacion'</li><li>'ID'</li><li>'Sexo'</li><li>'SexoNum'</li><li>'Edad'</li><li>'Fuma'</li><li>'Estatura'</li><li>'Colegio'</li><li>'Estrato'</li><li>'Financiacion'</li><li>'Acumulado'</li><li>'P1'</li><li>'P2'</li><li>'P3'</li><li>'Final'</li><li>'Definitiva'</li><li>'Gastos'</li><li>'Ingreso'</li><li>'Gas'</li><li>'Clases'</li><li>'Ley'</li><li>'PandemiaCat'</li><li>'PandemiaNum'</li><li>'Likert1'</li><li>'Likert2'</li><li>'Likert3'</li><li>'Likert4'</li><li>'Likert5'</li><li>'AGPEQ1'</li><li>'AGPEQ2'</li><li>'AGPEQ3'</li><li>'SATS1'</li><li>'SATS2'</li><li>'SATS3'</li><li>'SATS4'</li><li>'IDARE1.1'</li><li>'IDARE1.2'</li><li>'IDARE1.3'</li><li>'IDARE1.4'</li><li>'IDARE1.5'</li><li>'IDARE2.6'</li><li>'IDARE2.7'</li><li>'IDARE2.8'</li><li>'IDARE2.9'</li><li>'IDARE2.10'</li><li>'Puntaje'</li></ol>\n"
      ],
      "text/latex": [
       "\\begin{enumerate*}\n",
       "\\item 'Observacion'\n",
       "\\item 'ID'\n",
       "\\item 'Sexo'\n",
       "\\item 'SexoNum'\n",
       "\\item 'Edad'\n",
       "\\item 'Fuma'\n",
       "\\item 'Estatura'\n",
       "\\item 'Colegio'\n",
       "\\item 'Estrato'\n",
       "\\item 'Financiacion'\n",
       "\\item 'Acumulado'\n",
       "\\item 'P1'\n",
       "\\item 'P2'\n",
       "\\item 'P3'\n",
       "\\item 'Final'\n",
       "\\item 'Definitiva'\n",
       "\\item 'Gastos'\n",
       "\\item 'Ingreso'\n",
       "\\item 'Gas'\n",
       "\\item 'Clases'\n",
       "\\item 'Ley'\n",
       "\\item 'PandemiaCat'\n",
       "\\item 'PandemiaNum'\n",
       "\\item 'Likert1'\n",
       "\\item 'Likert2'\n",
       "\\item 'Likert3'\n",
       "\\item 'Likert4'\n",
       "\\item 'Likert5'\n",
       "\\item 'AGPEQ1'\n",
       "\\item 'AGPEQ2'\n",
       "\\item 'AGPEQ3'\n",
       "\\item 'SATS1'\n",
       "\\item 'SATS2'\n",
       "\\item 'SATS3'\n",
       "\\item 'SATS4'\n",
       "\\item 'IDARE1.1'\n",
       "\\item 'IDARE1.2'\n",
       "\\item 'IDARE1.3'\n",
       "\\item 'IDARE1.4'\n",
       "\\item 'IDARE1.5'\n",
       "\\item 'IDARE2.6'\n",
       "\\item 'IDARE2.7'\n",
       "\\item 'IDARE2.8'\n",
       "\\item 'IDARE2.9'\n",
       "\\item 'IDARE2.10'\n",
       "\\item 'Puntaje'\n",
       "\\end{enumerate*}\n"
      ],
      "text/markdown": [
       "1. 'Observacion'\n",
       "2. 'ID'\n",
       "3. 'Sexo'\n",
       "4. 'SexoNum'\n",
       "5. 'Edad'\n",
       "6. 'Fuma'\n",
       "7. 'Estatura'\n",
       "8. 'Colegio'\n",
       "9. 'Estrato'\n",
       "10. 'Financiacion'\n",
       "11. 'Acumulado'\n",
       "12. 'P1'\n",
       "13. 'P2'\n",
       "14. 'P3'\n",
       "15. 'Final'\n",
       "16. 'Definitiva'\n",
       "17. 'Gastos'\n",
       "18. 'Ingreso'\n",
       "19. 'Gas'\n",
       "20. 'Clases'\n",
       "21. 'Ley'\n",
       "22. 'PandemiaCat'\n",
       "23. 'PandemiaNum'\n",
       "24. 'Likert1'\n",
       "25. 'Likert2'\n",
       "26. 'Likert3'\n",
       "27. 'Likert4'\n",
       "28. 'Likert5'\n",
       "29. 'AGPEQ1'\n",
       "30. 'AGPEQ2'\n",
       "31. 'AGPEQ3'\n",
       "32. 'SATS1'\n",
       "33. 'SATS2'\n",
       "34. 'SATS3'\n",
       "35. 'SATS4'\n",
       "36. 'IDARE1.1'\n",
       "37. 'IDARE1.2'\n",
       "38. 'IDARE1.3'\n",
       "39. 'IDARE1.4'\n",
       "40. 'IDARE1.5'\n",
       "41. 'IDARE2.6'\n",
       "42. 'IDARE2.7'\n",
       "43. 'IDARE2.8'\n",
       "44. 'IDARE2.9'\n",
       "45. 'IDARE2.10'\n",
       "46. 'Puntaje'\n",
       "\n",
       "\n"
      ],
      "text/plain": [
       " [1] \"Observacion\"  \"ID\"           \"Sexo\"         \"SexoNum\"      \"Edad\"        \n",
       " [6] \"Fuma\"         \"Estatura\"     \"Colegio\"      \"Estrato\"      \"Financiacion\"\n",
       "[11] \"Acumulado\"    \"P1\"           \"P2\"           \"P3\"           \"Final\"       \n",
       "[16] \"Definitiva\"   \"Gastos\"       \"Ingreso\"      \"Gas\"          \"Clases\"      \n",
       "[21] \"Ley\"          \"PandemiaCat\"  \"PandemiaNum\"  \"Likert1\"      \"Likert2\"     \n",
       "[26] \"Likert3\"      \"Likert4\"      \"Likert5\"      \"AGPEQ1\"       \"AGPEQ2\"      \n",
       "[31] \"AGPEQ3\"       \"SATS1\"        \"SATS2\"        \"SATS3\"        \"SATS4\"       \n",
       "[36] \"IDARE1.1\"     \"IDARE1.2\"     \"IDARE1.3\"     \"IDARE1.4\"     \"IDARE1.5\"    \n",
       "[41] \"IDARE2.6\"     \"IDARE2.7\"     \"IDARE2.8\"     \"IDARE2.9\"     \"IDARE2.10\"   \n",
       "[46] \"Puntaje\"     "
      ]
     },
     "metadata": {},
     "output_type": "display_data"
    }
   ],
   "source": [
    "names(datos2a35)"
   ]
  },
  {
   "cell_type": "markdown",
   "id": "99e98596-2861-41c9-ba60-17250bafe88e",
   "metadata": {},
   "source": [
    "Estructura de datos2a35:"
   ]
  },
  {
   "cell_type": "code",
   "execution_count": 43,
   "id": "57d88edd-2a0f-427a-8547-21192c12ff5e",
   "metadata": {},
   "outputs": [
    {
     "name": "stdout",
     "output_type": "stream",
     "text": [
      "Classes 'tbl_df', 'tbl' and 'data.frame':\t34 obs. of  46 variables:\n",
      " $ Observacion : num  2 3 4 5 6 7 8 9 10 11 ...\n",
      " $ ID          : chr  \"SB11201910004475\" \"SB11201910011427\" \"SB11201910041975\" \"SB11201910013623\" ...\n",
      " $ Sexo        : chr  \"Masculino\" \"Masculino\" \"Masculino\" \"Femenino\" ...\n",
      " $ SexoNum     : num  1 1 1 0 0 0 0 0 1 0 ...\n",
      " $ Edad        : chr  \"21.07\" \"20.92\" \"18.41\" \"16.64\" ...\n",
      " $ Fuma        : chr  \"Si\" \"Si\" \"Si\" \"Si\" ...\n",
      " $ Estatura    : chr  \"Baja\" \"Alta\" \"Alta\" \"Alta\" ...\n",
      " $ Colegio     : chr  \"Privado\" \"Privado\" \"Privado\" \"Privado\" ...\n",
      " $ Estrato     : num  2 2 2 1 2 1 1 2 1 1 ...\n",
      " $ Financiacion: chr  \"Beca\" \"Beca\" \"Beca\" \"Beca\" ...\n",
      " $ Acumulado   : chr  \"3.96\" \"3.85\" \"3.69\" \"4.01\" ...\n",
      " $ P1          : chr  \"2.3\" \"3.4\" \"2.5\" \"3.1\" ...\n",
      " $ P2          : chr  \"4.9\" \"3.6\" \"4.2\" \"3.5\" ...\n",
      " $ P3          : chr  \"3.7\" \"2.0\" \"5.0\" \"5.0\" ...\n",
      " $ Final       : chr  \"3.3\" \"1.9\" \"2.5\" \"3.0\" ...\n",
      " $ Definitiva  : chr  \"3.55\" \"2.73\" \"3.55\" \"3.65\" ...\n",
      " $ Gastos      : chr  \"72.1\" \"85.2\" \"56.6\" \"64.6\" ...\n",
      " $ Ingreso     : chr  \"2.07\" \"2.84\" \"1.55\" \"2.32\" ...\n",
      " $ Gas         : chr  \"24.17\" \"22.27\" \"23.08\" \"27.26\" ...\n",
      " $ Clases      : chr  \"Presencial\" \"Virtual\" \"Virtual\" \"Virtual\" ...\n",
      " $ Ley         : chr  \"En desacuerdo\" \"En desacuerdo\" \"En desacuerdo\" \"En desacuerdo\" ...\n",
      " $ PandemiaCat : chr  \"De acuerdo\" \"De acuerdo\" \"De acuerdo\" \"Ni de acuerdo, ni en desacuerdo\" ...\n",
      " $ PandemiaNum : num  3 3 3 2 3 3 3 1 3 1 ...\n",
      " $ Likert1     : num  3 2 5 1 3 4 1 2 5 5 ...\n",
      " $ Likert2     : num  2 3 4 1 2 3 2 1 4 4 ...\n",
      " $ Likert3     : num  4 3 2 5 3 3 3 4 1 1 ...\n",
      " $ Likert4     : num  1 4 5 2 1 2 3 1 5 5 ...\n",
      " $ Likert5     : num  1 2 1 4 4 2 1 3 4 4 ...\n",
      " $ AGPEQ1      : chr  \"Ni de acuerdo, ni en desacuerdo\" \"De acuerdo\" \"De acuerdo\" \"Totalmente de acuerdo\" ...\n",
      " $ AGPEQ2      : chr  \"En desacuerdo\" \"En desacuerdo\" \"Ni de acuerdo, ni en desacuerdo\" \"Ni de acuerdo, ni en desacuerdo\" ...\n",
      " $ AGPEQ3      : chr  \"En desacuerdo\" \"De acuerdo\" \"Totalmente de acuerdo\" \"Totalmente en desacuerdo\" ...\n",
      " $ SATS1       : chr  \"En desacuerdo\" \"En desacuerdo\" \"Totalmente en desacuerdo\" \"Indeciso\" ...\n",
      " $ SATS2       : chr  \"De acuerdo\" \"Totalmente de acuerdo\" \"Totalmente de acuerdo\" \"De acuerdo\" ...\n",
      " $ SATS3       : chr  \"Indeciso\" \"Indeciso\" \"En desacuerdo\" \"En desacuerdo\" ...\n",
      " $ SATS4       : chr  \"Totalmente en desacuerdo\" \"De acuerdo\" \"De acuerdo\" \"Indeciso\" ...\n",
      " $ IDARE1.1    : chr  \"Bastante\" \"Bastante\" \"Poco\" \"Poco\" ...\n",
      " $ IDARE1.2    : chr  \"Poco\" \"Poco\" \"No en lo absoluto\" \"Poco\" ...\n",
      " $ IDARE1.3    : chr  \"Mucho\" \"Bastante\" \"Bastante\" \"Bastante\" ...\n",
      " $ IDARE1.4    : chr  \"No en lo absoluto\" \"Bastante\" \"Bastante\" \"Bastante\" ...\n",
      " $ IDARE1.5    : chr  \"Bastante\" \"Poco\" \"No en lo absoluto\" \"Poco\" ...\n",
      " $ IDARE2.6    : chr  \"Frecuentemente\" \"Algunas veces\" \"Casi siempre\" \"Algunas veces\" ...\n",
      " $ IDARE2.7    : chr  \"Algunas veces\" \"Algunas veces\" \"Frecuentemente\" \"Algunas veces\" ...\n",
      " $ IDARE2.8    : chr  \"Algunas veces\" \"Algunas veces\" \"Frecuentemente\" \"Frecuentemente\" ...\n",
      " $ IDARE2.9    : chr  \"Frecuentemente\" \"Frecuentemente\" \"Casi nunca\" \"Casi nunca\" ...\n",
      " $ IDARE2.10   : chr  \"Frecuentemente\" \"Algunas veces\" \"Algunas veces\" \"Casi nunca\" ...\n",
      " $ Puntaje     : num  78 77 70 68 65 54 50 36 35 35 ...\n"
     ]
    }
   ],
   "source": [
    "str(datos2a35)"
   ]
  },
  {
   "cell_type": "markdown",
   "id": "b05e133f-eca6-4de0-b709-c244e5ddc18e",
   "metadata": {},
   "source": [
    "**Todas los puntos siguientes resolverlo con el dataset “datos2a35”,**"
   ]
  },
  {
   "cell_type": "markdown",
   "id": "030a4fcd-30b7-47a9-b1bc-d20ae64d685a",
   "metadata": {},
   "source": [
    "**b) Definir el objeto “Sexo” (género de los estudiantes). Conviértalo en factor y diga cuáles son sus respectivos niveles.**"
   ]
  },
  {
   "cell_type": "code",
   "execution_count": 44,
   "id": "fb43797d-78cd-459b-9351-47a01cbac8d5",
   "metadata": {},
   "outputs": [],
   "source": [
    "Sexo <- as.factor(datos2a35$Sexo)"
   ]
  },
  {
   "cell_type": "markdown",
   "id": "f28047b5-406d-4b9d-9e7c-a722233426fa",
   "metadata": {},
   "source": [
    "Los niveles de la variable Sexo son los siguientes:"
   ]
  },
  {
   "cell_type": "code",
   "execution_count": 45,
   "id": "e6dc206c-49ef-471f-80ba-e1fe6badf7c1",
   "metadata": {},
   "outputs": [
    {
     "data": {
      "text/html": [
       "<style>\n",
       ".list-inline {list-style: none; margin:0; padding: 0}\n",
       ".list-inline>li {display: inline-block}\n",
       ".list-inline>li:not(:last-child)::after {content: \"\\00b7\"; padding: 0 .5ex}\n",
       "</style>\n",
       "<ol class=list-inline><li>'Femenino'</li><li>'Masculino'</li></ol>\n"
      ],
      "text/latex": [
       "\\begin{enumerate*}\n",
       "\\item 'Femenino'\n",
       "\\item 'Masculino'\n",
       "\\end{enumerate*}\n"
      ],
      "text/markdown": [
       "1. 'Femenino'\n",
       "2. 'Masculino'\n",
       "\n",
       "\n"
      ],
      "text/plain": [
       "[1] \"Femenino\"  \"Masculino\""
      ]
     },
     "metadata": {},
     "output_type": "display_data"
    }
   ],
   "source": [
    "levels(Sexo)"
   ]
  },
  {
   "cell_type": "markdown",
   "id": "d0211e21-173a-402b-ba31-8f4cd3a50890",
   "metadata": {},
   "source": [
    "**c) Construir una tabla de frecuencias para la variable Sexo y el diagrama de barras correspondiente.**"
   ]
  },
  {
   "cell_type": "code",
   "execution_count": 46,
   "id": "47ff9138-65a6-4b1a-998b-c76093fd5d7d",
   "metadata": {},
   "outputs": [
    {
     "name": "stdout",
     "output_type": "stream",
     "text": [
      "Tabla de Frecuencias para la variable Sexo\n",
      "\n",
      "Sexo\n",
      " Femenino Masculino \n",
      "       20        14 \n"
     ]
    }
   ],
   "source": [
    "cat(\"Tabla de Frecuencias para la variable Sexo\\n\\n\")\n",
    "tabla_frecuencias <- table(Sexo)\n",
    "print(tabla_frecuencias)"
   ]
  },
  {
   "cell_type": "code",
   "execution_count": 47,
   "id": "74a5030c-bf49-431b-92a8-f7c8f6c0f177",
   "metadata": {},
   "outputs": [
    {
     "data": {
      "image/png": "[encoded data removed]",
      "text/plain": [
       "Plot with title \"Distribución por Sexo\""
      ]
     },
     "metadata": {
      "image/png": {
       "height": 420,
       "width": 420
      }
     },
     "output_type": "display_data"
    }
   ],
   "source": [
    "barplot(tabla_frecuencias, main = \"Distribución por Sexo\", xlab = \"Sexo\", \n",
    "        ylab = \"Frecuencia\", col = c(\"lightblue\", \"lightpink\"))"
   ]
  },
  {
   "cell_type": "markdown",
   "id": "f49f10f4-5211-4c21-8946-f617149d1557",
   "metadata": {},
   "source": [
    "**d) Determinar la proporción de mujeres.**"
   ]
  },
  {
   "cell_type": "markdown",
   "id": "0ff93f19-c5ba-4f71-87c4-e9c0b99331e1",
   "metadata": {},
   "source": [
    "La proporción de mujeres en la muestra se obtiene dividiendo el número de ocurrencias de 'Femenino' entre el total de elementos de la variable 'Sexo':"
   ]
  },
  {
   "cell_type": "code",
   "execution_count": 48,
   "id": "ce7eb5b7-4f7b-43d8-a546-017c41cd9825",
   "metadata": {},
   "outputs": [
    {
     "data": {
      "text/html": [
       "0.5882"
      ],
      "text/latex": [
       "0.5882"
      ],
      "text/markdown": [
       "0.5882"
      ],
      "text/plain": [
       "[1] 0.5882"
      ]
     },
     "metadata": {},
     "output_type": "display_data"
    }
   ],
   "source": [
    "p_ <- sum(datos2a35$Sexo == 'Femenino') / length(Sexo)\n",
    "round(p_, 4)"
   ]
  },
  {
   "cell_type": "markdown",
   "id": "13e6b864-abb3-4c59-9c99-0226003acd3a",
   "metadata": {},
   "source": [
    "**e) Mediante el método de la región crítica: Al nivel del 5%, determine si el porcentaje poblacional de mujeres es menor o igual que el 30%. Escribir un resumen del enunciado del problema, verificar los supuestos, concluya, diga cuál es la fórmula, el valor de prueba, el valor crítico, la región crítica e interprete.**"
   ]
  },
  {
   "cell_type": "markdown",
   "id": "866d760c-8d39-495b-866e-3b20557653fd",
   "metadata": {},
   "source": [
    "**Resumen:** se busca determinar si el porcentaje poblacional de mujeres es menor o igual al 30% en una muestra de estudiantes. Para esto, se plantean las siguientes hipótesis:"
   ]
  },
  {
   "cell_type": "markdown",
   "id": "9af9c2d6-0767-46ae-bd02-d4cb35086c29",
   "metadata": {},
   "source": [
    "$$H_0: p ≤ 0.30$$\n",
    "$$H_1: p > 0.30$$"
   ]
  },
  {
   "cell_type": "markdown",
   "id": "35fb7d83-4ae0-4a01-8861-9d2b055f204b",
   "metadata": {},
   "source": [
    "**Supuestos:** la distribución de la proporción muestral se la pueda aproximar como una curva normal. Para verificar esto, es necesario que el tamaño de la muestra multiplicado por la proporción bajo hipótesis debe ser mayor a 10 [3]:\n",
    "\n",
    "$$np = 34 × 0.30 = 10.2$$\n",
    "\n",
    "Lo mismo debe esperarse al multiplicar el tamaño de la muestra por el recíproco de la proporción bajo hipótesis:\n",
    "\n",
    "$$n(1-p) = 34 × 0.70 = 23.8$$"
   ]
  },
  {
   "cell_type": "markdown",
   "id": "77836e4b-bfac-40c9-8369-29c3b7b12f66",
   "metadata": {},
   "source": [
    "**Fórmula:** en el cálculo se emplea el estadístico de prueba de proporciones para una muestra:"
   ]
  },
  {
   "cell_type": "markdown",
   "id": "4622c759-d10b-4cc4-8e0b-795b9958ef68",
   "metadata": {},
   "source": [
    "$$\n",
    "z = \\frac{\\hat{p} - p_0}{\\sqrt{\\frac{p_0 (1 - p_0)}{n}}}\n",
    "$$"
   ]
  },
  {
   "cell_type": "markdown",
   "id": "d5ce1041-ea93-4707-8e11-5eaa7981bc6b",
   "metadata": {},
   "source": [
    "**Valor Crítico y Valor de Prueba:**"
   ]
  },
  {
   "cell_type": "code",
   "execution_count": 49,
   "id": "6c4d11d2-467d-4dca-8187-48576459a53e",
   "metadata": {},
   "outputs": [],
   "source": [
    "p <- 0.30\n",
    "n <- nrow(datos2a35)\n",
    "alpha <- 0.05"
   ]
  },
  {
   "cell_type": "code",
   "execution_count": 50,
   "id": "08d240cc-81ad-4694-8cd1-b9a3a2927e32",
   "metadata": {},
   "outputs": [
    {
     "name": "stdout",
     "output_type": "stream",
     "text": [
      "[1] \"Valor Crítico (Zc): 1.64\"\n",
      "[1] \"Valor de Prueba (Zemp): 3.67\"\n"
     ]
    }
   ],
   "source": [
    "Zc <- qnorm(1 - alpha)\n",
    "Zemp <- (p_ - p) / sqrt(p * (1 - p) / n)\n",
    "\n",
    "print(paste(\"Valor Crítico (Zc):\", round(Zc,2)))\n",
    "print(paste(\"Valor de Prueba (Zemp):\", round(Zemp, 2)))"
   ]
  },
  {
   "cell_type": "markdown",
   "id": "9eeb9f53-f506-4d4b-b5ab-f3b3f050403e",
   "metadata": {},
   "source": [
    "**Región crítica:**"
   ]
  },
  {
   "cell_type": "code",
   "execution_count": 51,
   "id": "e4b4e587-c5c6-4ea4-b89f-f036d1cacede",
   "metadata": {},
   "outputs": [
    {
     "data": {
      "image/png": "[encoded data removed]",
      "text/plain": [
       "plot without title"
      ]
     },
     "metadata": {
      "image/png": {
       "height": 420,
       "width": 420
      }
     },
     "output_type": "display_data"
    }
   ],
   "source": [
    "library(ggplot2)\n",
    "\n",
    "x <- seq(-4, 4, length = 1000)\n",
    "y <- dnorm(x)\n",
    "data <- data.frame(x = x, y = y)\n",
    "\n",
    "ggplot(data, aes(x = x, y = y)) +\n",
    "  geom_line(color = \"blue\") +\n",
    "  geom_area(data = subset(data, x >= Zc), aes(y = y), fill = \"red\", alpha = 0.5) +\n",
    "  geom_vline(xintercept = Zc, color = \"red\", linetype = \"dashed\") +\n",
    "  geom_vline(xintercept = Zemp, color = \"black\", linetype = \"dashed\") +\n",
    "  labs(title = \"Distribución Normal con Región Crítica\", x = \"z\", \n",
    "       y = \"Densidad de Probabilidad\") +\n",
    "  annotate(\"text\", x = Zc - 0.5, y = 0.05, \n",
    "           label = paste(\"z =\", round(Zc, 2)), color = \"red\") +\n",
    "  annotate(\"text\", x = Zemp + 0.3, y = 0.05, \n",
    "           label = paste(\"Valor de Prueba =\", round(Zemp, 2)), color = \"black\")"
   ]
  },
  {
   "cell_type": "markdown",
   "id": "5ae29ea2-a3ea-4e4a-9c28-fd0d3d80b130",
   "metadata": {},
   "source": [
    "Dado que el valor de prueba (Zemp) es mayor al valor crítico (Zc), hay suficiente evidencia para rechazar la hipótesis nula."
   ]
  },
  {
   "cell_type": "markdown",
   "id": "6b870ea6-8b24-4fc0-a55c-b6fcc929bab6",
   "metadata": {},
   "source": [
    "**f) Mediante el método del P-valor: Determine si el porcentaje poblacional de mujeres es menor o igual que el 30%. Halle el P-valor, interprete y compare su decisión con el inciso (e).**"
   ]
  },
  {
   "cell_type": "markdown",
   "id": "cb400789-feef-4166-a06e-7009d4893cdc",
   "metadata": {},
   "source": [
    "Para responder este inciso, se procede a calcular la probabilidad acumulada a derecha de valor de prueba Zemp y se compara esa área con el nivel de significancia:"
   ]
  },
  {
   "cell_type": "code",
   "execution_count": 52,
   "id": "38007e22-d30c-4d7e-a388-73cb5e046864",
   "metadata": {},
   "outputs": [
    {
     "name": "stdout",
     "output_type": "stream",
     "text": [
      "[1] \"P-value: 0.000122\"\n",
      "[1] \"Alpha: 0.05\"\n"
     ]
    }
   ],
   "source": [
    "p_value <- pnorm(Zemp, lower.tail = FALSE)\n",
    "\n",
    "print(paste(\"P-value:\", round(p_value,6)))\n",
    "print(paste(\"Alpha:\", alpha))"
   ]
  },
  {
   "cell_type": "markdown",
   "id": "fa7408be-0092-43d2-892a-8fca693fe2cc",
   "metadata": {},
   "source": [
    "Como el p-valor es más pequeño que el nivel de significancia del 5%, hay suficiente evidencia para rechazar la hipótesis nula. Por lo que se arriba a la misma conclusión que en el inciso (e)."
   ]
  },
  {
   "cell_type": "markdown",
   "id": "f339ebdf-0aed-4d41-b885-2a6cef5e2702",
   "metadata": {},
   "source": [
    "**g) Realizar la misma prueba del inciso (h) con la función prop.test y compare los resultados obtenidos.**"
   ]
  },
  {
   "cell_type": "code",
   "execution_count": 53,
   "id": "8469316e-b9ee-4852-b3ea-dd722dab78cf",
   "metadata": {},
   "outputs": [
    {
     "data": {
      "text/plain": [
       "\n",
       "\t1-sample proportions test without continuity correction\n",
       "\n",
       "data:  sum(datos2a35$Sexo == \"Femenino\") out of n, null probability p\n",
       "X-squared = 13.451, df = 1, p-value = 0.0001224\n",
       "alternative hypothesis: true p is greater than 0.3\n",
       "95 percent confidence interval:\n",
       " 0.4479564 1.0000000\n",
       "sample estimates:\n",
       "        p \n",
       "0.5882353 \n"
      ]
     },
     "metadata": {},
     "output_type": "display_data"
    }
   ],
   "source": [
    "resultado_prop_test <- prop.test(sum(datos2a35$Sexo == 'Femenino'), n, p, \n",
    "                                 alternative = \"greater\", correct=FALSE)\n",
    "resultado_prop_test"
   ]
  },
  {
   "cell_type": "markdown",
   "id": "6e0e1eb0-b250-4d2d-a8f4-269546b1fc6e",
   "metadata": {},
   "source": [
    "Para efectuar la comparación entre el p-value obtenido en el inciso anterior y el obtenido al emplear la función prop.test, se procede a calcular la diferencia entre ambos valores, en donde puede observarse que el resultado tiene un valor numéricamente insignificante:"
   ]
  },
  {
   "cell_type": "code",
   "execution_count": 54,
   "id": "36527a99-f21a-4449-a88f-20077719c683",
   "metadata": {},
   "outputs": [
    {
     "data": {
      "text/html": [
       "0.000000000000000000189735380184963"
      ],
      "text/latex": [
       "0.000000000000000000189735380184963"
      ],
      "text/markdown": [
       "0.000000000000000000189735380184963"
      ],
      "text/plain": [
       "[1] 0.0000000000000000001897354"
      ]
     },
     "metadata": {},
     "output_type": "display_data"
    }
   ],
   "source": [
    "resultado_prop_test$p.value - p_value"
   ]
  },
  {
   "cell_type": "markdown",
   "id": "edb7cea8-f902-403a-b254-923f6d33e8ad",
   "metadata": {},
   "source": [
    "**h) Construir un intervalo del 95% de confianza para la proporción poblacional de mujeres y compare los resultados obtenidos en los incisos anteriores.**"
   ]
  },
  {
   "cell_type": "markdown",
   "id": "249dc75b-93b7-4c43-834b-6a24e4e863a2",
   "metadata": {},
   "source": [
    "Para la estimación del intervalo de confianza, se emplearán los procedimientos descritos por Levine en [4] (p. 250)"
   ]
  },
  {
   "cell_type": "code",
   "execution_count": 55,
   "id": "2f428b9a-da54-4380-a779-814393924832",
   "metadata": {},
   "outputs": [],
   "source": [
    "Zc <- qnorm(1 - alpha)\n",
    "SE <- sqrt(p_ * (1 - p_) / n)\n",
    "margen_error <- Zc * SE"
   ]
  },
  {
   "cell_type": "code",
   "execution_count": 56,
   "id": "43e07fbf-3e73-46fa-980f-2e85ce347a5e",
   "metadata": {},
   "outputs": [
    {
     "data": {
      "text/html": [
       "<style>\n",
       ".list-inline {list-style: none; margin:0; padding: 0}\n",
       ".list-inline>li {display: inline-block}\n",
       ".list-inline>li:not(:last-child)::after {content: \"\\00b7\"; padding: 0 .5ex}\n",
       "</style>\n",
       "<ol class=list-inline><li>0.449403832191521</li><li>0.727066756043773</li></ol>\n"
      ],
      "text/latex": [
       "\\begin{enumerate*}\n",
       "\\item 0.449403832191521\n",
       "\\item 0.727066756043773\n",
       "\\end{enumerate*}\n"
      ],
      "text/markdown": [
       "1. 0.449403832191521\n",
       "2. 0.727066756043773\n",
       "\n",
       "\n"
      ],
      "text/plain": [
       "[1] 0.4494038 0.7270668"
      ]
     },
     "metadata": {},
     "output_type": "display_data"
    }
   ],
   "source": [
    "p_ + c(-1, 1) * margen_error"
   ]
  },
  {
   "cell_type": "markdown",
   "id": "1cd2600c-0142-4af4-a44b-8486a934fcf1",
   "metadata": {},
   "source": [
    "Al efectuar el cálculo del intervalo de confianza para obtener una estimación general de la proporción, se obtuvo como resultado:\n",
    "\n",
    "$$CI = (0.4494038, 0.7270667)$$\n",
    "\n",
    "Sin embargo, el resultado obtenido por la prueba de hipótesis con la función prop.test fue:\n",
    "\n",
    "$$CI = (0.4479564, 1.0000000)$$\n",
    "\n",
    "Esta discrepancia en el extremo derecho del intervalo se debe a que se realizó una prueba de hipótesis a derecha, que resulta en un intervalo más amplio y asimétrico, en tanto que el intervalo de confianza representa el rango con distribución normal donde se espera que esté la proporción verdadera."
   ]
  },
  {
   "cell_type": "markdown",
   "id": "dca70650-7a37-427d-b2ac-4adf1ef74956",
   "metadata": {},
   "source": [
    "**i) Construya intervalos de Confianza del 95% para la media mediante bootstrap con 10000 repeticiones.**"
   ]
  },
  {
   "cell_type": "code",
   "execution_count": 57,
   "id": "e2b46dd7-ea43-4b09-9a7d-e0d3ab71cb5b",
   "metadata": {},
   "outputs": [],
   "source": [
    "library(boot)"
   ]
  },
  {
   "cell_type": "code",
   "execution_count": 58,
   "id": "c26aaee9-5d03-4cac-b963-b6ba18a5b91d",
   "metadata": {},
   "outputs": [
    {
     "name": "stdout",
     "output_type": "stream",
     "text": [
      "BOOTSTRAP CONFIDENCE INTERVAL CALCULATIONS\n",
      "Based on 10000 bootstrap replicates\n",
      "\n",
      "CALL : \n",
      "boot.ci(boot.out = bootstrap, conf = 0.95, type = \"perc\")\n",
      "\n",
      "Intervals : \n",
      "Level     Percentile     \n",
      "95%   ( 0.4118,  0.7647 )  \n",
      "Calculations and Intervals on Original Scale\n"
     ]
    }
   ],
   "source": [
    "proporcion_femenino <- function(data, indices) {\n",
    "  return(mean(data[indices]))\n",
    "}\n",
    "\n",
    "datos2a35$esFemenino <- datos2a35$Sexo == \"Femenino\"\n",
    "bootstrap <- boot(data = datos2a35$esFemenino, \n",
    "                  statistic = proporcion_femenino, R = 10000)\n",
    "intervalo_confianza <- boot.ci(bootstrap, type = \"perc\", conf = 0.95)\n",
    "\n",
    "print(intervalo_confianza)"
   ]
  },
  {
   "cell_type": "markdown",
   "id": "f4f790b1-4dd5-45ab-b5b3-4395294e6707",
   "metadata": {},
   "source": [
    "# Ejercicio N°6"
   ]
  },
  {
   "cell_type": "code",
   "execution_count": 59,
   "id": "51684b8a-ebfe-4c65-b1b7-578fb99e7312",
   "metadata": {},
   "outputs": [
    {
     "name": "stderr",
     "output_type": "stream",
     "text": [
      "naivebayes 1.0.0 loaded\n",
      "\n",
      "For more information please visit: \n",
      "\n",
      "https://majkamichal.github.io/naivebayes/\n",
      "\n",
      "Cargando paquete requerido: lattice\n",
      "\n",
      "\n",
      "Adjuntando el paquete: 'lattice'\n",
      "\n",
      "\n",
      "The following object is masked from 'package:boot':\n",
      "\n",
      "    melanoma\n",
      "\n",
      "\n"
     ]
    }
   ],
   "source": [
    "# install.packages(\"naivebayes\")\n",
    "# install.packages(\"caret\")\n",
    "library(naivebayes)\n",
    "library(caret)\n",
    "\n",
    "set.seed(43)\n",
    "data(infert, package=\"datasets\")"
   ]
  },
  {
   "cell_type": "markdown",
   "id": "02b2e075-f4ae-4cef-b760-cad874383bb7",
   "metadata": {},
   "source": [
    "**a) Convertir las variables predictoras que sean categóricas en factores.**"
   ]
  },
  {
   "cell_type": "code",
   "execution_count": 60,
   "id": "fa9fad5b-8568-466d-997b-7cebcd5eaeaf",
   "metadata": {},
   "outputs": [],
   "source": [
    "infert <- within(infert, {\n",
    "  education <- as.factor(education)\n",
    "  induced <- as.factor(induced)\n",
    "  case <- as.factor(case)\n",
    "  spontaneous <- as.factor(spontaneous)\n",
    "  stratum <- as.factor(stratum)\n",
    "  pooled.stratum <- as.factor(pooled.stratum)\n",
    "})"
   ]
  },
  {
   "cell_type": "markdown",
   "id": "887f0ebd-3840-486c-8b0c-8f02f77fbcda",
   "metadata": {},
   "source": [
    "**b) Entrenar el algoritmo de Naive Bayes con el 70% de los datos y el resto utilizarlos para testear.**"
   ]
  },
  {
   "cell_type": "code",
   "execution_count": 61,
   "id": "cb428e35-06f0-42e4-b126-9904e818fde0",
   "metadata": {},
   "outputs": [],
   "source": [
    "trainIndex <- createDataPartition(infert$case, p = 0.7, list = FALSE)\n",
    "trainData <- infert[trainIndex, ]\n",
    "testData <- infert[-trainIndex, ]\n",
    "\n",
    "common_columns <- intersect(colnames(trainData), colnames(testData))\n",
    "trainData <- trainData[, common_columns]\n",
    "testData <- testData[, common_columns]"
   ]
  },
  {
   "cell_type": "code",
   "execution_count": 62,
   "id": "84533064-7503-4d93-aed4-f87f7936667d",
   "metadata": {},
   "outputs": [],
   "source": [
    "nb_model <- naive_bayes(case ~ ., data = trainData, laplace = 1)"
   ]
  },
  {
   "cell_type": "markdown",
   "id": "86a4f557-84d8-4e14-ac75-44a83e4f369f",
   "metadata": {},
   "source": [
    "**c) Calcular la matriz de confusión sobre las predicciones realizadas sobre los datos de testing.**"
   ]
  },
  {
   "cell_type": "code",
   "execution_count": 63,
   "id": "9cda3206-b2bc-43c5-831c-0c79a7c1e06b",
   "metadata": {},
   "outputs": [
    {
     "data": {
      "text/plain": [
       "Confusion Matrix and Statistics\n",
       "\n",
       "          Reference\n",
       "Prediction  0  1\n",
       "         0 28 19\n",
       "         1 21  5\n",
       "                                         \n",
       "               Accuracy : 0.4521         \n",
       "                 95% CI : (0.3352, 0.573)\n",
       "    No Information Rate : 0.6712         \n",
       "    P-Value [Acc > NIR] : 1.0000         \n",
       "                                         \n",
       "                  Kappa : -0.2157        \n",
       "                                         \n",
       " Mcnemar's Test P-Value : 0.8744         \n",
       "                                         \n",
       "            Sensitivity : 0.5714         \n",
       "            Specificity : 0.2083         \n",
       "         Pos Pred Value : 0.5957         \n",
       "         Neg Pred Value : 0.1923         \n",
       "             Prevalence : 0.6712         \n",
       "         Detection Rate : 0.3836         \n",
       "   Detection Prevalence : 0.6438         \n",
       "      Balanced Accuracy : 0.3899         \n",
       "                                         \n",
       "       'Positive' Class : 0              \n",
       "                                         "
      ]
     },
     "metadata": {},
     "output_type": "display_data"
    }
   ],
   "source": [
    "predictions <- predict(nb_model, testData)\n",
    "matriz_confusion <- confusionMatrix(predictions, testData$case)\n",
    "matriz_confusion"
   ]
  },
  {
   "cell_type": "markdown",
   "id": "dda46ccb-3993-4ebc-a7ee-6a5db8b5c735",
   "metadata": {},
   "source": [
    "**d) Calcular las métricas de accuracy, especificidad y sensibilidad.**"
   ]
  },
  {
   "cell_type": "code",
   "execution_count": 64,
   "id": "81966741-16b3-4e2d-ab0c-cb4a9cc3ba0d",
   "metadata": {},
   "outputs": [
    {
     "name": "stdout",
     "output_type": "stream",
     "text": [
      "[1] \"Accuracy: 0.452054794520548\"\n",
      "[1] \"Sensibilidad: 0.571428571428571\"\n",
      "[1] \"Especificidad: 0.208333333333333\"\n"
     ]
    }
   ],
   "source": [
    "accuracy <- matriz_confusion$overall['Accuracy']\n",
    "sensitivity <- matriz_confusion$byClass['Sensitivity']\n",
    "specificity <- matriz_confusion$byClass['Specificity']\n",
    "\n",
    "print(paste(\"Accuracy:\", accuracy))\n",
    "print(paste(\"Sensibilidad:\", sensitivity))\n",
    "print(paste(\"Especificidad:\", specificity))"
   ]
  },
  {
   "cell_type": "markdown",
   "id": "017a1556-2112-4901-8c6c-4c5589a90562",
   "metadata": {},
   "source": [
    "# Referencias"
   ]
  },
  {
   "cell_type": "markdown",
   "id": "501b31e5-ec00-4365-b98e-0c151d14139b",
   "metadata": {},
   "source": [
    "[1] Levine, Krehbiel y Berenson (2006). Distribución de probabilidad de una variable aleatoria discreta. Estadística para Administración Cuarta Edición (pp. 155-156). Pearson Educación"
   ]
  },
  {
   "cell_type": "markdown",
   "id": "94fa5817-1466-46ef-a2a9-da2012986257",
   "metadata": {},
   "source": [
    "[2] Lincoln L. Chao (1993). Teoría elemental de la probabilidad. Estadística para las ciencias administrativas Tercera Edición (p. 81). McGraw Hill"
   ]
  },
  {
   "cell_type": "markdown",
   "id": "78c407fa-1239-44e7-affc-2da08cf219ed",
   "metadata": {},
   "source": [
    "[3] “Elementary Statistics”, PennState, https://online.stat.psu.edu/stat200/book/export/html/144 "
   ]
  },
  {
   "cell_type": "markdown",
   "id": "8171c644-2145-4230-989f-622fe144642f",
   "metadata": {},
   "source": [
    "[4] Levine, Krehbiel y Berenson (2006). Estimación del Intervalo de Confianza para una Proporción. Estadística para Administración Cuarta Edición (pp. 250-252). Pearson Educación."
   ]
  }
 ],
 "metadata": {
  "kernelspec": {
   "display_name": "R",
   "language": "R",
   "name": "ir"
  },
  "language_info": {
   "codemirror_mode": "r",
   "file_extension": ".r",
   "mimetype": "text/x-r-source",
   "name": "R",
   "pygments_lexer": "r",
   "version": "4.4.0"
  }
 },
 "nbformat": 4,
 "nbformat_minor": 5
}
