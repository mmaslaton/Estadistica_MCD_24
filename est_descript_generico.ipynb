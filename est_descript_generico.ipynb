{
 "cells": [
  {
   "cell_type": "markdown",
   "id": "fe049985-2572-4863-8d10-a45d5943ba37",
   "metadata": {},
   "source": [
    "# Ejercicios con lista de valores"
   ]
  },
  {
   "cell_type": "code",
   "execution_count": 1,
   "id": "cba50392-6b13-4933-bd8f-f16d1142cc13",
   "metadata": {},
   "outputs": [],
   "source": [
    "numeros <- c(103, 124, 89, 76, 132, 94, 115, 99, 100)"
   ]
  },
  {
   "cell_type": "code",
   "execution_count": 3,
   "id": "e5215552-2f2a-4f26-abb3-9aca15ad7413",
   "metadata": {},
   "outputs": [
    {
     "name": "stdout",
     "output_type": "stream",
     "text": [
      "$Mínimo\n",
      "Min. \n",
      "  76 \n",
      "\n",
      "$`Primer cuartil (Q1)`\n",
      "1st Qu. \n",
      "     94 \n",
      "\n",
      "$Mediana\n",
      "Median \n",
      "   100 \n",
      "\n",
      "$Media\n",
      "    Mean \n",
      "103.5556 \n",
      "\n",
      "$`Tercer cuartil (Q3)`\n",
      "3rd Qu. \n",
      "    115 \n",
      "\n",
      "$Máximo\n",
      "Max. \n",
      " 132 \n",
      "\n",
      "$`Desviación estándar`\n",
      "[1] 17.51507\n",
      "\n",
      "$Varianza\n",
      "[1] 306.7778\n",
      "\n",
      "$`Coeficiente de variación (%)`\n",
      "[1] 16.9137\n",
      "\n",
      "$Moda\n",
      "[1] NA\n",
      "\n"
     ]
    }
   ],
   "source": [
    "# Función para calcular la moda\n",
    "calcular_moda <- function(lista) {\n",
    "  frecuencias <- table(lista)\n",
    "  moda <- as.numeric(names(frecuencias)[frecuencias == max(frecuencias)])\n",
    "  if(length(moda) == length(lista)) {\n",
    "    moda <- NA  # Si todos los valores son únicos, no hay moda\n",
    "  }\n",
    "  return(moda)\n",
    "}\n",
    "\n",
    "# Función para calcular estadísticas descriptivas\n",
    "estadisticas_descriptivas <- function(lista) {\n",
    "  resumen <- summary(lista)\n",
    "  desviacion_estandar <- sd(lista)\n",
    "  varianza <- var(lista)\n",
    "  coef_var <- sd(lista) / mean(lista) * 100\n",
    "  moda <- calcular_moda(lista)\n",
    "  lista_resultados <- list(\n",
    "    \"Mínimo\" = resumen[\"Min.\"],\n",
    "    \"Primer cuartil (Q1)\" = resumen[\"1st Qu.\"],\n",
    "    \"Mediana\" = resumen[\"Median\"],\n",
    "    \"Media\" = resumen[\"Mean\"],\n",
    "    \"Tercer cuartil (Q3)\" = resumen[\"3rd Qu.\"],\n",
    "    \"Máximo\" = resumen[\"Max.\"],\n",
    "    \"Desviación estándar\" = desviacion_estandar,\n",
    "    \"Varianza\" = varianza,\n",
    "    \"Coeficiente de variación (%)\" = coef_var,\n",
    "    \"Moda\" = moda\n",
    "  )\n",
    "  return(lista_resultados)\n",
    "}\n",
    "\n",
    "# Calcular y mostrar las estadísticas descriptivas\n",
    "resultados <- estadisticas_descriptivas(numeros)\n",
    "print(resultados)\n"
   ]
  },
  {
   "cell_type": "markdown",
   "id": "cc62f742-815e-4d7c-ac77-62f7a3102b2e",
   "metadata": {},
   "source": [
    "# Ejercicios con tabla de frecuencias"
   ]
  },
  {
   "cell_type": "code",
   "execution_count": 12,
   "id": "bcc5c3c0-c63b-4995-b62f-671a215ea5b2",
   "metadata": {},
   "outputs": [],
   "source": [
    "df <- data.frame(\n",
    "  Minimo = c(500, 1000, 1500, 2000, 2500, 3000, 3500),\n",
    "  Maximo = c(1000, 1500, 2000, 2500, 3000, 3500, 4000),\n",
    "  Frecuencias = c(4, 9, 16, 25, 27, 14, 6)\n",
    ")"
   ]
  },
  {
   "cell_type": "markdown",
   "id": "4e748b2e-c388-4e00-8922-a6b727a0e8b6",
   "metadata": {},
   "source": [
    "### Media"
   ]
  },
  {
   "cell_type": "code",
   "execution_count": 4,
   "id": "0e3d26c8-f02e-4f03-add6-802e331cddca",
   "metadata": {},
   "outputs": [],
   "source": [
    "calcular_media <- function(data) {\n",
    "  puntos_medios <- (data$Minimo + data$Maximo) / 2\n",
    "  media_ponderada <- sum(puntos_medios * data$Frecuencias) / sum(data$Frecuencias)\n",
    "  return(media_ponderada)\n",
    "}\n",
    "media = calcular_media(df)"
   ]
  },
  {
   "cell_type": "code",
   "execution_count": 5,
   "id": "a44445bc-d064-4d46-8e33-1476c9be75ab",
   "metadata": {},
   "outputs": [
    {
     "name": "stdout",
     "output_type": "stream",
     "text": [
      "[1] \"Media: 1907.5\"\n"
     ]
    }
   ],
   "source": [
    "print(paste(\"Media:\", media))"
   ]
  },
  {
   "cell_type": "markdown",
   "id": "5f37100b-53a3-44d2-aa68-7578846309c0",
   "metadata": {},
   "source": [
    "### Varianza y Desvío Estándar"
   ]
  },
  {
   "cell_type": "code",
   "execution_count": 6,
   "id": "2d85d303-3c01-439f-ad42-e95c391f06c9",
   "metadata": {},
   "outputs": [],
   "source": [
    "calcular_varianza <- function(data) {\n",
    "  media_ponderada <- calcular_media(data)\n",
    "  puntos_medios <- (data$Minimo + data$Maximo) / 2\n",
    "  N <- sum(data$Frecuencias)\n",
    "    \n",
    "  varianza <- sum(data$Frecuencias * (puntos_medios - media_ponderada)^2) / N\n",
    "  return(varianza)\n",
    "}"
   ]
  },
  {
   "cell_type": "code",
   "execution_count": 7,
   "id": "bfd6a8ef-0c88-4e13-983d-28c0dfabcd78",
   "metadata": {},
   "outputs": [
    {
     "name": "stdout",
     "output_type": "stream",
     "text": [
      "[1] \"Varianza: 1054568.75\"\n"
     ]
    }
   ],
   "source": [
    "varianza <- calcular_varianza(df)\n",
    "print(paste(\"Varianza:\", varianza))"
   ]
  },
  {
   "cell_type": "code",
   "execution_count": 8,
   "id": "812d229c-d195-4aa0-8eec-e7961da7f57a",
   "metadata": {},
   "outputs": [
    {
     "name": "stdout",
     "output_type": "stream",
     "text": [
      "[1] \"Desvío estándar: 1026.92197853586\"\n"
     ]
    }
   ],
   "source": [
    "print(paste(\"Desvío estándar:\", sqrt(varianza)))"
   ]
  },
  {
   "cell_type": "markdown",
   "id": "2e613bf7-0cb7-42ed-9a59-800a078b88a0",
   "metadata": {},
   "source": [
    "### Coeficiente de Variación"
   ]
  },
  {
   "cell_type": "code",
   "execution_count": 11,
   "id": "40fd2e83-239e-4a0b-8397-8e5102bc021e",
   "metadata": {},
   "outputs": [
    {
     "name": "stdout",
     "output_type": "stream",
     "text": [
      "[1] \"CV: 0.538360146021419\"\n"
     ]
    }
   ],
   "source": [
    "media <- calcular_media(df)\n",
    "varianza <- calcular_varianza(df)\n",
    "\n",
    "cv = sqrt(varianza) / media\n",
    "print(paste(\"CV:\", cv))"
   ]
  },
  {
   "cell_type": "markdown",
   "id": "64100248-606a-4a3b-9d30-291b3a90e2ba",
   "metadata": {},
   "source": [
    "### Mediana"
   ]
  },
  {
   "cell_type": "code",
   "execution_count": 88,
   "id": "833687d4-0119-4eb1-b136-95b9320e4bd1",
   "metadata": {},
   "outputs": [],
   "source": [
    "encontrar_frecuencias <- function(data, N) {\n",
    "  mitad_N <- N / 2  # La mitad del total de frecuencias\n",
    "  \n",
    "  frecuencia_acumulada <- 0  # Inicializar la frecuencia acumulada\n",
    "  frecuencia_anterior <- 0  # Almacenar la frecuencia acumulada del paso anterior\n",
    "  \n",
    "  for (i in 1:nrow(data)) {\n",
    "    frecuencia_anterior <- frecuencia_acumulada\n",
    "    frecuencia_acumulada <- frecuencia_acumulada + data$Frecuencias[i]\n",
    "    \n",
    "    if (frecuencia_acumulada >= mitad_N) {\n",
    "      return(c(L = data$Minimo[i], f = data$Frecuencias[i], F = frecuencia_anterior))\n",
    "    }\n",
    "  }\n",
    "}\n",
    "\n",
    "N = sum(df$Frecuencias)\n",
    "resultado_frec <- encontrar_frecuencias(df,N)\n",
    "\n",
    "L <- resultado_frec[\"L\"]\n",
    "f <- resultado_frec[\"f\"]\n",
    "F <- resultado_frec[\"F\"]"
   ]
  },
  {
   "cell_type": "code",
   "execution_count": 54,
   "id": "a85b0040-f7b7-40c9-8acb-ab840d915153",
   "metadata": {},
   "outputs": [
    {
     "name": "stdout",
     "output_type": "stream",
     "text": [
      "[1] \"Mediana: 1763.51351351351\"\n"
     ]
    }
   ],
   "source": [
    "mediana = L + (N/2 - F) / f * (df$Maximo[1] - df$Minimo[1])\n",
    "print(paste(\"Mediana:\",mediana))"
   ]
  },
  {
   "cell_type": "markdown",
   "id": "28b2e969-92c9-47a7-a654-657a2d1e6ccf",
   "metadata": {},
   "source": [
    "### Moda o Modalidad"
   ]
  },
  {
   "cell_type": "code",
   "execution_count": 56,
   "id": "60bd43bf-fabf-412e-a1ba-aa671a54575e",
   "metadata": {},
   "outputs": [],
   "source": [
    "encontrar_max_frecuencia <- function(data) {\n",
    "  indice_max <- which.max(data$Frecuencias)\n",
    "  valor_minimo <- data$Minimo[indice_max]\n",
    "  return(valor_minimo)\n",
    "}\n",
    "\n",
    "encontrar_frecuencias_relacionadas <- function(data) {\n",
    "  indice_max <- which.max(data$Frecuencias)\n",
    "  f1 <- data$Frecuencias[indice_max]\n",
    "  \n",
    "  if (indice_max > 1) {\n",
    "    f0 <- data$Frecuencias[indice_max - 1]\n",
    "  } else {\n",
    "    f0 <- 0\n",
    "  }\n",
    "  \n",
    "  if (indice_max < nrow(data)) {\n",
    "    f2 <- data$Frecuencias[indice_max + 1]\n",
    "  } else {\n",
    "    f2 <- 0\n",
    "  }\n",
    "  \n",
    "  return(c(f0 = f0, f1 = f1, f2 = f2))\n",
    "}\n",
    "\n",
    "L = encontrar_max_frecuencia(df)\n",
    "\n",
    "frecuencias_relacionadas <- encontrar_frecuencias_relacionadas(df)\n",
    "\n",
    "f0 <- frecuencias_relacionadas[\"f0\"]\n",
    "f1 <- frecuencias_relacionadas[\"f1\"]\n",
    "f2 <- frecuencias_relacionadas[\"f2\"]"
   ]
  },
  {
   "cell_type": "code",
   "execution_count": 57,
   "id": "b9f098d6-36ea-40f6-9fb1-ec2dbd918593",
   "metadata": {},
   "outputs": [
    {
     "name": "stdout",
     "output_type": "stream",
     "text": [
      "[1] \"Moda: 1376.92307692308\"\n"
     ]
    }
   ],
   "source": [
    "moda <- L + ((f1 - f0) / (2 * f1 - f0 - f2)) * amplitud_intervalo\n",
    "print(paste(\"Moda:\",moda))"
   ]
  },
  {
   "cell_type": "markdown",
   "id": "d970e75a-c562-4e2c-81b3-6e69230e69ae",
   "metadata": {},
   "source": [
    "### Cuartiles"
   ]
  },
  {
   "cell_type": "code",
   "execution_count": 74,
   "id": "aa87c1ff-6215-4ae4-8efb-11c39a3e7c6e",
   "metadata": {},
   "outputs": [],
   "source": [
    "encontrar_frecuencias <- function(data, N, cuartil) {\n",
    "  N_cuart <- N * cuartil  # La mitad del total de frecuencias\n",
    "  \n",
    "  frecuencia_acumulada <- 0  # Inicializar la frecuencia acumulada\n",
    "  frecuencia_anterior <- 0  # Almacenar la frecuencia acumulada del paso anterior\n",
    "  \n",
    "  for (i in 1:nrow(data)) {\n",
    "    frecuencia_anterior <- frecuencia_acumulada\n",
    "    frecuencia_acumulada <- frecuencia_acumulada + data$Frecuencias[i]\n",
    "    \n",
    "    if (frecuencia_acumulada >= N_cuart) {\n",
    "      return(c(L = data$Minimo[i], f = data$Frecuencias[i], F = frecuencia_anterior))\n",
    "    }\n",
    "  }\n",
    "}\n",
    "\n",
    "N = sum(df$Frecuencias)"
   ]
  },
  {
   "cell_type": "code",
   "execution_count": 75,
   "id": "5f6b20f4-b443-4ff8-ac26-cd6a9184f6af",
   "metadata": {},
   "outputs": [
    {
     "name": "stdout",
     "output_type": "stream",
     "text": [
      "[1] \"Q1: 1161.11111111111\"\n"
     ]
    }
   ],
   "source": [
    "resultado_frec <- encontrar_frecuencias(df, N, 0.25)\n",
    "\n",
    "Q1 = resultado_frec[\"L\"] + (N * 0.25 - resultado_frec[\"F\"]) / resultado_frec[\"f\"] * (df$Maximo[1] - df$Minimo[1])\n",
    "print(paste(\"Q1:\", Q1))"
   ]
  },
  {
   "cell_type": "code",
   "execution_count": 76,
   "id": "d5450a49-3e57-47cb-b5e1-139d99b9f4a3",
   "metadata": {},
   "outputs": [
    {
     "name": "stdout",
     "output_type": "stream",
     "text": [
      "[1] \"Q2: 1763.51351351351\"\n"
     ]
    }
   ],
   "source": [
    "resultado_frec <- encontrar_frecuencias(df, N, 0.5)\n",
    "\n",
    "Q2 = resultado_frec[\"L\"] + (N * 0.5 - resultado_frec[\"F\"]) / resultado_frec[\"f\"] * (df$Maximo[1] - df$Minimo[1])\n",
    "print(paste(\"Q2:\", Q2))"
   ]
  },
  {
   "cell_type": "code",
   "execution_count": 77,
   "id": "33292427-d5ad-47fa-b419-95384d8ef339",
   "metadata": {},
   "outputs": [
    {
     "name": "stdout",
     "output_type": "stream",
     "text": [
      "[1] \"Q3: 2604.6511627907\"\n"
     ]
    }
   ],
   "source": [
    "resultado_frec <- encontrar_frecuencias(df, N, 0.75)\n",
    "\n",
    "Q3 = resultado_frec[\"L\"] + (N * 0.75 - resultado_frec[\"F\"]) / resultado_frec[\"f\"] * (df$Maximo[1] - df$Minimo[1])\n",
    "print(paste(\"Q3:\", Q3))"
   ]
  },
  {
   "cell_type": "markdown",
   "id": "2303253a-0120-404d-a1cc-e944e7ed5cbc",
   "metadata": {},
   "source": [
    "### Decil de K-orden"
   ]
  },
  {
   "cell_type": "code",
   "execution_count": 50,
   "id": "2bae4c3d-3f33-4c67-b76a-7d9f9ee0f00c",
   "metadata": {},
   "outputs": [],
   "source": [
    "encontrar_frecuencias <- function(data, N, cuartil) {\n",
    "  N_cuart <- N * cuartil  # La mitad del total de frecuencias\n",
    "  \n",
    "  frecuencia_acumulada <- 0  # Inicializar la frecuencia acumulada\n",
    "  frecuencia_anterior <- 0  # Almacenar la frecuencia acumulada del paso anterior\n",
    "  \n",
    "  for (i in 1:nrow(data)) {\n",
    "    frecuencia_anterior <- frecuencia_acumulada\n",
    "    frecuencia_acumulada <- frecuencia_acumulada + data$Frecuencias[i]\n",
    "    \n",
    "    if (frecuencia_acumulada >= N_cuart) {\n",
    "      return(c(L = data$Minimo[i], f = data$Frecuencias[i], F = frecuencia_anterior))\n",
    "    }\n",
    "  }\n",
    "}\n",
    "\n",
    "N = sum(df$Frecuencias)"
   ]
  },
  {
   "cell_type": "code",
   "execution_count": 45,
   "id": "1ace71f1-a93e-42a8-8585-16788d10d26e",
   "metadata": {},
   "outputs": [
    {
     "name": "stdout",
     "output_type": "stream",
     "text": [
      "[1] \"Decil: 2430\"\n"
     ]
    }
   ],
   "source": [
    "orden <- 5\n",
    "orden_porc <- orden / 10\n",
    "\n",
    "resultado_frec <- encontrar_frecuencias(df, N, orden_porc)\n",
    "\n",
    "decil_k = resultado_frec[\"L\"] + (N * orden_porc - resultado_frec[\"F\"]) / resultado_frec[\"f\"] * (df$Maximo[1] - df$Minimo[1])\n",
    "print(paste(\"Decil:\", decil_k))"
   ]
  },
  {
   "cell_type": "markdown",
   "id": "3cca60af-0dc9-4907-af8b-d98b65d7ca72",
   "metadata": {},
   "source": [
    "### Asimetría"
   ]
  },
  {
   "cell_type": "code",
   "execution_count": 60,
   "id": "de4d348d-f8dd-4901-a3df-ad3be11dd34e",
   "metadata": {},
   "outputs": [],
   "source": [
    "calcular_asimetria <- function(data) {\n",
    "    puntos_medios <- (df$Minimo + df$Maximo) / 2\n",
    "    media <- sum(puntos_medios * data$Frecuencias) / sum(data$Frecuencias)\n",
    "    varianza <- sum(df$Frecuencias * (puntos_medios - media)^2) / sum(df$Frecuencias)\n",
    "    tercer_momento <- sum(df$Frecuencias * (puntos_medios - media)^3) / sum(df$Frecuencias)\n",
    "    asimetria <- tercer_momento / (sqrt(varianza))^3\n",
    "    return(asimetria)\n",
    "}"
   ]
  },
  {
   "cell_type": "code",
   "execution_count": 61,
   "id": "9b2d2d8e-5733-4231-9322-41eb8de7b444",
   "metadata": {},
   "outputs": [
    {
     "name": "stdout",
     "output_type": "stream",
     "text": [
      "[1] \"Asimetría: 0.630963073065562\"\n"
     ]
    }
   ],
   "source": [
    "asimetria <- calcular_asimetria(df)\n",
    "print(paste(\"Asimetría:\", asimetria))"
   ]
  },
  {
   "cell_type": "markdown",
   "id": "329bd5f2-19e3-4315-aa2a-c32eb4b4b639",
   "metadata": {},
   "source": [
    "### Kurtosis"
   ]
  },
  {
   "cell_type": "code",
   "execution_count": 39,
   "id": "269446df-c121-406f-b875-d8a905b787c9",
   "metadata": {},
   "outputs": [],
   "source": [
    "df <- data.frame(\n",
    "  Minimo = c(10, 15, 20, 25, 30),\n",
    "  Maximo = c(15, 20, 25, 30, 35),\n",
    "  Frecuencias = c(4, 8, 5, 2, 1)\n",
    ")"
   ]
  },
  {
   "cell_type": "code",
   "execution_count": 58,
   "id": "753d2bfc-6d94-4801-866f-3af98ad23eb7",
   "metadata": {},
   "outputs": [],
   "source": [
    "calcular_curtosis <- function(data) {\n",
    "    puntos_medios <- (data$Minimo + data$Maximo) / 2\n",
    "    media <- sum(puntos_medios * data$Frecuencias) / sum(data$Frecuencias)\n",
    "    varianza <- sum(data$Frecuencias * (puntos_medios - media)^2) / sum(data$Frecuencias)\n",
    "    cuarto_momento <- sum(data$Frecuencias * (puntos_medios - media)^4) / sum(data$Frecuencias)\n",
    "    curtosis <- cuarto_momento / (varianza^2)\n",
    "    return(curtosis)\n",
    "}"
   ]
  },
  {
   "cell_type": "code",
   "execution_count": 62,
   "id": "076224e0-3f78-4eb6-819c-461b7c55e669",
   "metadata": {},
   "outputs": [
    {
     "name": "stdout",
     "output_type": "stream",
     "text": [
      "[1] \"Exceso de Curtosis: -0.113573407202216\"\n"
     ]
    }
   ],
   "source": [
    "curtosis <- calcular_curtosis(df)\n",
    "print(paste(\"Exceso de Curtosis:\", curtosis - 3))"
   ]
  },
  {
   "cell_type": "markdown",
   "id": "7daa7ffb-1499-4366-9fbc-47e59ca0e536",
   "metadata": {},
   "source": [
    "**Exceso de curtosis = 0:** La distribución tiene la misma curtosis que una distribución normal.\n",
    "\n",
    "**Exceso de curtosis > 0:** La distribución es leptocúrtica, es decir, tiene colas más pesadas y un pico más alto que una distribución normal.\n",
    "\n",
    "**Exceso de curtosis < 0:** La distribución es platicúrtica, es decir, tiene colas más ligeras y un pico más bajo que una distribución normal."
   ]
  },
  {
   "cell_type": "code",
   "execution_count": 63,
   "id": "d721c16e-4e5b-4c2e-9b2c-f3b16a7041a1",
   "metadata": {},
   "outputs": [
    {
     "name": "stdout",
     "output_type": "stream",
     "text": [
      "[1] \"Curtosis cruda: 2.88642659279778\"\n"
     ]
    }
   ],
   "source": [
    "print(paste(\"Curtosis cruda:\", curtosis))"
   ]
  },
  {
   "cell_type": "markdown",
   "id": "bdfd3665-3cb6-4a87-bb22-fc40300a6759",
   "metadata": {},
   "source": [
    "**Curtosis cruda = 3:** La distribución tiene la misma forma que una distribución normal en términos de la distribución de las colas y la altura del pico.\n",
    "\n",
    "**Curtosis cruda > 3:** La distribución es leptocúrtica, lo que significa que tiene colas más pesadas y un pico más alto que una distribución normal. Esto indica la presencia de outliers más extremos.\n",
    "\n",
    "**Curtosis cruda < 3:** La distribución es platicúrtica, lo que significa que tiene colas más ligeras y un pico más bajo que una distribución normal. Esto indica que los datos están más concentrados alrededor de la media y hay menos outliers extremos."
   ]
  },
  {
   "cell_type": "markdown",
   "id": "138d4f17-b565-498f-b873-6006eed1d0c2",
   "metadata": {},
   "source": [
    "### Encontrar un dato"
   ]
  },
  {
   "cell_type": "code",
   "execution_count": 55,
   "id": "91ec93ad-d08c-453b-bf7e-f02970f72204",
   "metadata": {},
   "outputs": [],
   "source": [
    "encontrar_frecuencias <- function(data, N, cuartil) {\n",
    "  N_cuart <- N * cuartil  # La mitad del total de frecuencias\n",
    "  \n",
    "  frecuencia_acumulada <- 0  # Inicializar la frecuencia acumulada\n",
    "  frecuencia_anterior <- 0  # Almacenar la frecuencia acumulada del paso anterior\n",
    "  \n",
    "  for (i in 1:nrow(data)) {\n",
    "    frecuencia_anterior <- frecuencia_acumulada\n",
    "    frecuencia_acumulada <- frecuencia_acumulada + data$Frecuencias[i]\n",
    "    \n",
    "    if (frecuencia_acumulada >= N_cuart) {\n",
    "      return(c(L = data$Minimo[i], f = data$Frecuencias[i], F = frecuencia_anterior))\n",
    "    }\n",
    "  }\n",
    "}\n",
    "\n",
    "N = sum(df$Frecuencias)"
   ]
  },
  {
   "cell_type": "code",
   "execution_count": 56,
   "id": "e905e44a-b1a9-480a-af30-3e3662fac181",
   "metadata": {},
   "outputs": [
    {
     "name": "stdout",
     "output_type": "stream",
     "text": [
      "[1] 0.7794684\n",
      "[1] \"Decil: 2957.89464150856\"\n"
     ]
    }
   ],
   "source": [
    "\n",
    "orden_porc <- (calcular_media(df)+sqrt(calcular_varianza(df))) / 4000\n",
    "print(orden_porc)\n",
    "\n",
    "resultado_frec <- encontrar_frecuencias(df, N, orden_porc)\n",
    "\n",
    "decil_k = resultado_frec[\"L\"] + (N * orden_porc - resultado_frec[\"F\"]) / resultado_frec[\"f\"] * (df$Maximo[1] - df$Minimo[1])\n",
    "print(paste(\"Decil:\", decil_k))"
   ]
  },
  {
   "cell_type": "code",
   "execution_count": 63,
   "id": "5547614f-072f-4005-8023-300cc1087d38",
   "metadata": {},
   "outputs": [
    {
     "data": {
      "text/html": [
       "<strong>L:</strong> 22.2736893585376"
      ],
      "text/latex": [
       "\\textbf{L:} 22.2736893585376"
      ],
      "text/markdown": [
       "**L:** 22.2736893585376"
      ],
      "text/plain": [
       "       L \n",
       "22.27369 "
      ]
     },
     "metadata": {},
     "output_type": "display_data"
    }
   ],
   "source": [
    "N-((decil_k - resultado_frec[\"L\"]) / (df$Maximo[1] - df$Minimo[1]) * resultado_frec[\"f\"] + resultado_frec[\"F\"])"
   ]
  }
 ],
 "metadata": {
  "kernelspec": {
   "display_name": "R",
   "language": "R",
   "name": "ir"
  },
  "language_info": {
   "codemirror_mode": "r",
   "file_extension": ".r",
   "mimetype": "text/x-r-source",
   "name": "R",
   "pygments_lexer": "r",
   "version": "4.4.0"
  }
 },
 "nbformat": 4,
 "nbformat_minor": 5
}
