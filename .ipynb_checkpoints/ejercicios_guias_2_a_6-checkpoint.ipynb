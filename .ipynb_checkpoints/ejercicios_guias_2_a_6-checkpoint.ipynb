{
 "cells": [
  {
   "cell_type": "markdown",
   "id": "9612be92-0a0d-402b-9b69-f9075f8dc8d1",
   "metadata": {},
   "source": [
    "# GUIA 2"
   ]
  },
  {
   "cell_type": "code",
   "execution_count": 1,
   "id": "a8c4f3f3-4fcd-43fe-875e-df58f8d13b4b",
   "metadata": {},
   "outputs": [],
   "source": [
    "# VER EJERCICIO 2 (resultados distintos)\n",
    "# VER EJERCICIO 5 (resultados distintos en prob. condicional, los profes usan la unión de eventos)\n",
    "# VER EJECICIO 10 (completar)\n",
    "# VER EJERCICIO 14 (no está hecho, pero ya o hice en algún lado)"
   ]
  },
  {
   "cell_type": "markdown",
   "id": "1c008fcc-791c-40f1-9284-e8821beabfb6",
   "metadata": {},
   "source": [
    "# Ejercicio 1"
   ]
  },
  {
   "cell_type": "markdown",
   "id": "12150e90-ce2c-48ff-9ff8-9fd3924cdec7",
   "metadata": {},
   "source": [
    "### Se arroja una moneda equilibrada tres veces y se registra la secuencia de caras y cecas obtenida."
   ]
  },
  {
   "cell_type": "markdown",
   "id": "b123f621-de3c-4580-b7b7-f80b624302f0",
   "metadata": {},
   "source": [
    "### a) Describa el espacio muestral."
   ]
  },
  {
   "cell_type": "code",
   "execution_count": 9,
   "id": "eedb7f1f-df34-451f-94d5-7ca9edff64c9",
   "metadata": {},
   "outputs": [
    {
     "data": {
      "text/html": [
       "<style>\n",
       ".list-inline {list-style: none; margin:0; padding: 0}\n",
       ".list-inline>li {display: inline-block}\n",
       ".list-inline>li:not(:last-child)::after {content: \"\\00b7\"; padding: 0 .5ex}\n",
       "</style>\n",
       "<ol class=list-inline><li>'CCC'</li><li>'XCC'</li><li>'CXC'</li><li>'XXC'</li><li>'CCX'</li><li>'XCX'</li><li>'CXX'</li><li>'XXX'</li></ol>\n"
      ],
      "text/latex": [
       "\\begin{enumerate*}\n",
       "\\item 'CCC'\n",
       "\\item 'XCC'\n",
       "\\item 'CXC'\n",
       "\\item 'XXC'\n",
       "\\item 'CCX'\n",
       "\\item 'XCX'\n",
       "\\item 'CXX'\n",
       "\\item 'XXX'\n",
       "\\end{enumerate*}\n"
      ],
      "text/markdown": [
       "1. 'CCC'\n",
       "2. 'XCC'\n",
       "3. 'CXC'\n",
       "4. 'XXC'\n",
       "5. 'CCX'\n",
       "6. 'XCX'\n",
       "7. 'CXX'\n",
       "8. 'XXX'\n",
       "\n",
       "\n"
      ],
      "text/plain": [
       "[1] \"CCC\" \"XCC\" \"CXC\" \"XXC\" \"CCX\" \"XCX\" \"CXX\" \"XXX\""
      ]
     },
     "metadata": {},
     "output_type": "display_data"
    }
   ],
   "source": [
    "moneda=c(\"C\",\"X\")\n",
    "omega <- do.call(paste0, expand.grid(moneda, moneda, moneda))\n",
    "omega"
   ]
  },
  {
   "cell_type": "markdown",
   "id": "aea54a5a-cec3-403d-97e6-4d6c76565e13",
   "metadata": {},
   "source": [
    "### b) Describa los siguientes eventos o sucesos\n",
    "- 𝐴={𝑎𝑙 𝑚𝑒𝑛𝑜𝑠 𝑑𝑜𝑠 𝑡𝑖𝑟𝑜𝑠 𝑠𝑜𝑛 𝑐𝑎𝑟𝑎}\n",
    "- 𝐵={𝑒𝑙 ú𝑙𝑡𝑖𝑚𝑜 𝑦 𝑒𝑙 𝑝𝑟𝑖𝑚𝑒𝑟 𝑡𝑖𝑟𝑜 𝑠𝑜𝑛 𝑐𝑎𝑟𝑎}\n",
    "- 𝐶={𝑒𝑙 𝑠𝑒𝑔𝑢𝑛𝑑𝑜 𝑡𝑖𝑟𝑜 𝑒𝑠 𝑐𝑒𝑐𝑎}"
   ]
  },
  {
   "cell_type": "code",
   "execution_count": 8,
   "id": "64ba6cb2-0e48-4c95-a50e-87e9fd4ba5c0",
   "metadata": {},
   "outputs": [],
   "source": [
    "A <- c('CCC', 'XCC', 'CXC', 'CCX')\n",
    "B <- c('CCC', 'CXC')\n",
    "C <- c('CXC', 'XXC', 'CXX', 'XXX')"
   ]
  },
  {
   "cell_type": "markdown",
   "id": "251330b5-5197-4d4b-b5c2-9d7a10ca1ffa",
   "metadata": {},
   "source": [
    "### c) A partir de los sucesos definidos en b) halle las siguientes probabilidades:\n",
    "### 𝑃(𝐴), 𝑃(𝐵), 𝑃(𝐶), 𝑃(𝐵̅), 𝑃(𝐴∩𝐵), 𝑃(𝐴∪𝐵), 𝑃(𝐴∩𝐶̅), 𝑃(𝐵∩𝐶)"
   ]
  },
  {
   "cell_type": "code",
   "execution_count": 11,
   "id": "1431c2f4-c59d-4bae-99e6-a539f3144ccf",
   "metadata": {},
   "outputs": [
    {
     "data": {
      "text/html": [
       "0.5"
      ],
      "text/latex": [
       "0.5"
      ],
      "text/markdown": [
       "0.5"
      ],
      "text/plain": [
       "[1] 0.5"
      ]
     },
     "metadata": {},
     "output_type": "display_data"
    }
   ],
   "source": [
    "pA <- length(A)/length(omega)\n",
    "pA"
   ]
  },
  {
   "cell_type": "code",
   "execution_count": 12,
   "id": "597c8488-91dd-4e11-ac86-596e0a9096f5",
   "metadata": {},
   "outputs": [
    {
     "data": {
      "text/html": [
       "0.25"
      ],
      "text/latex": [
       "0.25"
      ],
      "text/markdown": [
       "0.25"
      ],
      "text/plain": [
       "[1] 0.25"
      ]
     },
     "metadata": {},
     "output_type": "display_data"
    }
   ],
   "source": [
    "pB <- length(B)/length(omega)\n",
    "pB"
   ]
  },
  {
   "cell_type": "code",
   "execution_count": 13,
   "id": "257e57c4-1f20-4b34-b20d-86d4898037ee",
   "metadata": {},
   "outputs": [
    {
     "data": {
      "text/html": [
       "0.5"
      ],
      "text/latex": [
       "0.5"
      ],
      "text/markdown": [
       "0.5"
      ],
      "text/plain": [
       "[1] 0.5"
      ]
     },
     "metadata": {},
     "output_type": "display_data"
    }
   ],
   "source": [
    "pC <- length(C)/length(omega)\n",
    "pC"
   ]
  },
  {
   "cell_type": "code",
   "execution_count": 14,
   "id": "a61fa110-48b1-4de6-b569-6bd740b405b8",
   "metadata": {},
   "outputs": [
    {
     "data": {
      "text/html": [
       "0.75"
      ],
      "text/latex": [
       "0.75"
      ],
      "text/markdown": [
       "0.75"
      ],
      "text/plain": [
       "[1] 0.75"
      ]
     },
     "metadata": {},
     "output_type": "display_data"
    }
   ],
   "source": [
    "pNA <- 1 - pB\n",
    "pNA"
   ]
  },
  {
   "cell_type": "code",
   "execution_count": 17,
   "id": "3d324708-d5d1-4b43-aee0-b446d79ba353",
   "metadata": {},
   "outputs": [
    {
     "data": {
      "text/html": [
       "0.5"
      ],
      "text/latex": [
       "0.5"
      ],
      "text/markdown": [
       "0.5"
      ],
      "text/plain": [
       "[1] 0.5"
      ]
     },
     "metadata": {},
     "output_type": "display_data"
    }
   ],
   "source": [
    "pA_int_B <- pB / pA\n",
    "pA_int_B\n",
    "\n",
    "# también podría hacerlo como el número de casos favorables sobre el total de elementos de la union de A y B: pA_int_B <- 2/4"
   ]
  },
  {
   "cell_type": "code",
   "execution_count": 18,
   "id": "f97dcb58-b28e-4e3b-8270-b3d8f7646b85",
   "metadata": {},
   "outputs": [
    {
     "data": {
      "text/html": [
       "0.25"
      ],
      "text/latex": [
       "0.25"
      ],
      "text/markdown": [
       "0.25"
      ],
      "text/plain": [
       "[1] 0.25"
      ]
     },
     "metadata": {},
     "output_type": "display_data"
    }
   ],
   "source": [
    "pAUB <- pA + pB - pA_int_B\n",
    "pAUB"
   ]
  },
  {
   "cell_type": "code",
   "execution_count": 20,
   "id": "0737b592-ef25-4a3a-891a-733bc3ffa392",
   "metadata": {},
   "outputs": [
    {
     "data": {
      "text/html": [
       "1"
      ],
      "text/latex": [
       "1"
      ],
      "text/markdown": [
       "1"
      ],
      "text/plain": [
       "[1] 1"
      ]
     },
     "metadata": {},
     "output_type": "display_data"
    }
   ],
   "source": [
    "pA_int_NC <- pA / (1 - pC)\n",
    "pA_int_NC"
   ]
  },
  {
   "cell_type": "markdown",
   "id": "fba06aed-e56f-4dee-951b-061cf8566518",
   "metadata": {},
   "source": [
    "<HR>"
   ]
  },
  {
   "cell_type": "markdown",
   "id": "4a477278-34da-411a-9c5a-5a6757d4da9a",
   "metadata": {},
   "source": [
    "# Ejercicio 2"
   ]
  },
  {
   "cell_type": "markdown",
   "id": "d9ac9778-7dde-4d3b-b351-9d0206f5cd36",
   "metadata": {},
   "source": [
    "### Se arrojan secuencialmente dos dados equilibrados y se registran los valores obtenidos en la cara superior."
   ]
  },
  {
   "cell_type": "markdown",
   "id": "250a83c2-d98f-4933-b4f6-1a99be7815e5",
   "metadata": {},
   "source": [
    "### a) Describa el espacio muestral."
   ]
  },
  {
   "cell_type": "code",
   "execution_count": 2,
   "id": "92d9ee5e-147b-444c-b014-51b5ec2271b6",
   "metadata": {},
   "outputs": [],
   "source": [
    "# Genera todos los posibles resultados del lanzamiento de dos dados\n",
    "dado1 <- 1:6\n",
    "dado2 <- 1:6\n",
    "\n",
    "# Crea el espacio muestral\n",
    "espacio_muestral <- expand.grid(dado1, dado2)\n",
    "\n",
    "# Renombrar las columnas para mayor claridad\n",
    "colnames(espacio_muestral) <- c(\"Dado1\", \"Dado2\")\n",
    "\n",
    "# Muestra la matriz del espacio muestral\n",
    "# print(espacio_muestral)"
   ]
  },
  {
   "cell_type": "markdown",
   "id": "d8dde12a-5567-4123-96ad-1ce328a4fa9e",
   "metadata": {},
   "source": [
    "### b) Describa los siguientes eventos o sucesos"
   ]
  },
  {
   "cell_type": "markdown",
   "id": "37dca2af-fdad-4f4a-8bdd-b67eec2838cf",
   "metadata": {},
   "source": [
    "#### A = {la suma de los 2 valores es al menos 4}"
   ]
  },
  {
   "cell_type": "code",
   "execution_count": 3,
   "id": "4b54ba83-5ace-40b6-8ded-da4dcddfeaa8",
   "metadata": {},
   "outputs": [],
   "source": [
    "evento_A <- subset(espacio_muestral, Dado1 + Dado2 >= 4)\n",
    "# print(\"Evento A: La suma de los valores de los dos dados es igual o mayor a 4\")\n",
    "# print(evento_A)"
   ]
  },
  {
   "cell_type": "markdown",
   "id": "95c36cb4-e121-484d-acd7-92f0f5fdffe3",
   "metadata": {},
   "source": [
    "#### B = {el valor del primer dado es más bajo que el del segundo}"
   ]
  },
  {
   "cell_type": "code",
   "execution_count": 4,
   "id": "96d145df-b669-42af-a802-1df713541a2e",
   "metadata": {},
   "outputs": [],
   "source": [
    "evento_B <- subset(espacio_muestral, Dado1 < Dado2)\n",
    "# print(\"Evento B: El valor del primer dado es más bajo que el del segundo\")\n",
    "# print(evento_B)"
   ]
  },
  {
   "cell_type": "markdown",
   "id": "0b93aa1b-cad0-4b7b-bc69-4786902d8849",
   "metadata": {},
   "source": [
    "#### C = {el valor del segundo dado es 3} "
   ]
  },
  {
   "cell_type": "code",
   "execution_count": 5,
   "id": "5b8c79f8-b58a-4f35-8afa-cea4423b031d",
   "metadata": {},
   "outputs": [],
   "source": [
    "evento_C <- subset(espacio_muestral, Dado2 == 3)\n",
    "# print(\"Evento C: El valor del segundo dado es 3\")\n",
    "# print(evento_C)"
   ]
  },
  {
   "cell_type": "markdown",
   "id": "233ec252-6489-49e8-b313-0461330e843e",
   "metadata": {},
   "source": [
    "### c) A partir de los sucesos definidos en b) halle las siguientes probabilidades"
   ]
  },
  {
   "cell_type": "markdown",
   "id": "7793a1c5-85dd-46e3-818c-f4263910b80c",
   "metadata": {},
   "source": [
    "#### P(A)"
   ]
  },
  {
   "cell_type": "code",
   "execution_count": 6,
   "id": "7638f8d4-35e3-4465-9529-2bed1af3595b",
   "metadata": {},
   "outputs": [
    {
     "name": "stdout",
     "output_type": "stream",
     "text": [
      "[1] \"P(A) = 0.916666666666667\"\n"
     ]
    }
   ],
   "source": [
    "# Calcula la probabilidad del evento A\n",
    "P_A <- nrow(evento_A) / nrow(espacio_muestral)\n",
    "print(paste(\"P(A) =\", P_A))"
   ]
  },
  {
   "cell_type": "markdown",
   "id": "76c63383-cee4-4c7c-bd53-c3547fdd5a64",
   "metadata": {},
   "source": [
    "#### P(B)"
   ]
  },
  {
   "cell_type": "code",
   "execution_count": 7,
   "id": "838a09e0-afcd-42b7-8b52-c4e5900c3778",
   "metadata": {},
   "outputs": [
    {
     "name": "stdout",
     "output_type": "stream",
     "text": [
      "[1] \"P(B) = 0.416666666666667\"\n"
     ]
    }
   ],
   "source": [
    "# Calcula la probabilidad del evento B\n",
    "P_B <- nrow(evento_B) / nrow(espacio_muestral)\n",
    "print(paste(\"P(B) =\", P_B))"
   ]
  },
  {
   "cell_type": "markdown",
   "id": "2f36346c-6087-463d-8007-62205e63b165",
   "metadata": {},
   "source": [
    "#### P(C)"
   ]
  },
  {
   "cell_type": "code",
   "execution_count": 8,
   "id": "cfa46c45-d93a-4600-a888-cc4d462816d3",
   "metadata": {},
   "outputs": [
    {
     "name": "stdout",
     "output_type": "stream",
     "text": [
      "[1] \"P(C) = 0.166666666666667\"\n"
     ]
    }
   ],
   "source": [
    "# Calcula la probabilidad de C\n",
    "P_C <- nrow(evento_C) / nrow(espacio_muestral)\n",
    "print(paste(\"P(C) =\", P_C))"
   ]
  },
  {
   "cell_type": "markdown",
   "id": "126561e9-937c-4b34-9b92-fa02cbb62d5b",
   "metadata": {},
   "source": [
    "#### P(A∪C)"
   ]
  },
  {
   "cell_type": "code",
   "execution_count": 9,
   "id": "62988342-eeea-4ee1-843e-3a133e4209ab",
   "metadata": {},
   "outputs": [
    {
     "name": "stdout",
     "output_type": "stream",
     "text": [
      "[1] \"P(A ∪ C) = 0.916666666666667\"\n"
     ]
    }
   ],
   "source": [
    "# Calcula la probabilidad de la union de A y C\n",
    "A_U_C <- unique(rbind(evento_A, evento_C)) # Elimina la interseccion\n",
    "P_A_U_C <- nrow(A_U_C) / nrow(espacio_muestral)\n",
    "print(paste(\"P(A ∪ C) =\", P_A_U_C))"
   ]
  },
  {
   "cell_type": "markdown",
   "id": "0e5a28b0-dce6-4cd4-9641-466a4daf4899",
   "metadata": {},
   "source": [
    "#### P(A∪B∪C)"
   ]
  },
  {
   "cell_type": "code",
   "execution_count": 10,
   "id": "4e09c09f-8f4c-4b8a-bc5c-310402133c66",
   "metadata": {},
   "outputs": [
    {
     "name": "stdout",
     "output_type": "stream",
     "text": [
      "[1] \"P(A ∪ B ∪ C) = 0.944444444444444\"\n"
     ]
    }
   ],
   "source": [
    "# Calcula la probabilidad de la union de A, B y C\n",
    "A_U_B_U_C <- unique(rbind(evento_A, evento_B, evento_C)) # Elimina la interseccion\n",
    "P_A_U_B_U_C <- nrow(A_U_B_U_C) / nrow(espacio_muestral)\n",
    "print(paste(\"P(A ∪ B ∪ C) =\", P_A_U_B_U_C))"
   ]
  },
  {
   "cell_type": "markdown",
   "id": "b5bce3ef-37cc-44ca-9f63-fb08714b00d6",
   "metadata": {},
   "source": [
    "#### P(A∩C')"
   ]
  },
  {
   "cell_type": "code",
   "execution_count": 11,
   "id": "c2aace84-068d-41a1-a64f-a1b522f7dbde",
   "metadata": {},
   "outputs": [],
   "source": [
    "# Calcula el complemento del Evento C (C')\n",
    "complemento_C <- subset(espacio_muestral, Dado2 != 3)\n",
    "# complemento_C # Se obtienen todas las filas en \"espacio_muestral\" que no están en \"evento_C\""
   ]
  },
  {
   "cell_type": "code",
   "execution_count": 12,
   "id": "1820f88c-7275-42fa-87d3-68d8aab21868",
   "metadata": {},
   "outputs": [
    {
     "name": "stdout",
     "output_type": "stream",
     "text": [
      "[1] \"P(A ∩ C') = 0.75\"\n"
     ]
    }
   ],
   "source": [
    "# Calcula la intersección de A y C'\n",
    "interseccion_A_C_complemento <- merge(evento_A, complemento_C)\n",
    "# Calcula la probabilidad de la intersección de A y C'\n",
    "P_interseccion_A_C_complemento <- nrow(interseccion_A_C_complemento) / nrow(espacio_muestral)\n",
    "# Muestra la probabilidad\n",
    "print(paste(\"P(A ∩ C') =\", P_interseccion_A_C_complemento))"
   ]
  },
  {
   "cell_type": "markdown",
   "id": "f98f8145-04c5-4e4c-bea7-1f8ce2a6fddd",
   "metadata": {},
   "source": [
    "#### P(B∩C)"
   ]
  },
  {
   "cell_type": "code",
   "execution_count": 13,
   "id": "c8781328-0af6-4704-a2c2-311fd3922d19",
   "metadata": {},
   "outputs": [
    {
     "name": "stdout",
     "output_type": "stream",
     "text": [
      "[1] \"P(B ∩ C) = 0.0555555555555556\"\n"
     ]
    }
   ],
   "source": [
    "# Calcula probabilidad de la intersección de B y C\n",
    "interseccion_B_C <- merge(evento_B, evento_C)\n",
    "# Calcula la probabilidad de la intersección de B y C\n",
    "P_interseccion_B_C <- nrow(interseccion_B_C) / nrow(espacio_muestral)\n",
    "# Muestra la probabilidad\n",
    "print(paste(\"P(B ∩ C) =\", P_interseccion_B_C))"
   ]
  },
  {
   "cell_type": "markdown",
   "id": "5380d65c-119c-46de-8211-4cd9d9e1d2e7",
   "metadata": {},
   "source": [
    "#### P(A∩B∩C)"
   ]
  },
  {
   "cell_type": "code",
   "execution_count": 14,
   "id": "9cf16fe8-c3e9-4511-abb2-029c376fcc52",
   "metadata": {},
   "outputs": [
    {
     "name": "stdout",
     "output_type": "stream",
     "text": [
      "[1] \"P(A ∩ B ∩ C) = 0.0555555555555556\"\n"
     ]
    }
   ],
   "source": [
    "# Calcula probabilidad de la intersección de A, B y C\n",
    "intersección_A_B_C <- merge(merge(evento_A, evento_B), evento_C)\n",
    "# Calcula la probabilidad de la intersección de A, B y C\n",
    "P_interseccion_A_B_C <- nrow(intersección_A_B_C) / nrow(espacio_muestral)\n",
    "# Muestra la probabilidad\n",
    "print(paste(\"P(A ∩ B ∩ C) =\", P_interseccion_B_C))"
   ]
  },
  {
   "cell_type": "markdown",
   "id": "de0bd8c0-1284-4f6b-9820-4d77865665ce",
   "metadata": {},
   "source": [
    "<hr>"
   ]
  },
  {
   "cell_type": "markdown",
   "id": "3cc4409b-360f-4d11-b756-9b4c4727193b",
   "metadata": {},
   "source": [
    "# Ejercicio 3"
   ]
  },
  {
   "cell_type": "markdown",
   "id": "014e405c-aa66-4c61-b25e-260afbecfa4a",
   "metadata": {},
   "source": [
    "### En una caja hay 3 bolitas negras y 4 blancas. Se sacan al azar 2 bolitas sin reposición, es decir se saca al azar un bolita y luego otra sin reponer la primera."
   ]
  },
  {
   "cell_type": "markdown",
   "id": "b499b2f7-8f79-4b01-81ef-448c38cb2078",
   "metadata": {},
   "source": [
    "### a) Describa el espacio muestral"
   ]
  },
  {
   "cell_type": "code",
   "execution_count": 15,
   "id": "d3703a21-b2ef-4a1b-86d5-5139af8f0e96",
   "metadata": {},
   "outputs": [
    {
     "data": {
      "text/html": [
       "<style>\n",
       ".list-inline {list-style: none; margin:0; padding: 0}\n",
       ".list-inline>li {display: inline-block}\n",
       ".list-inline>li:not(:last-child)::after {content: \"\\00b7\"; padding: 0 .5ex}\n",
       "</style>\n",
       "<ol class=list-inline><li>'Negra'</li><li>'Negra'</li><li>'Negra'</li><li>'Blanca'</li><li>'Blanca'</li><li>'Blanca'</li><li>'Blanca'</li></ol>\n"
      ],
      "text/latex": [
       "\\begin{enumerate*}\n",
       "\\item 'Negra'\n",
       "\\item 'Negra'\n",
       "\\item 'Negra'\n",
       "\\item 'Blanca'\n",
       "\\item 'Blanca'\n",
       "\\item 'Blanca'\n",
       "\\item 'Blanca'\n",
       "\\end{enumerate*}\n"
      ],
      "text/markdown": [
       "1. 'Negra'\n",
       "2. 'Negra'\n",
       "3. 'Negra'\n",
       "4. 'Blanca'\n",
       "5. 'Blanca'\n",
       "6. 'Blanca'\n",
       "7. 'Blanca'\n",
       "\n",
       "\n"
      ],
      "text/plain": [
       "[1] \"Negra\"  \"Negra\"  \"Negra\"  \"Blanca\" \"Blanca\" \"Blanca\" \"Blanca\""
      ]
     },
     "metadata": {},
     "output_type": "display_data"
    }
   ],
   "source": [
    "# Define las bolitas en la caja\n",
    "bolitas <- c(rep(\"Negra\", 3), rep(\"Blanca\", 4))\n",
    "bolitas"
   ]
  },
  {
   "cell_type": "code",
   "execution_count": 16,
   "id": "a3435532-78f9-47fd-aed5-ffb875420489",
   "metadata": {},
   "outputs": [],
   "source": [
    "# Genera todas las combinaciones posibles de sacar dos bolitas sin reposición\n",
    "espacio_muestral <- combn(bolitas, 2)\n",
    "espacio_muestral <- t(espacio_muestral) # Traspone la matriz anterior para que sea más fácil convertirla a df"
   ]
  },
  {
   "cell_type": "code",
   "execution_count": 17,
   "id": "59db9374-ccd6-4edd-bf40-73dfaffd4066",
   "metadata": {},
   "outputs": [],
   "source": [
    "# Convierte el resultado a un data frame para mayor claridad\n",
    "espacio_muestral_df <- data.frame(Bolita1 = espacio_muestral[, 1], Bolita2 = espacio_muestral[, 2])\n",
    "# Muestra el espacio muestral\n",
    "# print(\"Espacio Muestral:\")\n",
    "# espacio_muestral_df"
   ]
  },
  {
   "cell_type": "markdown",
   "id": "c27e05ce-695f-4315-9d01-29496ad90117",
   "metadata": {},
   "source": [
    "### b) Halle la probabilidad de que:"
   ]
  },
  {
   "cell_type": "markdown",
   "id": "0f090e40-01df-42f3-a3cf-beb5c917c9e2",
   "metadata": {},
   "source": [
    "#### 1. Las dos bolitas sean blancas"
   ]
  },
  {
   "cell_type": "code",
   "execution_count": 18,
   "id": "5cee2eaa-d4ee-4ff2-a9b1-cd775ac76ca4",
   "metadata": {},
   "outputs": [
    {
     "data": {
      "text/html": [
       "0.285714285714286"
      ],
      "text/latex": [
       "0.285714285714286"
      ],
      "text/markdown": [
       "0.285714285714286"
      ],
      "text/plain": [
       "[1] 0.2857143"
      ]
     },
     "metadata": {},
     "output_type": "display_data"
    }
   ],
   "source": [
    "# Probabilidad de la primera blanca\n",
    "P_bolita1_blanca <- 4/7\n",
    "# Probabilidad de la segunda blanca\n",
    "P_bolita2_blanca <- 3/6 # Porque es sin reposicion\n",
    "# Se multiplican\n",
    "P_bolita_1_2_blancas <- P_bolita1_blanca * P_bolita2_blanca\n",
    "P_bolita_1_2_blancas"
   ]
  },
  {
   "cell_type": "markdown",
   "id": "76bf4218-be49-4001-a18d-7121c3120d4f",
   "metadata": {},
   "source": [
    "#### 2. La primera sea blanca y la segunda negra"
   ]
  },
  {
   "cell_type": "code",
   "execution_count": 19,
   "id": "ca149943-6a61-406d-bbac-aaf7c4bb8121",
   "metadata": {},
   "outputs": [
    {
     "data": {
      "text/html": [
       "0.285714285714286"
      ],
      "text/latex": [
       "0.285714285714286"
      ],
      "text/markdown": [
       "0.285714285714286"
      ],
      "text/plain": [
       "[1] 0.2857143"
      ]
     },
     "metadata": {},
     "output_type": "display_data"
    }
   ],
   "source": [
    "# Probabilidad de la primera blanca\n",
    "P_bolita1_blanca <- 4/7\n",
    "# Probabilidad de la segunda negra\n",
    "P_bolita2_negra <- 3/6\n",
    "# Se multiplican \n",
    "P_bolita_1_blanca_2_negra <- P_bolita1_blanca * P_bolita2_negra\n",
    "P_bolita_1_blanca_2_negra"
   ]
  },
  {
   "cell_type": "markdown",
   "id": "0f934765-3e7f-4402-b8c2-7798f21dae8c",
   "metadata": {},
   "source": [
    "#### 3. Una sea blanca y la otra sea negra"
   ]
  },
  {
   "cell_type": "code",
   "execution_count": 20,
   "id": "11f48516-a781-4cfd-9474-07632e7c07c3",
   "metadata": {},
   "outputs": [
    {
     "name": "stdout",
     "output_type": "stream",
     "text": [
      "[1] 0.5714286\n"
     ]
    }
   ],
   "source": [
    "# Probabilidad de la primera blanca y la segunda negra\n",
    "P_bolita1_blanca <- 4 / 7\n",
    "P_bolita2_negra <- 3 / 6\n",
    "P_blanca_luego_negra <- P_bolita1_blanca * P_bolita2_negra\n",
    "\n",
    "# Probabilidad de la primera negra y la segunda blanca\n",
    "P_bolita1_negra <- 3 / 7\n",
    "P_bolita2_blanca <- 4 / 6\n",
    "P_negra_luego_blanca <- P_bolita1_negra * P_bolita2_blanca\n",
    "\n",
    "# Probabilidad de que una sea blanca y la otra negra (sin importar el orden)\n",
    "P_blanca_y_negra <- P_blanca_luego_negra + P_negra_luego_blanca\n",
    "\n",
    "# Mostrar la probabilidad\n",
    "print(P_blanca_y_negra)"
   ]
  },
  {
   "cell_type": "markdown",
   "id": "fa2d2e42-b43c-41de-a277-0e89182f293f",
   "metadata": {},
   "source": [
    "<hr>"
   ]
  },
  {
   "cell_type": "markdown",
   "id": "d4441b29-d8fd-41d5-8a75-3daa46bf6321",
   "metadata": {},
   "source": [
    "# Ejercicio 4"
   ]
  },
  {
   "cell_type": "markdown",
   "id": "0d38e6d9-3d47-432f-8fa9-e05f25d97171",
   "metadata": {},
   "source": [
    "### Se arroja un dado dos veces consecutivas"
   ]
  },
  {
   "cell_type": "code",
   "execution_count": 21,
   "id": "c161fee0-4f9a-4000-a15a-642946295a9b",
   "metadata": {},
   "outputs": [],
   "source": [
    "# Genera todos los posibles resultados del lanzamiento de dos dados\n",
    "dado1 <- 1:6\n",
    "dado2 <- 1:6\n",
    "\n",
    "# Crear el espacio muestral\n",
    "espacio_muestral <- expand.grid(dado1, dado2)\n",
    "\n",
    "# Renombrar las columnas para mayor claridad\n",
    "colnames(espacio_muestral) <- c(\"Dado1\", \"Dado2\")"
   ]
  },
  {
   "cell_type": "markdown",
   "id": "51b9e9dd-f719-42d2-ba76-80a854e8a70a",
   "metadata": {},
   "source": [
    "### a) ¿Cuál es la probabilidad de que la suma sea igual a 5?"
   ]
  },
  {
   "cell_type": "code",
   "execution_count": 22,
   "id": "c3b91bb0-2bf5-42c8-8cf8-80db5a47273b",
   "metadata": {},
   "outputs": [
    {
     "data": {
      "text/html": [
       "0.111111111111111"
      ],
      "text/latex": [
       "0.111111111111111"
      ],
      "text/markdown": [
       "0.111111111111111"
      ],
      "text/plain": [
       "[1] 0.1111111"
      ]
     },
     "metadata": {},
     "output_type": "display_data"
    }
   ],
   "source": [
    "# Hago un subset del evento\n",
    "evento_A <- subset(espacio_muestral, Dado1 + Dado2 == 5)\n",
    "# Calculo la probabilidad del evento\n",
    "P_A <- nrow(evento_A) / nrow(espacio_muestral)\n",
    "P_A"
   ]
  },
  {
   "cell_type": "markdown",
   "id": "385f3c25-355a-45d0-87d8-eb9d992625b0",
   "metadata": {},
   "source": [
    "### b) ¿Cuál es la probabilidad de que la suma sea igual a 7?"
   ]
  },
  {
   "cell_type": "code",
   "execution_count": 23,
   "id": "fb0cd5af-d5e4-4dc5-b347-ae0830b54b07",
   "metadata": {},
   "outputs": [
    {
     "data": {
      "text/html": [
       "0.166666666666667"
      ],
      "text/latex": [
       "0.166666666666667"
      ],
      "text/markdown": [
       "0.166666666666667"
      ],
      "text/plain": [
       "[1] 0.1666667"
      ]
     },
     "metadata": {},
     "output_type": "display_data"
    }
   ],
   "source": [
    "# Hago un subset del evento\n",
    "evento_B <- subset(espacio_muestral, Dado1 + Dado2 == 7)\n",
    "# Calculo la probabilidad del evento\n",
    "P_B <- nrow(evento_B) / nrow(espacio_muestral)\n",
    "P_B"
   ]
  },
  {
   "cell_type": "markdown",
   "id": "9b72ee08-4be5-4095-8b22-7e8eb69bac50",
   "metadata": {},
   "source": [
    "### c) ¿Cuál es la probabilidad de que el producto no exceda a 16?"
   ]
  },
  {
   "cell_type": "code",
   "execution_count": 24,
   "id": "f37ef26a-a4b9-456b-935c-7ce1802999e2",
   "metadata": {},
   "outputs": [
    {
     "data": {
      "text/html": [
       "0.722222222222222"
      ],
      "text/latex": [
       "0.722222222222222"
      ],
      "text/markdown": [
       "0.722222222222222"
      ],
      "text/plain": [
       "[1] 0.7222222"
      ]
     },
     "metadata": {},
     "output_type": "display_data"
    }
   ],
   "source": [
    "# Hago un subset del evento\n",
    "evento_C <- subset(espacio_muestral, Dado1 * Dado2 <= 16)\n",
    "# Calculo la probabilidad del evento\n",
    "P_C <- nrow(evento_C) / nrow(espacio_muestral)\n",
    "P_C"
   ]
  },
  {
   "cell_type": "markdown",
   "id": "b23d7ba6-2b96-4b85-9386-0e6c00e7ede5",
   "metadata": {},
   "source": [
    "### d) ¿Cuál es la probabilidad de que la suma sea igual a 5 o a 7?"
   ]
  },
  {
   "cell_type": "code",
   "execution_count": 25,
   "id": "6e08fb34-d6b1-48f4-86aa-3ea1a6042b2e",
   "metadata": {},
   "outputs": [
    {
     "data": {
      "text/html": [
       "0.277777777777778"
      ],
      "text/latex": [
       "0.277777777777778"
      ],
      "text/markdown": [
       "0.277777777777778"
      ],
      "text/plain": [
       "[1] 0.2777778"
      ]
     },
     "metadata": {},
     "output_type": "display_data"
    }
   ],
   "source": [
    "# Hago un subset del evento\n",
    "evento_D <- subset(espacio_muestral, (Dado1 + Dado2 == 5) | (Dado1 + Dado2 == 7)) \n",
    "# Calculo la probabilidad del evento\n",
    "P_D <- nrow(evento_D) / nrow(espacio_muestral)\n",
    "P_D"
   ]
  },
  {
   "cell_type": "markdown",
   "id": "0af0c216-3083-4281-a924-6cfe7f8ff4b6",
   "metadata": {},
   "source": [
    "### e) Si la suma de la cara de los dos dados es par, ¿Cuál es la probabilidad de que sea igual a 8?"
   ]
  },
  {
   "cell_type": "code",
   "execution_count": 26,
   "id": "5b000d0c-6291-4128-8571-fabccfc061eb",
   "metadata": {},
   "outputs": [
    {
     "data": {
      "text/html": [
       "0.138888888888889"
      ],
      "text/latex": [
       "0.138888888888889"
      ],
      "text/markdown": [
       "0.138888888888889"
      ],
      "text/plain": [
       "[1] 0.1388889"
      ]
     },
     "metadata": {},
     "output_type": "display_data"
    }
   ],
   "source": [
    "# Hago un subset del evento\n",
    "evento_E <- subset(espacio_muestral, ((Dado1 + Dado2) %% 2 == 0) & (Dado1 + Dado2 == 8))\n",
    "# Calculo la probabilidad del evento\n",
    "P_E <- nrow(evento_E) / nrow(espacio_muestral)\n",
    "P_E"
   ]
  },
  {
   "cell_type": "markdown",
   "id": "053f5484-297e-4218-934c-4d69987f148e",
   "metadata": {},
   "source": [
    "<hr>"
   ]
  },
  {
   "cell_type": "markdown",
   "id": "57a341f6-646d-409d-af1f-8bc86925ade1",
   "metadata": {},
   "source": [
    "# Ejercicio 5"
   ]
  },
  {
   "cell_type": "markdown",
   "id": "a834afef-483d-4ff9-8591-ea7216229de6",
   "metadata": {},
   "source": [
    "### Sean A y B dos sucesos tales que 𝑃(𝐴)=0,375, 𝑃(𝐵)=0,908 y 𝑃(𝐴∪𝐵)=0,989. Hallar:"
   ]
  },
  {
   "cell_type": "markdown",
   "id": "c8f8dd09-0f37-48fd-9c87-2658624d4f8e",
   "metadata": {},
   "source": [
    "#### a) P(A/B)"
   ]
  },
  {
   "cell_type": "code",
   "execution_count": 27,
   "id": "5ab5fbc9-633f-4161-90fd-bcf9793de8d4",
   "metadata": {},
   "outputs": [
    {
     "name": "stdout",
     "output_type": "stream",
     "text": [
      "P(A ∩ B) =  0.294"
     ]
    }
   ],
   "source": [
    "P_A <- 0.375\n",
    "P_B <- 0.908\n",
    "P_A_U_B <- 0.989\n",
    "\n",
    "# 1) Despejo la fórmula con los datos que tengo para poder obtener P de la intersección.\n",
    "# P(A ∪ B) = P(A) + P(B) - P(A ∩ B)\n",
    "# P(A ∩ B) = P(A) + P(B) - P(A ∪ B) # fórmula despejada\n",
    "P_A_B_interseccion <- P_A + P_B - P_A_U_B\n",
    "cat(\"P(A ∩ B) = \", P_A_B_interseccion)"
   ]
  },
  {
   "cell_type": "code",
   "execution_count": 28,
   "id": "f4e3814c-ee0d-4377-b588-2a2fad868291",
   "metadata": {},
   "outputs": [
    {
     "name": "stdout",
     "output_type": "stream",
     "text": [
      "P(A/B) =  0.3237885"
     ]
    }
   ],
   "source": [
    "p_A_B_condicional <- P_A_B_interseccion / P_B\n",
    "cat(\"P(A/B) = \", p_A_B_condicional)"
   ]
  },
  {
   "cell_type": "markdown",
   "id": "8988e099-88d9-4d3a-9d62-a6ba30f05988",
   "metadata": {},
   "source": [
    "### b) P(B/A)"
   ]
  },
  {
   "cell_type": "code",
   "execution_count": 29,
   "id": "7c96b5f5-1977-43a5-b056-1cd00f69b16e",
   "metadata": {},
   "outputs": [
    {
     "name": "stdout",
     "output_type": "stream",
     "text": [
      "P(B/A) =  0.784"
     ]
    }
   ],
   "source": [
    "p_A_B_condicional <- P_A_B_interseccion / P_A\n",
    "cat(\"P(B/A) = \", p_A_B_condicional)"
   ]
  },
  {
   "cell_type": "markdown",
   "id": "d517b09f-032e-4841-b2f2-8f26873c6d7c",
   "metadata": {},
   "source": [
    "<hr>"
   ]
  },
  {
   "cell_type": "markdown",
   "id": "586162f2-e665-49eb-bfc5-a1d694827e9d",
   "metadata": {},
   "source": [
    "# Ejercicio 6"
   ]
  },
  {
   "cell_type": "code",
   "execution_count": 30,
   "id": "e4361aab-1d2b-468d-9841-058e88aa6fa7",
   "metadata": {},
   "outputs": [],
   "source": [
    "### Si la probabilidad del evento A es 1/3 y la de que no se presente B es 1/4. ¿Pueden ser A y B mutuamente excluyentes?"
   ]
  },
  {
   "cell_type": "markdown",
   "id": "26773ed2-0d62-493e-9b47-d6126bda4b8b",
   "metadata": {},
   "source": [
    "No. Cuando 2 eventos son mutuamente excluyentes su intersección está vacío (es igual a 0) y su probabilidad es la suma de sus probabilidades. En este caso la suma de las probabilidades es > 1, por lo que se viola el primer axioma según el cual toda probabilidad tiene como máximo valor 1. En consecuencia, no pueden ser mutuamente excluyentes."
   ]
  },
  {
   "cell_type": "markdown",
   "id": "1de2bb12-08a6-4a00-b124-899ac4b3edac",
   "metadata": {},
   "source": [
    "<hr>"
   ]
  },
  {
   "cell_type": "markdown",
   "id": "788f7be1-3d65-47f4-b36c-229eaff91cc7",
   "metadata": {},
   "source": [
    "# Ejercicio 7"
   ]
  },
  {
   "cell_type": "markdown",
   "id": "8cf5b452-818a-4000-b48f-24129f8812eb",
   "metadata": {},
   "source": [
    "### Los eventos A y B son independientes, los eventos A y C son excluyentes y los eventos B y C son independientes.\n",
    "\n",
    "### Calcular P(A∪B∪C) sabiendo que 𝑃(𝐴)=0,50, 𝑃(𝐵)=0,25 y 𝑃(𝐶)=0,125."
   ]
  },
  {
   "cell_type": "code",
   "execution_count": 31,
   "id": "565e063b-ff7b-44ef-8b20-fd6fed6ed39a",
   "metadata": {},
   "outputs": [],
   "source": [
    "P_A <- 0.50\n",
    "P_B <- 0.25\n",
    "P_C <- 0.125"
   ]
  },
  {
   "cell_type": "code",
   "execution_count": 32,
   "id": "f505713b-1dd8-4cdb-9ff4-a855ff9addb8",
   "metadata": {},
   "outputs": [],
   "source": [
    "P_A_intersec_B <- P_A * P_B\n",
    "P_B_intersec_C <- P_B * P_C\n",
    "P_C_intersec_A <- 0"
   ]
  },
  {
   "cell_type": "code",
   "execution_count": 33,
   "id": "a5d9ec23-a119-46c2-ba16-1d40fb7ab30c",
   "metadata": {},
   "outputs": [
    {
     "name": "stdout",
     "output_type": "stream",
     "text": [
      "P(A∪B∪C): 0.71875"
     ]
    }
   ],
   "source": [
    "P_A_U_B_U_C <- P_A + P_B + P_C - P_A_intersec_B - P_B_intersec_C - P_C_intersec_A\n",
    "cat(\"P(A∪B∪C):\", P_A_U_B_U_C)"
   ]
  },
  {
   "cell_type": "markdown",
   "id": "7d4c8bbe-0898-470c-9b64-5e153c3f79ed",
   "metadata": {},
   "source": [
    "<hr>"
   ]
  },
  {
   "cell_type": "markdown",
   "id": "878c2e59-a9a8-40ea-9bad-65d2be090f45",
   "metadata": {},
   "source": [
    "# Ejercicio 8"
   ]
  },
  {
   "cell_type": "markdown",
   "id": "dee22b2e-d448-4be4-bdae-b8169107df0a",
   "metadata": {},
   "source": [
    "### En un curso hay 60 alumnos: 25 varones y 35 mujeres. Se elige un equipo de 3 alumnos para actualizar el blog del curso. Halle la probabilidad de que:"
   ]
  },
  {
   "cell_type": "markdown",
   "id": "7d3f13af-3b9d-4d92-8418-274354f4d760",
   "metadata": {},
   "source": [
    "### a) Haya exactamente una mujer en el equipo"
   ]
  },
  {
   "cell_type": "code",
   "execution_count": 34,
   "id": "d68bd563-f53e-46d7-9a1e-e42a8c245843",
   "metadata": {},
   "outputs": [
    {
     "name": "stdout",
     "output_type": "stream",
     "text": [
      "[1] \"Probabilidad de tener exactamente una mujer en el equipo: 0.306838106370543\"\n"
     ]
    }
   ],
   "source": [
    "# Parámetros\n",
    "N <- 60  # Total de alumnos\n",
    "K <- 35  # Total de mujeres\n",
    "n <- 3   # Tamaño del equipo\n",
    "k <- 1   # Número de mujeres en el equipo\n",
    "\n",
    "# Calcular la probabilidad usando la distribución hipergeométrica\n",
    "probabilidad_una_mujer <- dhyper(k, K, N - K, n)\n",
    "\n",
    "# Mostrar la probabilidad\n",
    "print(paste(\"Probabilidad de tener exactamente una mujer en el equipo:\", probabilidad_una_mujer))"
   ]
  },
  {
   "cell_type": "markdown",
   "id": "11cfe9b6-b9c6-44b1-9bd1-82f3fd5dbcad",
   "metadata": {},
   "source": [
    "### b) Haya al menos una mujer en el equipo"
   ]
  },
  {
   "cell_type": "code",
   "execution_count": 35,
   "id": "ba2674cb-237b-4fb2-ae7d-14ddc9811a99",
   "metadata": {},
   "outputs": [
    {
     "name": "stdout",
     "output_type": "stream",
     "text": [
      "[1] \"Probabilidad de tener al menos una mujer en el equipo: 0.932787843366452\"\n"
     ]
    }
   ],
   "source": [
    "# Parámetros\n",
    "N <- 60\n",
    "K <- 35\n",
    "n <- 3\n",
    "\n",
    "# Calcular la probabilidad de tener exactamente 1, 2 y 3 mujeres\n",
    "prob_1_mujer <- dhyper(1, K, N - K, n)\n",
    "prob_2_mujeres <- dhyper(2, K, N - K, n)\n",
    "prob_3_mujeres <- dhyper(3, K, N - K, n)\n",
    "\n",
    "# Sumar las probabilidades\n",
    "prob_al_menos_1_mujer <- prob_1_mujer + prob_2_mujeres + prob_3_mujeres\n",
    "\n",
    "# Mostrar la probabilidad\n",
    "print(paste(\"Probabilidad de tener al menos una mujer en el equipo:\", prob_al_menos_1_mujer))"
   ]
  },
  {
   "cell_type": "markdown",
   "id": "78e5bdb9-ed8c-465c-85dc-43218bf83928",
   "metadata": {},
   "source": [
    "### c) El equipo sea mixto"
   ]
  },
  {
   "cell_type": "code",
   "execution_count": 36,
   "id": "38411ab1-bdde-40c1-9d63-4e1bfe60322d",
   "metadata": {},
   "outputs": [
    {
     "name": "stdout",
     "output_type": "stream",
     "text": [
      "[1] \"Probabilidad de tener al menos una mujer en el equipo: 0.741525423728813\"\n"
     ]
    }
   ],
   "source": [
    "# Parámetros\n",
    "N <- 60\n",
    "K <- 35\n",
    "n <- 3\n",
    "\n",
    "# Calcular la probabilidad de tener exactamente 1 o 2 mujeres\n",
    "prob_1_mujer <- dhyper(1, K, N - K, n)\n",
    "prob_2_mujeres <- dhyper(2, K, N - K, n)\n",
    "\n",
    "# Sumar las probabilidades\n",
    "prob_mixto <- prob_1_mujer + prob_2_mujeres\n",
    "\n",
    "# Mostrar la probabilidad\n",
    "print(paste(\"Probabilidad de tener al menos una mujer en el equipo:\", prob_mixto))"
   ]
  },
  {
   "cell_type": "markdown",
   "id": "2f9a673c-e2e3-4338-b15f-d252a79dc884",
   "metadata": {},
   "source": [
    "<hr>"
   ]
  },
  {
   "cell_type": "markdown",
   "id": "5b459431-b093-48ae-bd06-70a4a3e9c9fb",
   "metadata": {},
   "source": [
    "# Ejercicio 9"
   ]
  },
  {
   "cell_type": "markdown",
   "id": "091764c7-b055-4636-b2b4-7f5e1ec4d324",
   "metadata": {},
   "source": [
    "### Una Entidad Financiera categorizó a 150 clientes de acuerdo al riesgo crediticio (Alto, Medio y Bajo) y a los volúmenes mensuales operados (Bajo, Medio y Alto). Los resultados obtenidos se muestran en la siguiente tabla:"
   ]
  },
  {
   "attachments": {
    "9baa0560-c195-40c2-a956-6b7fd1486137.png": {
     "image/png": "[encoded data removed]"
    }
   },
   "cell_type": "markdown",
   "id": "f17cb1d3-df36-41bd-b293-2ea7bbd9d322",
   "metadata": {},
   "source": [
    "![image.png](attachment:9baa0560-c195-40c2-a956-6b7fd1486137.png)"
   ]
  },
  {
   "cell_type": "markdown",
   "id": "203ad0b3-ca41-4027-a12c-4ec9c946d967",
   "metadata": {},
   "source": [
    "### a) Halle la tabla de las probabilidades conjuntas"
   ]
  },
  {
   "cell_type": "markdown",
   "id": "6f25e240-1162-4302-9978-bb2325e10ba9",
   "metadata": {},
   "source": [
    "Muestra las probabilidades de que ocurran eventos conjuntos de dos o más variables aleatorias. \n",
    "\n",
    "Esta tabla organiza las probabilidades de manera que puedes ver la probabilidad de que cada combinación de valores ocurra simultáneamente.\n",
    "\n",
    "**En este caso se divide cada celda por la sumatoria total de observaciones.** "
   ]
  },
  {
   "cell_type": "code",
   "execution_count": 37,
   "id": "8c5603e5-d287-473d-852f-f862c9d30ded",
   "metadata": {},
   "outputs": [
    {
     "name": "stdout",
     "output_type": "stream",
     "text": [
      "[1] \"Tabla de Probabilidades Conjuntas:\"\n",
      "             volumen_bajo volumen_medio volumen_alto\n",
      "riesgo_bajo    0.13333333     0.1333333   0.15333333\n",
      "riesgo_medio   0.21333333     0.2000000   0.03333333\n",
      "riesgo_alto    0.01333333     0.0200000   0.10000000\n"
     ]
    }
   ],
   "source": [
    "# Crea la tabla de frecuencias\n",
    "frecuencias <- matrix(c(20, 20, 23, 32, 30, 5, 2, 3, 15), nrow = 3, byrow = TRUE)\n",
    "\n",
    "# Agrega nombres a las filas y columnas\n",
    "rownames(frecuencias) <- c(\"riesgo_bajo\", \"riesgo_medio\", \"riesgo_alto\")\n",
    "colnames(frecuencias) <- c(\"volumen_bajo\", \"volumen_medio\", \"volumen_alto\")\n",
    "\n",
    "# Mostrar la tabla de frecuencias\n",
    "# print(\"Tabla de Frecuencias:\")\n",
    "# print(frecuencias)\n",
    "\n",
    "# Calcular el total de observaciones\n",
    "total_observaciones <- sum(frecuencias)\n",
    "# print(paste(\"Total de observaciones:\", total_observaciones))\n",
    "\n",
    "# Calcular la tabla de probabilidades conjuntas\n",
    "probabilidades_conjuntas <- frecuencias / total_observaciones\n",
    "\n",
    "# Mostrar la tabla de probabilidades conjuntas\n",
    "print(\"Tabla de Probabilidades Conjuntas:\")\n",
    "print(probabilidades_conjuntas)"
   ]
  },
  {
   "cell_type": "markdown",
   "id": "5d311015-e436-4f84-b466-3c8149324cdc",
   "metadata": {},
   "source": [
    "### b) Si se selecciona al azar a una de estas cuentas, calcule (de dos maneras diferentes) la probabilidad de que:"
   ]
  },
  {
   "cell_type": "markdown",
   "id": "184e8123-121b-4dc8-b8fd-66b77b33b79d",
   "metadata": {},
   "source": [
    "#### 1. Sea de riesgo crediticio medio"
   ]
  },
  {
   "cell_type": "code",
   "execution_count": 38,
   "id": "539215b5-8132-484d-83aa-8c9915287aa7",
   "metadata": {},
   "outputs": [
    {
     "name": "stdout",
     "output_type": "stream",
     "text": [
      "[1] \"Probabilidad de riesgo medio: 0.446666666666667\"\n"
     ]
    }
   ],
   "source": [
    "# Calcular la probabilidad marginal de riesgo medio\n",
    "prob_riesgo_medio <- sum(probabilidades_conjuntas[\"riesgo_medio\", ])\n",
    "\n",
    "# Mostrar la probabilidad marginal de riesgo medio\n",
    "print(paste(\"Probabilidad de riesgo medio:\", prob_riesgo_medio))"
   ]
  },
  {
   "cell_type": "markdown",
   "id": "1b1f34b6-bc59-43ea-915f-95b7a62cb05a",
   "metadata": {},
   "source": [
    "#### 2. Opere un volumen mensual alto"
   ]
  },
  {
   "cell_type": "code",
   "execution_count": 39,
   "id": "313c9c9d-5111-4099-8815-4a3d9a2ef591",
   "metadata": {},
   "outputs": [
    {
     "name": "stdout",
     "output_type": "stream",
     "text": [
      "[1] \"Probabilidad de volumen alto: 0.286666666666667\"\n"
     ]
    }
   ],
   "source": [
    "# Calcular la probabilidad marginal de riesgo medio\n",
    "prob_volumen_alto <- sum(probabilidades_conjuntas[, \"volumen_alto\"])\n",
    "\n",
    "# Mostrar la probabilidad marginal de riesgo medio\n",
    "print(paste(\"Probabilidad de volumen alto:\", prob_volumen_alto))"
   ]
  },
  {
   "cell_type": "markdown",
   "id": "c5f9a35b-fa03-4b4c-a910-c39d30e4c8dd",
   "metadata": {},
   "source": [
    "#### 3. Sea de riesgo crediticio medio y opere un volumen mensual alto"
   ]
  },
  {
   "cell_type": "code",
   "execution_count": 40,
   "id": "5fd0c65b-a7b2-4d19-ae5b-06a5c2b4eb3a",
   "metadata": {},
   "outputs": [
    {
     "name": "stdout",
     "output_type": "stream",
     "text": [
      "[1] \"Probabilidad de riesgo medio: 0.0333333333333333\"\n"
     ]
    }
   ],
   "source": [
    "# Calcular la probabilidad marginal de riesgo medio\n",
    "prob_riesgo_medio_volumen_alto <- sum(probabilidades_conjuntas[\"riesgo_medio\", \"volumen_alto\"])\n",
    "\n",
    "# Mostrar la probabilidad marginal de riesgo medio\n",
    "print(paste(\"Probabilidad de riesgo medio:\", prob_riesgo_medio_volumen_alto))"
   ]
  },
  {
   "cell_type": "markdown",
   "id": "4bed8981-f372-4a58-9d19-59861460fdd2",
   "metadata": {},
   "source": [
    "#### 4. Sea de riesgo crediticio alto dado que opera un volumen mensual medio"
   ]
  },
  {
   "cell_type": "code",
   "execution_count": 41,
   "id": "15dc168c-133a-41e6-8ce6-af499b48577b",
   "metadata": {},
   "outputs": [],
   "source": [
    "# Calcular las probabilidades marginales para el volumen mensual operado\n",
    "prob_marginal_volumen <- colSums(probabilidades_conjuntas)\n",
    "# Calcular la probabilidad marginal de \"volumen_medio\"\n",
    "prob_marginal_volumen_medio <- prob_marginal_volumen[\"volumen_medio\"]"
   ]
  },
  {
   "cell_type": "code",
   "execution_count": 42,
   "id": "ad4cf1b6-88a3-4a28-81d3-2423cde1b0e1",
   "metadata": {},
   "outputs": [
    {
     "name": "stdout",
     "output_type": "stream",
     "text": [
      "[1] \"Probabilidad de riesgo alto dado volumen medio: 0.0566037735849057\"\n"
     ]
    }
   ],
   "source": [
    "# Calcular la probabilidad conjunta de \"riesgo_alto\" y \"volumen_medio\"\n",
    "prob_conjunta_riesgo_alto_volumen_medio <- probabilidades_conjuntas[\"riesgo_alto\", \"volumen_medio\"]\n",
    "\n",
    "# Calcular la probabilidad condicional de \"riesgo alto\" dado \"volumen medio\"\n",
    "prob_condicional_riesgo_alto_dado_volumen_medio <- prob_conjunta_riesgo_alto_volumen_medio / prob_marginal_volumen_medio\n",
    "\n",
    "# Mostrar la probabilidad condicional\n",
    "print(paste(\"Probabilidad de riesgo alto dado volumen medio:\", prob_condicional_riesgo_alto_dado_volumen_medio))"
   ]
  },
  {
   "cell_type": "markdown",
   "id": "06f2cee6-0f25-4577-9a1a-6ee9fb5424ed",
   "metadata": {},
   "source": [
    "<hr>"
   ]
  },
  {
   "cell_type": "markdown",
   "id": "63b7e2fc-2eeb-4536-8dc5-466bfe1c6418",
   "metadata": {
    "scrolled": true
   },
   "source": [
    "# Ejercicio 10"
   ]
  },
  {
   "cell_type": "markdown",
   "id": "6cbdbe91-287a-47a9-be45-9a8e0ace45fc",
   "metadata": {},
   "source": [
    "### Una compañía que administra fondos comunes de inversión (FCI) ofrece a los inversores varios fondos, uno de mercado de dinero, tres fondos compuestos por instrumentos de renta fija – bonos - (a corto, mediano y largo plazo), dos de renta variable – acciones - (riesgo moderado y alto) y uno integral.\n",
    "\n",
    "### Entre los clientes que poseen acciones en uno solo de los fondos, los porcentajes de clientes en los diferentes fondos son los siguientes: 20% en mercado de dinero, 18% acciones de alto riesgo, 15% bonos a corto plazo, 25% acciones de riesgo moderado, 7% en integral, 10% bonos a mediano plazo y 5 bonos a largo plazo."
   ]
  },
  {
   "cell_type": "code",
   "execution_count": 43,
   "id": "92aa7065-94a2-4ce4-a193-a888e671ea59",
   "metadata": {},
   "outputs": [],
   "source": [
    "money_market <- 0.2\n",
    "acciones_alto_riesgo <- 0.18\n",
    "bonos_corto_plazo <- 0.15\n",
    "acciones_riesgo_moderado <- 0.25\n",
    "integral <- 0.07\n",
    "bonos_mediano_plazo <- 0.10\n",
    "bonos_largo_plazo <- 0.05"
   ]
  },
  {
   "cell_type": "markdown",
   "id": "eb8d9238-11ab-46d6-a886-eb5f732ebccf",
   "metadata": {},
   "source": [
    "### Se selecciona al azar un cliente que tenga acciones en uno solo de los fondos.\n",
    "\n",
    "#### a) Tenga acciones en un fondo compuesto por instrumentos de renta fija"
   ]
  },
  {
   "cell_type": "code",
   "execution_count": 44,
   "id": "cba6d5d7-691c-4a79-989e-f00492f8c779",
   "metadata": {},
   "outputs": [
    {
     "data": {
      "text/html": [
       "0.3"
      ],
      "text/latex": [
       "0.3"
      ],
      "text/markdown": [
       "0.3"
      ],
      "text/plain": [
       "[1] 0.3"
      ]
     },
     "metadata": {},
     "output_type": "display_data"
    }
   ],
   "source": [
    "fondos_renta_fija <- sum(c(\n",
    "    bonos_corto_plazo, bonos_mediano_plazo, bonos_largo_plazo\n",
    "))\n",
    "fondos_renta_fija"
   ]
  },
  {
   "cell_type": "markdown",
   "id": "e4c57884-3c3c-4319-830b-bb7f6fea4bfa",
   "metadata": {},
   "source": [
    "#### b) No tenga acciones en un fondo de acciones"
   ]
  },
  {
   "cell_type": "code",
   "execution_count": 45,
   "id": "bbfa4af2-edd6-44f6-b128-4a15faff1f1a",
   "metadata": {},
   "outputs": [
    {
     "data": {
      "text/html": [
       "0.57"
      ],
      "text/latex": [
       "0.57"
      ],
      "text/markdown": [
       "0.57"
      ],
      "text/plain": [
       "[1] 0.57"
      ]
     },
     "metadata": {},
     "output_type": "display_data"
    }
   ],
   "source": [
    "fondos_no_acciones <- sum(c(\n",
    "    fondos_renta_fija, money_market, integral\n",
    "))\n",
    "fondos_no_acciones"
   ]
  },
  {
   "cell_type": "markdown",
   "id": "53fef2b6-43dd-4eca-a093-b0497a8e32e0",
   "metadata": {},
   "source": [
    "<hr>"
   ]
  },
  {
   "cell_type": "markdown",
   "id": "747bbd2c-f096-41e9-849b-d40d4948d012",
   "metadata": {},
   "source": [
    "# Ejercicio 11"
   ]
  },
  {
   "cell_type": "markdown",
   "id": "42a3e6fb-4b28-414b-adcd-093ae056db5e",
   "metadata": {},
   "source": [
    "### En un pueblo se consumen dos tipos de bebidas alcohólicas: A y G.\n",
    "### El 30% de las personas consume al menos la bebida A, el 60% consume al menos la bebida G y se sabe que el 5% consume ambas bebidas."
   ]
  },
  {
   "cell_type": "markdown",
   "id": "05d2df5d-41e0-436d-856c-34b3c8b1fb16",
   "metadata": {},
   "source": [
    "### a) ¿Cuál es la probabilidad de que elegida una persona al azar tome bebidas alcohólicas?"
   ]
  },
  {
   "cell_type": "code",
   "execution_count": 46,
   "id": "e0588ee3-9dec-4eee-92c4-841480766f32",
   "metadata": {},
   "outputs": [],
   "source": [
    "# Probabilidades\n",
    "bebida_A <- 0.30\n",
    "bebida_G <- 0.60\n",
    "bebidas_A_G <- 0.05\n",
    "otras_bebidas <- 0.05"
   ]
  },
  {
   "cell_type": "code",
   "execution_count": 47,
   "id": "4ea30a19-989a-43ea-920d-861c6577d902",
   "metadata": {},
   "outputs": [
    {
     "data": {
      "text/html": [
       "0.85"
      ],
      "text/latex": [
       "0.85"
      ],
      "text/markdown": [
       "0.85"
      ],
      "text/plain": [
       "[1] 0.85"
      ]
     },
     "metadata": {},
     "output_type": "display_data"
    }
   ],
   "source": [
    "bebidas_alcoholicas <- bebida_A + bebida_G - bebidas_A_G\n",
    "bebidas_alcoholicas"
   ]
  },
  {
   "cell_type": "markdown",
   "id": "177a3457-c17e-4e43-91e2-409e516838dc",
   "metadata": {},
   "source": [
    "### b) ¿Qué probabilidad hay de que una persona elegida al azar no consuma bebidas alcohólicas?"
   ]
  },
  {
   "cell_type": "code",
   "execution_count": 48,
   "id": "b9c1a3b4-2f94-4ed3-95d9-a612238fd061",
   "metadata": {},
   "outputs": [
    {
     "data": {
      "text/html": [
       "0.15"
      ],
      "text/latex": [
       "0.15"
      ],
      "text/markdown": [
       "0.15"
      ],
      "text/plain": [
       "[1] 0.15"
      ]
     },
     "metadata": {},
     "output_type": "display_data"
    }
   ],
   "source": [
    "no_alcohol <- 1 - bebidas_alcoholicas\n",
    "no_alcohol"
   ]
  },
  {
   "cell_type": "markdown",
   "id": "355e4dd2-60ec-4218-85cd-107baf3b1a80",
   "metadata": {},
   "source": [
    "### c) ¿Cuál es la probabilidad de que una persona elegida al azar tome la bebida A solamente?"
   ]
  },
  {
   "cell_type": "code",
   "execution_count": 49,
   "id": "3db687da-97da-4fd7-b62b-4b37e408efb9",
   "metadata": {},
   "outputs": [
    {
     "data": {
      "text/html": [
       "0.25"
      ],
      "text/latex": [
       "0.25"
      ],
      "text/markdown": [
       "0.25"
      ],
      "text/plain": [
       "[1] 0.25"
      ]
     },
     "metadata": {},
     "output_type": "display_data"
    }
   ],
   "source": [
    "solo_bebida_A <- bebida_A - bebidas_A_G\n",
    "solo_bebida_A"
   ]
  },
  {
   "cell_type": "markdown",
   "id": "e6e87981-ba52-4cb1-a7eb-1f6a98f3edde",
   "metadata": {},
   "source": [
    "### d) Si elegimos dos personas al azar, ¿Cuál es la probabilidad de que ambas tomen bebidas alcohólicas?"
   ]
  },
  {
   "cell_type": "code",
   "execution_count": 50,
   "id": "f4235757-7561-41f9-8dab-5a0507fc8f29",
   "metadata": {},
   "outputs": [
    {
     "name": "stdout",
     "output_type": "stream",
     "text": [
      "[1] 0.7225\n"
     ]
    }
   ],
   "source": [
    "# Probabilidad de que una persona consuma alguna bebida alcohólica\n",
    "prob_una_persona <- 0.85\n",
    "\n",
    "# Probabilidad de que dos personas consuman alguna bebida alcohólica\n",
    "prob_dos_personas <- prob_una_persona^2\n",
    "\n",
    "# Imprimimos el resultado\n",
    "print(prob_dos_personas)"
   ]
  },
  {
   "cell_type": "markdown",
   "id": "eaacd282-9a05-472c-9988-f35557f57764",
   "metadata": {},
   "source": [
    "### e) Se elige una persona al azar y resulta ser consumidora de bebidas alcohólicas, ¿Cuál es la probabilidad de que tome A?"
   ]
  },
  {
   "cell_type": "code",
   "execution_count": 51,
   "id": "403416f5-00d8-4047-9a7e-3aa62975272d",
   "metadata": {},
   "outputs": [
    {
     "data": {
      "text/html": [
       "0.352941176470588"
      ],
      "text/latex": [
       "0.352941176470588"
      ],
      "text/markdown": [
       "0.352941176470588"
      ],
      "text/plain": [
       "[1] 0.3529412"
      ]
     },
     "metadata": {},
     "output_type": "display_data"
    }
   ],
   "source": [
    "probabilidad_bebida_A <- bebida_A / prob_una_persona\n",
    "probabilidad_bebida_A"
   ]
  },
  {
   "cell_type": "markdown",
   "id": "17c37ad2-f6a4-47eb-a682-3a2eb8e8ab92",
   "metadata": {},
   "source": [
    "### f) Ídem anterior pero determinando la probabilidad de que tome la bebida G."
   ]
  },
  {
   "cell_type": "code",
   "execution_count": 52,
   "id": "390038ee-6a2e-45fa-872b-fb428b3a84ef",
   "metadata": {},
   "outputs": [
    {
     "data": {
      "text/html": [
       "0.705882352941177"
      ],
      "text/latex": [
       "0.705882352941177"
      ],
      "text/markdown": [
       "0.705882352941177"
      ],
      "text/plain": [
       "[1] 0.7058824"
      ]
     },
     "metadata": {},
     "output_type": "display_data"
    }
   ],
   "source": [
    "probabilidad_bebida_G <- bebida_G / prob_una_persona\n",
    "probabilidad_bebida_G"
   ]
  },
  {
   "cell_type": "markdown",
   "id": "c1560dd8-17a0-4d6e-b241-d714176c2150",
   "metadata": {},
   "source": [
    "<hr>"
   ]
  },
  {
   "cell_type": "markdown",
   "id": "bfb80d9b-f650-4747-94fe-1bdcc404c4b6",
   "metadata": {},
   "source": [
    "# Ejercicio 12"
   ]
  },
  {
   "cell_type": "markdown",
   "id": "32e6f1b6-87aa-4a3f-b26c-69d5f9c49b33",
   "metadata": {},
   "source": [
    "### El total de la población infantil de un país se distribuye en tres regiones de la siguiente manera: en la región A se encuentra el 50% de la población, en la B el 30% y el resto en la C. Se sabe que la probabilidad de encontrar un niño con caries en cada una de las regiones es, 0,40, 0,50 y 0,60 respectivamente.\n",
    "### Si se toma al azar un niño de la población, calcular:"
   ]
  },
  {
   "cell_type": "markdown",
   "id": "e1edbb09-07ba-4ed8-9c2f-8194bfebc251",
   "metadata": {},
   "source": [
    "#### a) La probabilidad de que tenga caries"
   ]
  },
  {
   "cell_type": "code",
   "execution_count": 53,
   "id": "91184322-be15-4e1b-878f-e8e4705f2edb",
   "metadata": {},
   "outputs": [
    {
     "data": {
      "text/html": [
       "0.47"
      ],
      "text/latex": [
       "0.47"
      ],
      "text/markdown": [
       "0.47"
      ],
      "text/plain": [
       "[1] 0.47"
      ]
     },
     "metadata": {},
     "output_type": "display_data"
    }
   ],
   "source": [
    "probabilidad_total_caries <- 0.5 * 0.4 + 0.3 * 0.5 + 0.2 * 0.6\n",
    "probabilidad_total_caries"
   ]
  },
  {
   "cell_type": "markdown",
   "id": "ce9b45ae-42f0-4269-9d2f-e61f9192a0fc",
   "metadata": {},
   "source": [
    "#### b) La probabilidad de que sea de la región B"
   ]
  },
  {
   "cell_type": "code",
   "execution_count": 54,
   "id": "429d02c0-7479-42ac-8c46-a45beec37465",
   "metadata": {},
   "outputs": [
    {
     "data": {
      "text/html": [
       "0.3"
      ],
      "text/latex": [
       "0.3"
      ],
      "text/markdown": [
       "0.3"
      ],
      "text/plain": [
       "[1] 0.3"
      ]
     },
     "metadata": {},
     "output_type": "display_data"
    }
   ],
   "source": [
    "0.3"
   ]
  },
  {
   "cell_type": "markdown",
   "id": "397c505a-3b9a-411c-aaeb-0ea14873fcc3",
   "metadata": {},
   "source": [
    "#### c) La probabilidad de que teniendo caries, provenga de la región B"
   ]
  },
  {
   "cell_type": "code",
   "execution_count": 55,
   "id": "008b8bd7-b23c-4f9b-baef-ce50290eb0cc",
   "metadata": {},
   "outputs": [
    {
     "data": {
      "text/html": [
       "0.319148936170213"
      ],
      "text/latex": [
       "0.319148936170213"
      ],
      "text/markdown": [
       "0.319148936170213"
      ],
      "text/plain": [
       "[1] 0.3191489"
      ]
     },
     "metadata": {},
     "output_type": "display_data"
    }
   ],
   "source": [
    "probabilidad_caries_region_B <- 0.3 * 0.5 / 0.47\n",
    "probabilidad_caries_region_B"
   ]
  },
  {
   "cell_type": "markdown",
   "id": "38210fec-6e67-4f1c-948d-576dfc89f897",
   "metadata": {},
   "source": [
    "<hr>"
   ]
  },
  {
   "cell_type": "markdown",
   "id": "1217c631-03c4-4f99-8311-6a2e73ddc180",
   "metadata": {},
   "source": [
    "# Ejercicio 13"
   ]
  },
  {
   "cell_type": "markdown",
   "id": "5f14abdb-c25a-4010-b4b1-e342eea603fc",
   "metadata": {},
   "source": [
    "### Según un censo realizado en una región del país para estudiar las condiciones educacionales, se comprobó que el 64% de la población tiene 18 años o más y, de estos, el 15% no completo los estudios primarios, mientras el 88% del total de la población termino lo estudios primarios. Se selecciona una persona al azar de dicha población y se desea saber,"
   ]
  },
  {
   "cell_type": "markdown",
   "id": "29021bde-9ad7-4a29-a534-a8e2c3cac84b",
   "metadata": {},
   "source": [
    "#### a) ¿Cuál es la probabilidad de que haya terminado los estudios primarios y tenga más de 18 años?"
   ]
  },
  {
   "cell_type": "code",
   "execution_count": null,
   "id": "3e717de0-38f5-4de1-b03f-f985d12cab87",
   "metadata": {},
   "outputs": [],
   "source": []
  },
  {
   "cell_type": "markdown",
   "id": "e3c0c408-fb27-4c61-9668-652aed710828",
   "metadata": {},
   "source": [
    "#### b) ¿Cuál es la probabilidad de que no haya terminado los estudios primarios o tenga menos de 18 años?"
   ]
  },
  {
   "cell_type": "code",
   "execution_count": null,
   "id": "ce4dd79f-54ad-438c-8df5-d07829678049",
   "metadata": {},
   "outputs": [],
   "source": []
  },
  {
   "cell_type": "markdown",
   "id": "ea90b625-56a4-4438-8bb7-c9d4edf0aa02",
   "metadata": {},
   "source": [
    "#### c) ¿Qué porcentaje de habitantes que terminaron los estudios primarios tienen más de 18 años?"
   ]
  },
  {
   "cell_type": "code",
   "execution_count": null,
   "id": "adaec847-9f14-45d4-b8e0-d6e881525335",
   "metadata": {},
   "outputs": [],
   "source": []
  },
  {
   "cell_type": "markdown",
   "id": "73d0d624-dc3c-40d1-aa67-a726fdeab711",
   "metadata": {},
   "source": [
    "<hr>"
   ]
  },
  {
   "cell_type": "markdown",
   "id": "7ae173d4-240b-41e4-9e97-860063884a95",
   "metadata": {},
   "source": [
    "# Ejercicio 14"
   ]
  },
  {
   "cell_type": "markdown",
   "id": "8630f961-9bae-459a-8dd9-d08b4b0e2bd9",
   "metadata": {},
   "source": [
    "### En la Ciudad Autónoma de Buenos Aires se publican tres periódicos: A, B y C. A partir de una encuesta se estima que de la población adulta, el 20% lee por lo menos el periódico A, el 16% lee B y el 14% lee C. Se obtuvo también que el 8% lee al menos A y B, el 5% lee al menos A y C, el 4% lee al menos B y C y que el 2% lee los tres periódicos."
   ]
  },
  {
   "cell_type": "code",
   "execution_count": 56,
   "id": "8d3815f7-c779-42a4-8042-dba93d23ee10",
   "metadata": {},
   "outputs": [],
   "source": [
    "P_A <- 0.2\n",
    "P_B <- 0.16\n",
    "P_C <- 0.14\n",
    "P_A_intersec_B <- 0.08\n",
    "P_A_intersec_C <- 0.05\n",
    "P_B_intersec_C <- 0.04\n",
    "P_A_intersec_B_intersec_C <- 0.02"
   ]
  },
  {
   "cell_type": "markdown",
   "id": "d1e48bc8-c661-41e6-9d2e-5994193d9fa8",
   "metadata": {},
   "source": [
    "#### a) ¿Qué porcentaje lee al menos uno de estos periódicos? (LA UNION)"
   ]
  },
  {
   "cell_type": "code",
   "execution_count": 57,
   "id": "f0f33acd-bc11-49ac-8dc1-b21f5bb28075",
   "metadata": {},
   "outputs": [
    {
     "data": {
      "text/html": [
       "0.35"
      ],
      "text/latex": [
       "0.35"
      ],
      "text/markdown": [
       "0.35"
      ],
      "text/plain": [
       "[1] 0.35"
      ]
     },
     "metadata": {},
     "output_type": "display_data"
    }
   ],
   "source": [
    "porcentaje = P_A + P_B + P_C - P_A_intersec_B - P_A_intersec_C - P_B_intersec_C + P_A_intersec_B_intersec_C\n",
    "porcentaje"
   ]
  },
  {
   "cell_type": "markdown",
   "id": "811400eb-6a17-46f9-9f3d-e421ac31516f",
   "metadata": {},
   "source": [
    "#### b) De los que leen al menos un periódico, ¿Qué porcentaje lee A y B?"
   ]
  },
  {
   "cell_type": "code",
   "execution_count": 58,
   "id": "fe7df5df-9dc9-4ce6-9ab8-49c25aa112e4",
   "metadata": {},
   "outputs": [
    {
     "data": {
      "text/html": [
       "0.228571428571429"
      ],
      "text/latex": [
       "0.228571428571429"
      ],
      "text/markdown": [
       "0.228571428571429"
      ],
      "text/plain": [
       "[1] 0.2285714"
      ]
     },
     "metadata": {},
     "output_type": "display_data"
    }
   ],
   "source": [
    "P_A_intersec_B / porcentaje"
   ]
  },
  {
   "cell_type": "markdown",
   "id": "ddf9a229-e21f-4432-b8ee-1a9a6bd57e29",
   "metadata": {},
   "source": [
    "<hr>"
   ]
  },
  {
   "cell_type": "markdown",
   "id": "26cc1ff8-b17d-4965-a6e8-28b30b305c65",
   "metadata": {},
   "source": [
    "# Ejercicio 15"
   ]
  },
  {
   "cell_type": "markdown",
   "id": "fb18f4a3-9370-44ea-b128-1970ad11996e",
   "metadata": {},
   "source": [
    "### El 70% de los gerentes de cierta empresa posee automóvil y el 15% posee telefonía portátil, mientras un 3% cuenta con ambos productos y fue considerado en los porcentajes anteriores."
   ]
  },
  {
   "cell_type": "code",
   "execution_count": 59,
   "id": "f7913de6-680b-48ee-84a5-e9ba546cce52",
   "metadata": {},
   "outputs": [],
   "source": [
    "pA <- .7\n",
    "pT <- .15\n",
    "pByC <- .03"
   ]
  },
  {
   "cell_type": "markdown",
   "id": "3d6fb073-c451-42f5-8795-326ee7eb4266",
   "metadata": {},
   "source": [
    "#### a) ¿Cuál es el porcentaje de gerentes que posee al menos uno de estos productos?"
   ]
  },
  {
   "cell_type": "code",
   "execution_count": 60,
   "id": "f7cd2d2d-b71b-485d-b715-f62000e24c2f",
   "metadata": {},
   "outputs": [
    {
     "data": {
      "text/html": [
       "0.82"
      ],
      "text/latex": [
       "0.82"
      ],
      "text/markdown": [
       "0.82"
      ],
      "text/plain": [
       "[1] 0.82"
      ]
     },
     "metadata": {},
     "output_type": "display_data"
    }
   ],
   "source": [
    "union <- pA + pT - pByC\n",
    "union"
   ]
  },
  {
   "cell_type": "markdown",
   "id": "eb7850a4-535d-4ed5-9fee-808e7dd12ee4",
   "metadata": {},
   "source": [
    "#### b) ¿Cuál es la probabilidad de encontrar un gerente que no cuente con ninguno de ellos?"
   ]
  },
  {
   "cell_type": "code",
   "execution_count": 61,
   "id": "c7066c72-2695-4477-b64e-47c9556f99bf",
   "metadata": {},
   "outputs": [
    {
     "data": {
      "text/html": [
       "0.18"
      ],
      "text/latex": [
       "0.18"
      ],
      "text/markdown": [
       "0.18"
      ],
      "text/plain": [
       "[1] 0.18"
      ]
     },
     "metadata": {},
     "output_type": "display_data"
    }
   ],
   "source": [
    "no_chiches <- 1 - union\n",
    "no_chiches"
   ]
  },
  {
   "cell_type": "markdown",
   "id": "6d78a73a-5451-4af1-8144-bb83da0b4622",
   "metadata": {},
   "source": [
    "### c) Se elige un gerente al azar que posee uno de estos productos, ¿Cuál es la probabilidad de que solo tenga telefonía portátil?"
   ]
  },
  {
   "cell_type": "code",
   "execution_count": 62,
   "id": "4afd0bd6-47ec-4838-8adc-888e92b5e390",
   "metadata": {},
   "outputs": [
    {
     "data": {
      "text/html": [
       "0.12"
      ],
      "text/latex": [
       "0.12"
      ],
      "text/markdown": [
       "0.12"
      ],
      "text/plain": [
       "[1] 0.12"
      ]
     },
     "metadata": {},
     "output_type": "display_data"
    }
   ],
   "source": [
    "pT - pByC"
   ]
  },
  {
   "cell_type": "markdown",
   "id": "4fd65e33-00a5-4852-961b-36ad0252d2e8",
   "metadata": {},
   "source": [
    "<hr>"
   ]
  },
  {
   "cell_type": "markdown",
   "id": "16900337-6d32-403c-90a5-b603cae6c158",
   "metadata": {},
   "source": [
    "# Ejercicio 16"
   ]
  },
  {
   "cell_type": "markdown",
   "id": "0c98f358-d0b1-4358-88c4-f663c4b1c1ff",
   "metadata": {},
   "source": [
    "### La probabilidad de que baje el precio del litro de leche durante el próximo mes es estimada en 0,40, la probabilidad de que aumente el consumo de leche en el mes siguiente se calcula en 0,50 y la probabilidad de ambos sucesos se calcula en 0,10. Calcular la probabilidad de que:"
   ]
  },
  {
   "cell_type": "code",
   "execution_count": 63,
   "id": "4e46d225-e8a8-4b42-8276-a3b7d95fad30",
   "metadata": {},
   "outputs": [],
   "source": [
    "pA <- .4 # P(Baje el precio de la leche)\n",
    "pB <- .5 # P(Aumente el consumo de la leche)\n",
    "pAyB <- .1 # P(ambos sucesos)"
   ]
  },
  {
   "cell_type": "markdown",
   "id": "5eaf2f81-d72b-4306-8aeb-138f6675cc46",
   "metadata": {},
   "source": [
    "#### a) Haya bajado el precio de la leche durante el mes, dado que el consumo haya aumentado"
   ]
  },
  {
   "cell_type": "code",
   "execution_count": 64,
   "id": "f234fb74-d954-48d6-b871-2db8254f7554",
   "metadata": {},
   "outputs": [
    {
     "data": {
      "text/html": [
       "0.2"
      ],
      "text/latex": [
       "0.2"
      ],
      "text/markdown": [
       "0.2"
      ],
      "text/plain": [
       "[1] 0.2"
      ]
     },
     "metadata": {},
     "output_type": "display_data"
    }
   ],
   "source": [
    "# Calculamos la condicional\n",
    "pAyB / pB"
   ]
  },
  {
   "cell_type": "markdown",
   "id": "8c396a09-d306-4f6f-a82a-b62fc3b63641",
   "metadata": {},
   "source": [
    "### b) El consumo haya aumentado si el precio de la leche ha aumentado"
   ]
  },
  {
   "cell_type": "code",
   "execution_count": 65,
   "id": "15cb5284-3fca-4fc7-a455-cd484d1a6574",
   "metadata": {},
   "outputs": [
    {
     "data": {
      "text/html": [
       "0.166666666666667"
      ],
      "text/latex": [
       "0.166666666666667"
      ],
      "text/markdown": [
       "0.166666666666667"
      ],
      "text/plain": [
       "[1] 0.1666667"
      ]
     },
     "metadata": {},
     "output_type": "display_data"
    }
   ],
   "source": [
    "pAyB / (1 - pA)"
   ]
  },
  {
   "cell_type": "markdown",
   "id": "cb0b80fb-1804-4e5e-96b6-473469241340",
   "metadata": {},
   "source": [
    "### c) Pruebe si ambos sucesos son independientes o no"
   ]
  },
  {
   "cell_type": "code",
   "execution_count": 66,
   "id": "e19fb99a-cb70-4e23-bd05-f745cbb812c6",
   "metadata": {},
   "outputs": [
    {
     "data": {
      "text/html": [
       "FALSE"
      ],
      "text/latex": [
       "FALSE"
      ],
      "text/markdown": [
       "FALSE"
      ],
      "text/plain": [
       "[1] FALSE"
      ]
     },
     "metadata": {},
     "output_type": "display_data"
    }
   ],
   "source": [
    "# Se verifica comparando si la intersección es igual al producto de las probabilidades\n",
    "pAyB == pA * pB"
   ]
  },
  {
   "cell_type": "markdown",
   "id": "28049f62-ee83-41fd-85eb-0180db9cd541",
   "metadata": {},
   "source": [
    "<hr>"
   ]
  },
  {
   "cell_type": "markdown",
   "id": "f171de2e-17f3-4661-9885-ebf1167dea5b",
   "metadata": {},
   "source": [
    "# Ejercicio 17"
   ]
  },
  {
   "cell_type": "markdown",
   "id": "162bd38b-d8ae-4dd7-aa33-2f814302d01f",
   "metadata": {},
   "source": [
    "### Se realiza una encuesta a amas de casa en relación a las dos únicas marcas de arroz que existen en plaza. El 60% compra al menos arroz marca A, el 30% adquiere al menos arroz de marca B, contándose un 10% que compra ambas marcas. Al elegirse un ama de casa al azar y preguntársele si consume arroz, responde afirmativamente:"
   ]
  },
  {
   "cell_type": "code",
   "execution_count": 67,
   "id": "3ebef5f2-40e2-46e4-8e90-438f52995350",
   "metadata": {},
   "outputs": [],
   "source": [
    "pA <- .6 # P(al menos arroz marca A)\n",
    "pB <- .3 # P(al menos arroz marca B)\n",
    "pAyB <- .1 # P(marca A y B)"
   ]
  },
  {
   "cell_type": "markdown",
   "id": "a9f10f16-1a3d-4da0-a5d2-ef3547491cc9",
   "metadata": {},
   "source": [
    "#### a) ¿Cuál es la probabilidad de que consuma sólo marca B?"
   ]
  },
  {
   "cell_type": "code",
   "execution_count": 68,
   "id": "a27169ee-e0c9-40b5-8bfa-9da7026438cf",
   "metadata": {},
   "outputs": [
    {
     "data": {
      "text/html": [
       "0.2"
      ],
      "text/latex": [
       "0.2"
      ],
      "text/markdown": [
       "0.2"
      ],
      "text/plain": [
       "[1] 0.2"
      ]
     },
     "metadata": {},
     "output_type": "display_data"
    }
   ],
   "source": [
    "# Me está preguntando la probabilidad completa de B menos la intersección\n",
    "pB - pAyB"
   ]
  },
  {
   "cell_type": "markdown",
   "id": "139d6ae4-d2f4-49f1-a528-0cf9bfe96fdb",
   "metadata": {},
   "source": [
    "#### b) ¿Cuál es la probabilidad de que consuma sólo marca A?"
   ]
  },
  {
   "cell_type": "code",
   "execution_count": 69,
   "id": "55cd8074-eb1a-461a-bd8b-d645498dad99",
   "metadata": {},
   "outputs": [
    {
     "data": {
      "text/html": [
       "0.5"
      ],
      "text/latex": [
       "0.5"
      ],
      "text/markdown": [
       "0.5"
      ],
      "text/plain": [
       "[1] 0.5"
      ]
     },
     "metadata": {},
     "output_type": "display_data"
    }
   ],
   "source": [
    "pA - pAyB"
   ]
  },
  {
   "cell_type": "markdown",
   "id": "42dbf337-ba4f-4d76-a2b1-df5ff8e178cb",
   "metadata": {},
   "source": [
    "#### c) ¿Cuál es la probabilidad de que consuma marca A o B?"
   ]
  },
  {
   "cell_type": "code",
   "execution_count": 70,
   "id": "434d0336-0709-415f-ad7f-4fd51f12075d",
   "metadata": {},
   "outputs": [
    {
     "data": {
      "text/html": [
       "0.8"
      ],
      "text/latex": [
       "0.8"
      ],
      "text/markdown": [
       "0.8"
      ],
      "text/plain": [
       "[1] 0.8"
      ]
     },
     "metadata": {},
     "output_type": "display_data"
    }
   ],
   "source": [
    "pA + pB - pAyB"
   ]
  },
  {
   "cell_type": "markdown",
   "id": "d8a35069-1a58-48a3-8037-f35e91595dab",
   "metadata": {},
   "source": [
    "<hr>"
   ]
  },
  {
   "cell_type": "markdown",
   "id": "dbe1ab76-3377-4d6c-ba5b-98cf9e2840bb",
   "metadata": {},
   "source": [
    "# Ejercicio 18"
   ]
  },
  {
   "cell_type": "markdown",
   "id": "6b9a6795-ab43-454c-a849-5541b4fa38f3",
   "metadata": {},
   "source": [
    "### En una localidad de la provincia de Buenos Aires, fueron afectados por grupo doscientos niños, los cuales fueron divididos en tres grupos para poner a prueba tres antigripales. El 25% del total corresponde al primer grupo, un 35% al segundo y el resto al tercero. De cada grupo mejoró el 68%, 80% y 55% respectivamente. Si se elige al azar un niño, calcular la probabilidad de que:"
   ]
  },
  {
   "cell_type": "code",
   "execution_count": 71,
   "id": "5e01be8d-d3d0-4ede-a948-33ede78949db",
   "metadata": {},
   "outputs": [],
   "source": [
    "pA <- .25\n",
    "pB <- .35\n",
    "pC <- 1 - pA - pB"
   ]
  },
  {
   "cell_type": "code",
   "execution_count": 72,
   "id": "abd051df-7e54-4142-8877-d2df598e4e34",
   "metadata": {},
   "outputs": [],
   "source": [
    "pAM <- .68\n",
    "pBM <- .80\n",
    "pCM <- .55"
   ]
  },
  {
   "cell_type": "markdown",
   "id": "c844d6a7-9452-4230-a57c-9089c4cc8c5a",
   "metadata": {},
   "source": [
    "#### a) Haya sido tratado con el antigripal n° 1"
   ]
  },
  {
   "cell_type": "code",
   "execution_count": 73,
   "id": "fa0f7d87-6a30-428e-8f3e-249e12bf5504",
   "metadata": {},
   "outputs": [
    {
     "data": {
      "text/html": [
       "0.25"
      ],
      "text/latex": [
       "0.25"
      ],
      "text/markdown": [
       "0.25"
      ],
      "text/plain": [
       "[1] 0.25"
      ]
     },
     "metadata": {},
     "output_type": "display_data"
    }
   ],
   "source": [
    "pA"
   ]
  },
  {
   "cell_type": "markdown",
   "id": "bd0066a1-420e-4b06-9a70-c96472672b52",
   "metadata": {},
   "source": [
    "#### b) Haya sido tratado con el antigripal n° 2"
   ]
  },
  {
   "cell_type": "code",
   "execution_count": 74,
   "id": "82181546-c635-4fdf-9c28-a56d5baf77c9",
   "metadata": {},
   "outputs": [
    {
     "data": {
      "text/html": [
       "0.35"
      ],
      "text/latex": [
       "0.35"
      ],
      "text/markdown": [
       "0.35"
      ],
      "text/plain": [
       "[1] 0.35"
      ]
     },
     "metadata": {},
     "output_type": "display_data"
    }
   ],
   "source": [
    "pB"
   ]
  },
  {
   "cell_type": "markdown",
   "id": "1c34f9e0-7a27-4b23-99a1-9e0af4eadcef",
   "metadata": {},
   "source": [
    "#### c) Haya sido tratado con el antigripal n° 3"
   ]
  },
  {
   "cell_type": "code",
   "execution_count": 75,
   "id": "4368f5f4-8dec-4d66-8ef5-54b889dc8f72",
   "metadata": {},
   "outputs": [
    {
     "data": {
      "text/html": [
       "0.4"
      ],
      "text/latex": [
       "0.4"
      ],
      "text/markdown": [
       "0.4"
      ],
      "text/plain": [
       "[1] 0.4"
      ]
     },
     "metadata": {},
     "output_type": "display_data"
    }
   ],
   "source": [
    "pC"
   ]
  },
  {
   "cell_type": "markdown",
   "id": "3188baf4-0c4a-4c53-8394-5fb17b085cc8",
   "metadata": {},
   "source": [
    "#### d) Pertenezca al grupo de los que mejoraron"
   ]
  },
  {
   "cell_type": "code",
   "execution_count": 76,
   "id": "70eae2e4-f4ce-45e9-903d-bf167f6b6c66",
   "metadata": {},
   "outputs": [
    {
     "data": {
      "text/html": [
       "0.67"
      ],
      "text/latex": [
       "0.67"
      ],
      "text/markdown": [
       "0.67"
      ],
      "text/plain": [
       "[1] 0.67"
      ]
     },
     "metadata": {},
     "output_type": "display_data"
    }
   ],
   "source": [
    "grupo_mejora <- pA * pAM + pB * pBM + pC * pCM\n",
    "grupo_mejora"
   ]
  },
  {
   "cell_type": "markdown",
   "id": "f1fdc86b-ad9c-4abf-91a0-5c4767f9623c",
   "metadata": {},
   "source": [
    "#### e) Haya sido tratado con el antigripal n° 1 y haya mejorado"
   ]
  },
  {
   "cell_type": "code",
   "execution_count": 77,
   "id": "f053b1f0-214d-447f-8059-b8293aef8571",
   "metadata": {},
   "outputs": [
    {
     "data": {
      "text/html": [
       "0.17"
      ],
      "text/latex": [
       "0.17"
      ],
      "text/markdown": [
       "0.17"
      ],
      "text/plain": [
       "[1] 0.17"
      ]
     },
     "metadata": {},
     "output_type": "display_data"
    }
   ],
   "source": [
    "pA * pAM"
   ]
  },
  {
   "cell_type": "markdown",
   "id": "b26de956-2217-41b8-93b8-961c39ae9de5",
   "metadata": {},
   "source": [
    "#### f) Haya sido tratado con el antigripal n° 2 y no haya mejorado"
   ]
  },
  {
   "cell_type": "code",
   "execution_count": 78,
   "id": "cdcd398a-d3e4-4725-9f08-12f7d335bc6b",
   "metadata": {},
   "outputs": [
    {
     "data": {
      "text/html": [
       "0.07"
      ],
      "text/latex": [
       "0.07"
      ],
      "text/markdown": [
       "0.07"
      ],
      "text/plain": [
       "[1] 0.07"
      ]
     },
     "metadata": {},
     "output_type": "display_data"
    }
   ],
   "source": [
    "pB * (1 - pBM)"
   ]
  },
  {
   "cell_type": "markdown",
   "id": "2dc23789-9f0c-46ca-bdf1-a3af4fd63dd5",
   "metadata": {},
   "source": [
    "#### g) Haya sido tratado con el antigripal n° 3, sabiendo que mejoró"
   ]
  },
  {
   "cell_type": "code",
   "execution_count": 79,
   "id": "0c7418be-dc92-45f9-beb8-38f592659a4d",
   "metadata": {},
   "outputs": [
    {
     "data": {
      "text/html": [
       "0.328358208955224"
      ],
      "text/latex": [
       "0.328358208955224"
      ],
      "text/markdown": [
       "0.328358208955224"
      ],
      "text/plain": [
       "[1] 0.3283582"
      ]
     },
     "metadata": {},
     "output_type": "display_data"
    }
   ],
   "source": [
    "pC * pCM / grupo_mejora"
   ]
  },
  {
   "cell_type": "markdown",
   "id": "5763818a-7047-4969-80d8-a37ba556adf0",
   "metadata": {},
   "source": [
    "<hr>"
   ]
  },
  {
   "cell_type": "markdown",
   "id": "49b0461e-c386-4eb0-be69-364c31ec1f80",
   "metadata": {},
   "source": [
    "# Ejercicio 19"
   ]
  },
  {
   "cell_type": "markdown",
   "id": "240762d2-be74-414e-a22b-3b5f4a575893",
   "metadata": {},
   "source": [
    "### En cierta estación de servicio, 40% de los clientes utilizan gasolina regular sin plomo, 35% gasolina extra sin plomo y 25% gasolina premium sin plomo. De los clientes que consumen gasolina regular, sólo el 30% llenan sus tanques, de los que consumen gasolina extra, el 60% llenan sus tanques, mientras que, de los que usan premium, el 50% llenan sus tanques"
   ]
  },
  {
   "cell_type": "code",
   "execution_count": 80,
   "id": "3e31d19e-9347-471f-9611-39003adf943f",
   "metadata": {},
   "outputs": [],
   "source": [
    "p_regular <- .4 # nafta regular sin plomo\n",
    "p_extra <- .35 # extra sin plomo\n",
    "p_premium <- .25"
   ]
  },
  {
   "cell_type": "code",
   "execution_count": 81,
   "id": "b7e0abe4-d6c5-4d4b-8cbd-832d8074146b",
   "metadata": {},
   "outputs": [],
   "source": [
    "p_regular_completo <- .3\n",
    "p_extra_completo <- .6\n",
    "p_premium_completo <- .5"
   ]
  },
  {
   "cell_type": "markdown",
   "id": "59725b8d-334b-4202-8d72-e4177faba894",
   "metadata": {},
   "source": [
    "#### a) ¿Cuál es la probabilidad de que el siguiente cliente pida gasolina extra sin plomo y llene el tanque?"
   ]
  },
  {
   "cell_type": "code",
   "execution_count": 82,
   "id": "7ff49093-b5db-4f3b-bf6a-07485060b8d5",
   "metadata": {},
   "outputs": [
    {
     "data": {
      "text/html": [
       "0.21"
      ],
      "text/latex": [
       "0.21"
      ],
      "text/markdown": [
       "0.21"
      ],
      "text/plain": [
       "[1] 0.21"
      ]
     },
     "metadata": {},
     "output_type": "display_data"
    }
   ],
   "source": [
    "p_extra * p_extra_completo"
   ]
  },
  {
   "cell_type": "markdown",
   "id": "530c0079-3c8d-46f8-991b-d2662b4ae2f5",
   "metadata": {},
   "source": [
    "#### b) ¿Cuál es la probabilidad de que el siguiente cliente llene el tanque?"
   ]
  },
  {
   "cell_type": "code",
   "execution_count": 83,
   "id": "0ff11b7e-b6b7-4412-86ce-15ca9dfeeedd",
   "metadata": {},
   "outputs": [
    {
     "data": {
      "text/html": [
       "0.455"
      ],
      "text/latex": [
       "0.455"
      ],
      "text/markdown": [
       "0.455"
      ],
      "text/plain": [
       "[1] 0.455"
      ]
     },
     "metadata": {},
     "output_type": "display_data"
    }
   ],
   "source": [
    "p_tanque_lleno <- p_regular * p_regular_completo + p_extra * p_extra_completo + p_premium * p_premium_completo\n",
    "p_tanque_lleno"
   ]
  },
  {
   "cell_type": "markdown",
   "id": "25fadf04-911d-4ca8-9c5f-e84777f3f33d",
   "metadata": {},
   "source": [
    "#### c) Si el siguiente cliente llena el tanque, ¿Cuál es la probabilidad de que pida gasolina regular? ¿Extra? y ¿Premium?"
   ]
  },
  {
   "cell_type": "code",
   "execution_count": 84,
   "id": "20a07f67-7be7-4062-a650-57dd82b2d5a4",
   "metadata": {},
   "outputs": [
    {
     "data": {
      "text/html": [
       "0.263736263736264"
      ],
      "text/latex": [
       "0.263736263736264"
      ],
      "text/markdown": [
       "0.263736263736264"
      ],
      "text/plain": [
       "[1] 0.2637363"
      ]
     },
     "metadata": {},
     "output_type": "display_data"
    }
   ],
   "source": [
    "p_regular * p_regular_completo / p_tanque_lleno"
   ]
  },
  {
   "cell_type": "code",
   "execution_count": 85,
   "id": "565aaad8-9908-4ec3-8bc7-49148535e7b9",
   "metadata": {},
   "outputs": [
    {
     "data": {
      "text/html": [
       "0.461538461538462"
      ],
      "text/latex": [
       "0.461538461538462"
      ],
      "text/markdown": [
       "0.461538461538462"
      ],
      "text/plain": [
       "[1] 0.4615385"
      ]
     },
     "metadata": {},
     "output_type": "display_data"
    }
   ],
   "source": [
    "p_extra * p_extra_completo / p_tanque_lleno"
   ]
  },
  {
   "cell_type": "code",
   "execution_count": 86,
   "id": "12b428f0-fd3d-4cb4-8b58-341c69e0e287",
   "metadata": {},
   "outputs": [
    {
     "data": {
      "text/html": [
       "0.274725274725275"
      ],
      "text/latex": [
       "0.274725274725275"
      ],
      "text/markdown": [
       "0.274725274725275"
      ],
      "text/plain": [
       "[1] 0.2747253"
      ]
     },
     "metadata": {},
     "output_type": "display_data"
    }
   ],
   "source": [
    "p_premium * p_premium_completo / p_tanque_lleno"
   ]
  },
  {
   "cell_type": "markdown",
   "id": "221db5e7-b1b0-4c44-b338-472cbedb5ebe",
   "metadata": {},
   "source": [
    "<hr>"
   ]
  },
  {
   "cell_type": "markdown",
   "id": "8c81c976-eb5c-488b-9998-6326ff768a4a",
   "metadata": {},
   "source": [
    "# Ejercicio 20"
   ]
  },
  {
   "cell_type": "markdown",
   "id": "175e7744-d4f9-4682-a9cd-b30e35ca28ac",
   "metadata": {},
   "source": [
    "### El 60% de los viajeros que arriban a un aeropuerto pequeño utilizan aerolíneas importantes, el 30% viaja mediante aviones privados y el resto usa aviones comerciales que no pertenecen a las aerolíneas importantes.\n",
    "### Se sabe que de las personas que usan aerolíneas importantes, el 50% viaja por negocios, mientras que el 60% de los pasajeros de aviones privados y el 90% de los que usan otras aeronaves comerciales, también viaja por negocios. Se selecciona al azar una persona que llega a este aeropuerto. ¿Cuál es la probabilidad de que la persona"
   ]
  },
  {
   "cell_type": "code",
   "execution_count": 87,
   "id": "dd842e34-7e95-45a8-abcb-19859f2c5f90",
   "metadata": {},
   "outputs": [],
   "source": [
    "p_aerolineas_importantes <- .6\n",
    "p_aviones_privados <- .3\n",
    "p_comerciales_no_importantes <- .1"
   ]
  },
  {
   "cell_type": "code",
   "execution_count": 88,
   "id": "a2e0f3f9-90b6-4490-8c06-13d1480c2af5",
   "metadata": {},
   "outputs": [],
   "source": [
    "p_aerolineas_importantes_negocios <- .5\n",
    "p_aviones_privados_negocios <- .6\n",
    "p_comerciales_no_importantes_negocios <- .9"
   ]
  },
  {
   "cell_type": "markdown",
   "id": "0812b41f-aa3d-49bb-a1f4-3098c398b0e5",
   "metadata": {},
   "source": [
    "#### a) Viaje por negocios?"
   ]
  },
  {
   "cell_type": "code",
   "execution_count": 89,
   "id": "06849fc7-de9c-44c2-af7d-0b2a1b60a80c",
   "metadata": {},
   "outputs": [
    {
     "data": {
      "text/html": [
       "0.57"
      ],
      "text/latex": [
       "0.57"
      ],
      "text/markdown": [
       "0.57"
      ],
      "text/plain": [
       "[1] 0.57"
      ]
     },
     "metadata": {},
     "output_type": "display_data"
    }
   ],
   "source": [
    "p_total_negocios <- p_aerolineas_importantes * p_aerolineas_importantes_negocios + p_aviones_privados * p_aviones_privados_negocios + p_comerciales_no_importantes * p_comerciales_no_importantes_negocios\n",
    "p_total_negocios"
   ]
  },
  {
   "cell_type": "markdown",
   "id": "228a2ddb-f065-42ca-9bd2-ebc08604403c",
   "metadata": {},
   "source": [
    "#### b) Viaje por negocios en un avión privado?"
   ]
  },
  {
   "cell_type": "code",
   "execution_count": 90,
   "id": "c7e83c5f-3c9d-4949-8f9a-d61eb952c123",
   "metadata": {},
   "outputs": [
    {
     "data": {
      "text/html": [
       "0.18"
      ],
      "text/latex": [
       "0.18"
      ],
      "text/markdown": [
       "0.18"
      ],
      "text/plain": [
       "[1] 0.18"
      ]
     },
     "metadata": {},
     "output_type": "display_data"
    }
   ],
   "source": [
    "p_aviones_privados * p_aviones_privados_negocios"
   ]
  },
  {
   "cell_type": "markdown",
   "id": "92af52f7-dc2f-40a2-b6a2-0f231a99e86d",
   "metadata": {},
   "source": [
    "#### c) Si viaja por negocios lo haga en un avión privado?"
   ]
  },
  {
   "cell_type": "code",
   "execution_count": 91,
   "id": "13fb664e-2080-499d-8068-a039f47d5ae4",
   "metadata": {},
   "outputs": [
    {
     "data": {
      "text/html": [
       "0.315789473684211"
      ],
      "text/latex": [
       "0.315789473684211"
      ],
      "text/markdown": [
       "0.315789473684211"
      ],
      "text/plain": [
       "[1] 0.3157895"
      ]
     },
     "metadata": {},
     "output_type": "display_data"
    }
   ],
   "source": [
    "p_aviones_privados * p_aviones_privados_negocios / p_total_negocios"
   ]
  },
  {
   "cell_type": "markdown",
   "id": "87a3ace6-b0de-46e5-92dc-b79f47b62d27",
   "metadata": {},
   "source": [
    "#### d) Si usa un avión comercial, viaje por negocios?"
   ]
  },
  {
   "cell_type": "code",
   "execution_count": 92,
   "id": "d0b107fe-4c19-4e47-b681-990cfc0e0069",
   "metadata": {},
   "outputs": [
    {
     "data": {
      "text/html": [
       "0.09"
      ],
      "text/latex": [
       "0.09"
      ],
      "text/markdown": [
       "0.09"
      ],
      "text/plain": [
       "[1] 0.09"
      ]
     },
     "metadata": {},
     "output_type": "display_data"
    }
   ],
   "source": [
    "p_comerciales_no_importantes * p_comerciales_no_importantes_negocios # Ver"
   ]
  },
  {
   "cell_type": "markdown",
   "id": "199823eb-f608-4667-aee2-ad06d635b02b",
   "metadata": {},
   "source": [
    "#### e) Decida si la causa del viaje y el tipo de aerolínea son independientes"
   ]
  },
  {
   "cell_type": "code",
   "execution_count": 93,
   "id": "53516530-8ff0-425b-ab8b-8690b6a85c7d",
   "metadata": {},
   "outputs": [
    {
     "data": {
      "text/html": [
       "FALSE"
      ],
      "text/latex": [
       "FALSE"
      ],
      "text/markdown": [
       "FALSE"
      ],
      "text/plain": [
       "[1] FALSE"
      ]
     },
     "metadata": {},
     "output_type": "display_data"
    }
   ],
   "source": [
    "p_aerolineas_importantes * p_total_negocios == p_aerolineas_importantes * p_aerolineas_importantes_negocios"
   ]
  },
  {
   "cell_type": "markdown",
   "id": "40f9c51c-d3b6-4f64-be76-60d6fc71c3fb",
   "metadata": {},
   "source": [
    "<hr style=\"border: 2px solid black;\">"
   ]
  },
  {
   "cell_type": "markdown",
   "id": "08fe9681-c0de-4c62-8465-cf81a572d0d5",
   "metadata": {},
   "source": [
    "# Guia 3"
   ]
  },
  {
   "cell_type": "code",
   "execution_count": 159,
   "id": "f1e609a9-9b6f-4d71-8959-68d623ad173b",
   "metadata": {},
   "outputs": [],
   "source": [
    "# VER DONDE ESTÁN LOS RESULTADOS\n",
    "# Ejercicio 2: Tener en cuenta la fórmula de cálculo de varianza\n",
    "# Ejercicio 6 e): Ver si el lower.tail incluye el número\n",
    "# Ejercicio 8: Ver, la probabilidad parece medio alta"
   ]
  },
  {
   "cell_type": "markdown",
   "id": "681c3887-702b-45ea-8951-c6e3992205de",
   "metadata": {},
   "source": [
    "# Ejercicio 1"
   ]
  },
  {
   "cell_type": "markdown",
   "id": "fbbbc792-b024-40a3-a0cf-536f25089fdf",
   "metadata": {},
   "source": [
    "### Sea la variable aleatoria 𝑋, con la siguiente distribución de probabilidades:"
   ]
  },
  {
   "attachments": {
    "ce8a5fbf-0b99-4d07-bc69-92a8f7bfbff1.png": {
     "image/png": "[encoded data removed]"
    }
   },
   "cell_type": "markdown",
   "id": "5a7fbf46-4ee1-41b5-9ae4-8a33fac5079d",
   "metadata": {},
   "source": [
    "![image.png](attachment:ce8a5fbf-0b99-4d07-bc69-92a8f7bfbff1.png)"
   ]
  },
  {
   "cell_type": "code",
   "execution_count": 95,
   "id": "fa8bfa4b-3f91-4db1-b19d-b7115295adc8",
   "metadata": {},
   "outputs": [],
   "source": [
    "# Valores de la variable aleatoria\n",
    "x <- c(0, 1, 2, 3, 4, 5)\n",
    "# Probabilidades asociadas\n",
    "p <- c(2/15, 1/3, 0, 1/5, 1/15, 4/15)"
   ]
  },
  {
   "cell_type": "markdown",
   "id": "f5a437ce-2f1b-47ef-b4cb-d134cb9d52df",
   "metadata": {},
   "source": [
    "#### a) Graficar la función de probabilidad y la de distribución."
   ]
  },
  {
   "cell_type": "code",
   "execution_count": 96,
   "id": "a33be1b2-ece5-4a50-bfb1-8e8cac5c99aa",
   "metadata": {},
   "outputs": [
    {
     "data": {
      "image/png": "[encoded data removed]",
      "text/plain": [
       "plot without title"
      ]
     },
     "metadata": {
      "image/png": {
       "height": 420,
       "width": 420
      }
     },
     "output_type": "display_data"
    }
   ],
   "source": [
    "# Cargar la librería ggplot2\n",
    "library(ggplot2)\n",
    "\n",
    "data <- data.frame(x, p)\n",
    "\n",
    "# Graficar la función de probabilidad\n",
    "ggplot(data, aes(x=factor(x), y=p)) +\n",
    "  geom_bar(stat=\"identity\", fill=\"skyblue\", color=\"blue\", width=0.7) +\n",
    "  geom_point(aes(x=factor(x), y=p), color=\"red\", size=3) +\n",
    "  labs(title=\"Función de Probabilidad\", x=\"x\", y=\"P(X=x)\") +\n",
    "  theme_minimal() +\n",
    "  theme(plot.title = element_text(hjust = 0.5))"
   ]
  },
  {
   "cell_type": "code",
   "execution_count": 97,
   "id": "827ad1a8-8d76-4904-9770-d647684141c0",
   "metadata": {},
   "outputs": [
    {
     "data": {
      "image/png": "[encoded data removed]",
      "text/plain": [
       "plot without title"
      ]
     },
     "metadata": {
      "image/png": {
       "height": 420,
       "width": 420
      }
     },
     "output_type": "display_data"
    }
   ],
   "source": [
    "# Calcular la función de distribución acumulada (FDA)\n",
    "data$F <- cumsum(data$p)\n",
    "\n",
    "# Graficar la función de distribución acumulada\n",
    "ggplot(data, aes(x=x, y=F)) +\n",
    "  geom_step(color=\"blue\", linewidth=1) +\n",
    "  geom_point(color=\"red\", size=3) +\n",
    "  labs(title=\"Función de Distribución Acumulada\", x=\"x\", y=\"F(X)\") +\n",
    "  theme_minimal() +\n",
    "  theme(plot.title = element_text(hjust = 0.5))"
   ]
  },
  {
   "cell_type": "markdown",
   "id": "0a7bba63-4ed3-4455-bd62-f99bbe52e6c6",
   "metadata": {},
   "source": [
    "#### **b) Hallar**"
   ]
  },
  {
   "cell_type": "markdown",
   "id": "a678608c-b625-4310-8a51-26c83de98df2",
   "metadata": {},
   "source": [
    "#### **1. 𝑃[𝑋>2]**"
   ]
  },
  {
   "cell_type": "code",
   "execution_count": 98,
   "id": "1543c4fe-8454-4f6f-bf50-0eddea372fb6",
   "metadata": {},
   "outputs": [
    {
     "data": {
      "text/html": [
       "0.533333333333333"
      ],
      "text/latex": [
       "0.533333333333333"
      ],
      "text/markdown": [
       "0.533333333333333"
      ],
      "text/plain": [
       "[1] 0.5333333"
      ]
     },
     "metadata": {},
     "output_type": "display_data"
    }
   ],
   "source": [
    "sum(p[x > 2])"
   ]
  },
  {
   "cell_type": "markdown",
   "id": "c898f81c-5c8a-4910-8682-6517d5f6ca60",
   "metadata": {},
   "source": [
    "#### **2. 𝑃[𝑋≥2]**"
   ]
  },
  {
   "cell_type": "code",
   "execution_count": 99,
   "id": "8df3e969-a4e2-42f2-b13d-213ad9602686",
   "metadata": {},
   "outputs": [
    {
     "data": {
      "text/html": [
       "0.533333333333333"
      ],
      "text/latex": [
       "0.533333333333333"
      ],
      "text/markdown": [
       "0.533333333333333"
      ],
      "text/plain": [
       "[1] 0.5333333"
      ]
     },
     "metadata": {},
     "output_type": "display_data"
    }
   ],
   "source": [
    "sum(p[x >= 2])"
   ]
  },
  {
   "cell_type": "markdown",
   "id": "458e19cb-ba50-49cd-9e62-ddfb2f721c48",
   "metadata": {},
   "source": [
    "#### **3. 𝑃[𝑋≤1]**"
   ]
  },
  {
   "cell_type": "code",
   "execution_count": 100,
   "id": "8615fd29-94e7-4ce0-ab8c-c3004c34e54f",
   "metadata": {},
   "outputs": [
    {
     "data": {
      "text/html": [
       "0.466666666666667"
      ],
      "text/latex": [
       "0.466666666666667"
      ],
      "text/markdown": [
       "0.466666666666667"
      ],
      "text/plain": [
       "[1] 0.4666667"
      ]
     },
     "metadata": {},
     "output_type": "display_data"
    }
   ],
   "source": [
    "sum(p[x <= 1])"
   ]
  },
  {
   "cell_type": "markdown",
   "id": "adcc8713-8b73-4467-857c-6371bbf38de4",
   "metadata": {},
   "source": [
    "#### **4. 𝑃[𝑋<1]**"
   ]
  },
  {
   "cell_type": "code",
   "execution_count": 101,
   "id": "7fd3108b-90a0-4c5f-a797-54a351dbf42c",
   "metadata": {},
   "outputs": [
    {
     "data": {
      "text/html": [
       "0.133333333333333"
      ],
      "text/latex": [
       "0.133333333333333"
      ],
      "text/markdown": [
       "0.133333333333333"
      ],
      "text/plain": [
       "[1] 0.1333333"
      ]
     },
     "metadata": {},
     "output_type": "display_data"
    }
   ],
   "source": [
    "sum(p[x < 1])"
   ]
  },
  {
   "cell_type": "markdown",
   "id": "e1f2d37d-ee2f-4d78-95c2-43e27ff062e8",
   "metadata": {},
   "source": [
    "#### **5. P[𝑋=1]**"
   ]
  },
  {
   "cell_type": "code",
   "execution_count": 102,
   "id": "34221c50-9a43-45d5-8f89-843ef6f5a9fd",
   "metadata": {},
   "outputs": [
    {
     "data": {
      "text/html": [
       "0.333333333333333"
      ],
      "text/latex": [
       "0.333333333333333"
      ],
      "text/markdown": [
       "0.333333333333333"
      ],
      "text/plain": [
       "[1] 0.3333333"
      ]
     },
     "metadata": {},
     "output_type": "display_data"
    }
   ],
   "source": [
    "sum(p[x == 1])"
   ]
  },
  {
   "cell_type": "markdown",
   "id": "01a19bad-330f-4198-a736-bbbfa8fe5fb0",
   "metadata": {},
   "source": [
    "#### **6. 𝑃[3≤𝑋≤4]**"
   ]
  },
  {
   "cell_type": "code",
   "execution_count": 103,
   "id": "4778b86c-f818-493a-8c81-20ca53aa1fc6",
   "metadata": {},
   "outputs": [
    {
     "data": {
      "text/html": [
       "0.266666666666667"
      ],
      "text/latex": [
       "0.266666666666667"
      ],
      "text/markdown": [
       "0.266666666666667"
      ],
      "text/plain": [
       "[1] 0.2666667"
      ]
     },
     "metadata": {},
     "output_type": "display_data"
    }
   ],
   "source": [
    "sum(p[3 <= x & x <= 4])"
   ]
  },
  {
   "cell_type": "markdown",
   "id": "ee3bab80-5e48-4fd0-aa6b-06c32a11e9b8",
   "metadata": {},
   "source": [
    "<hr>"
   ]
  },
  {
   "cell_type": "markdown",
   "id": "d3470db5-9f63-45ef-b8ab-660f88af40ed",
   "metadata": {},
   "source": [
    "# Ejercicio 2"
   ]
  },
  {
   "cell_type": "markdown",
   "id": "74b27478-adbe-4f24-9e94-07b1f43f0aea",
   "metadata": {},
   "source": [
    "### Sea la variable aleatoria 𝑋, con la siguiente distribución de probabilidades:"
   ]
  },
  {
   "attachments": {
    "8bc752da-d02e-4a93-9cfe-4f382fded267.png": {
     "image/png": "[encoded data removed]"
    }
   },
   "cell_type": "markdown",
   "id": "2ce6fdfa-a07e-42a4-a5b2-9a37c982f84c",
   "metadata": {},
   "source": [
    "![image.png](attachment:8bc752da-d02e-4a93-9cfe-4f382fded267.png)"
   ]
  },
  {
   "cell_type": "markdown",
   "id": "9252aeb8-f4b4-44dd-99ef-ad9e8b71441e",
   "metadata": {},
   "source": [
    "### Definir la variable aleatoria 𝑍 y calcular su Esperanza Matemática y Desvío estándar, si 𝑍=2𝑋−20."
   ]
  },
  {
   "cell_type": "code",
   "execution_count": 104,
   "id": "9a503250-0bfc-49f2-b059-cc942a47bd08",
   "metadata": {},
   "outputs": [],
   "source": [
    "# Definir valores y probabilidades de X\n",
    "valores <- c(0, 2, 5, 6, 10)\n",
    "probabilidades <- c(1/30, 3/30, 12/30, 8/30, 6/30)"
   ]
  },
  {
   "cell_type": "code",
   "execution_count": 105,
   "id": "81b4e331-e9f2-4c90-8cb1-70dc904a9f59",
   "metadata": {},
   "outputs": [],
   "source": [
    "# Ya definidos valores y probabilidades de X\n",
    "valores <- c(0, 2, 5, 6, 10)\n",
    "probabilidades <- c(1/30, 3/30, 12/30, 8/30, 6/30)\n",
    "\n",
    "# Calculamos E[X]\n",
    "e_x <- sum(valores * probabilidades)\n",
    "\n",
    "# Calculamos E[X^2]\n",
    "e_x2 <- sum(valores^2 * probabilidades)\n",
    "\n",
    "# Calculamos Var(X)\n",
    "var_x <- e_x2 - e_x^2"
   ]
  },
  {
   "cell_type": "code",
   "execution_count": 106,
   "id": "edf14410-645b-4310-972d-063d93bcf169",
   "metadata": {},
   "outputs": [],
   "source": [
    "# Calculamos E[Z]\n",
    "e_z <- 2 * e_x - 20\n",
    "\n",
    "# Calculamos Var(Z)\n",
    "var_z <- 4 * var_x\n",
    "\n",
    "# Calculamos el desvío estándar de Z\n",
    "sd_z <- sqrt(var_z)"
   ]
  },
  {
   "cell_type": "code",
   "execution_count": 107,
   "id": "99af5143-92e4-4ae4-9ec2-20a699fc0fd9",
   "metadata": {},
   "outputs": [
    {
     "name": "stdout",
     "output_type": "stream",
     "text": [
      "[1] -8.400000  5.043808\n"
     ]
    }
   ],
   "source": [
    "print(c(e_z, sd_z))"
   ]
  },
  {
   "cell_type": "markdown",
   "id": "74434483-6707-45b9-848d-59ee17a33e3b",
   "metadata": {},
   "source": [
    "<hr>"
   ]
  },
  {
   "cell_type": "markdown",
   "id": "68c9fe5e-45f0-46b8-9325-bca8c4bf69f3",
   "metadata": {},
   "source": [
    "# Ejercicio 3"
   ]
  },
  {
   "cell_type": "markdown",
   "id": "46e7548d-b0ac-44ce-bdf0-486d42a390f9",
   "metadata": {},
   "source": [
    "### Supongamos que 𝑋, 𝑌 y 𝑊 son variables aleatorias independientes, siendo:"
   ]
  },
  {
   "cell_type": "markdown",
   "id": "9431ac03-333a-4398-82a5-e70309b66e15",
   "metadata": {},
   "source": [
    "#### $$𝐸(𝑋)=2, 𝐸(𝑌)=4, 𝐸(𝑊)=1, 𝑉𝑎𝑟(𝑋)=2, 𝑉𝑎𝑟(𝑌)=2, 𝑉𝑎𝑟(𝑊)=1.$$"
   ]
  },
  {
   "cell_type": "code",
   "execution_count": 108,
   "id": "979da115-fd5e-4c29-852e-e91edd038e82",
   "metadata": {},
   "outputs": [],
   "source": [
    "# Definimos las esperanzas y varianzas dadas\n",
    "E_X <- 2\n",
    "E_Y <- 4\n",
    "E_W <- 1\n",
    "Var_X <- 2\n",
    "Var_Y <- 2\n",
    "Var_W <- 1"
   ]
  },
  {
   "cell_type": "markdown",
   "id": "e1517e59-5c85-4a93-83b6-3bbd6938b3a8",
   "metadata": {},
   "source": [
    "### Hallar,"
   ]
  },
  {
   "cell_type": "markdown",
   "id": "4225b7a0-516f-488b-80c2-09f6a52772aa",
   "metadata": {},
   "source": [
    "#### a) 𝐸(𝑋+𝑌+𝑊)"
   ]
  },
  {
   "cell_type": "code",
   "execution_count": 109,
   "id": "14cd8f9c-839e-4cb7-917b-e4c8afbc9672",
   "metadata": {},
   "outputs": [
    {
     "data": {
      "text/html": [
       "7"
      ],
      "text/latex": [
       "7"
      ],
      "text/markdown": [
       "7"
      ],
      "text/plain": [
       "[1] 7"
      ]
     },
     "metadata": {},
     "output_type": "display_data"
    }
   ],
   "source": [
    "# a) E(X + Y + W)\n",
    "E_X_plus_Y_plus_W <- E_X + E_Y + E_W\n",
    "E_X_plus_Y_plus_W"
   ]
  },
  {
   "cell_type": "markdown",
   "id": "037a3c6b-03c9-4831-ace7-325dd18d6eb0",
   "metadata": {},
   "source": [
    "#### b) 𝐸(2𝑋)"
   ]
  },
  {
   "cell_type": "code",
   "execution_count": 110,
   "id": "61f56cbb-122b-4aae-9100-cb55dc5c5bc2",
   "metadata": {},
   "outputs": [
    {
     "data": {
      "text/html": [
       "4"
      ],
      "text/latex": [
       "4"
      ],
      "text/markdown": [
       "4"
      ],
      "text/plain": [
       "[1] 4"
      ]
     },
     "metadata": {},
     "output_type": "display_data"
    }
   ],
   "source": [
    "E_2X <- 2 * E_X\n",
    "E_2X"
   ]
  },
  {
   "cell_type": "markdown",
   "id": "c15c47ea-7ebc-4178-aa94-6c7aa021162c",
   "metadata": {},
   "source": [
    "#### c) 𝐸(3𝑋+𝑌)"
   ]
  },
  {
   "cell_type": "code",
   "execution_count": 111,
   "id": "0ef962d1-17bb-47c7-8843-634b9eb21a64",
   "metadata": {},
   "outputs": [
    {
     "data": {
      "text/html": [
       "10"
      ],
      "text/latex": [
       "10"
      ],
      "text/markdown": [
       "10"
      ],
      "text/plain": [
       "[1] 10"
      ]
     },
     "metadata": {},
     "output_type": "display_data"
    }
   ],
   "source": [
    "E_3X_plus_Y <- 3 * E_X + E_Y\n",
    "E_3X_plus_Y"
   ]
  },
  {
   "cell_type": "markdown",
   "id": "1aa5819b-1e3f-4431-87ce-c58a243b398b",
   "metadata": {},
   "source": [
    "#### d) 𝐸[𝑊(𝑋+𝑌)]"
   ]
  },
  {
   "cell_type": "code",
   "execution_count": 112,
   "id": "9f9ce1f9-40a1-42fb-b1f3-88fb260e658f",
   "metadata": {},
   "outputs": [
    {
     "data": {
      "text/html": [
       "6"
      ],
      "text/latex": [
       "6"
      ],
      "text/markdown": [
       "6"
      ],
      "text/plain": [
       "[1] 6"
      ]
     },
     "metadata": {},
     "output_type": "display_data"
    }
   ],
   "source": [
    "E_W_times_X_plus_Y <- E_W * (E_X + E_Y)\n",
    "E_W_times_X_plus_Y"
   ]
  },
  {
   "cell_type": "markdown",
   "id": "0ddd5d55-520b-44ac-9987-0897cae57f7a",
   "metadata": {},
   "source": [
    "#### e) 𝑉𝑎𝑟(𝑋+𝑌+𝑊)"
   ]
  },
  {
   "cell_type": "code",
   "execution_count": 113,
   "id": "3b4d2ea2-7503-4a9e-ac09-2d1166644f5f",
   "metadata": {},
   "outputs": [
    {
     "data": {
      "text/html": [
       "5"
      ],
      "text/latex": [
       "5"
      ],
      "text/markdown": [
       "5"
      ],
      "text/plain": [
       "[1] 5"
      ]
     },
     "metadata": {},
     "output_type": "display_data"
    }
   ],
   "source": [
    "Var_X_plus_Y_plus_W <- Var_X + Var_Y + Var_W\n",
    "Var_X_plus_Y_plus_W"
   ]
  },
  {
   "cell_type": "markdown",
   "id": "b83edc4b-aaac-484f-91a4-971254fb416b",
   "metadata": {},
   "source": [
    "#### f) 𝑉𝑎𝑟(2𝑋)"
   ]
  },
  {
   "cell_type": "code",
   "execution_count": 114,
   "id": "e620623b-c729-4303-bed3-2f6c4d02b1cf",
   "metadata": {},
   "outputs": [
    {
     "data": {
      "text/html": [
       "8"
      ],
      "text/latex": [
       "8"
      ],
      "text/markdown": [
       "8"
      ],
      "text/plain": [
       "[1] 8"
      ]
     },
     "metadata": {},
     "output_type": "display_data"
    }
   ],
   "source": [
    "Var_2X <- 4 * Var_X\n",
    "Var_2X"
   ]
  },
  {
   "cell_type": "markdown",
   "id": "7a64277c-c06d-4bd6-9b4c-0892c0d19468",
   "metadata": {},
   "source": [
    "#### g) 𝑉𝑎𝑟(3𝑋−𝑌)"
   ]
  },
  {
   "cell_type": "code",
   "execution_count": 115,
   "id": "5accd4b1-6341-4b66-8b1e-25b6c107389c",
   "metadata": {},
   "outputs": [
    {
     "data": {
      "text/html": [
       "20"
      ],
      "text/latex": [
       "20"
      ],
      "text/markdown": [
       "20"
      ],
      "text/plain": [
       "[1] 20"
      ]
     },
     "metadata": {},
     "output_type": "display_data"
    }
   ],
   "source": [
    "Var_3X_minus_Y <- 9 * Var_X + Var_Y\n",
    "Var_3X_minus_Y"
   ]
  },
  {
   "cell_type": "markdown",
   "id": "e5aa1986-228b-4e9a-bbc8-955d1f85334a",
   "metadata": {},
   "source": [
    "#### h) ¿Cuál de los valores calculados no podría haberse hallado sin suponer que las tres variables son independientes?"
   ]
  },
  {
   "cell_type": "markdown",
   "id": "1c79f369-e8c6-47de-92b9-2ec996079419",
   "metadata": {},
   "source": [
    "Todos los cálculos que involucran varianzas de sumas o diferencias de las variables (e, g), así como el producto de variables en d, dependen críticamente de la suposición de independencia. \n",
    "Sin asumir independencia, no podríamos sumar o restar varianzas directamente, ni asumir que la esperanza del producto es el producto de las esperanzas para el inciso 𝑑."
   ]
  },
  {
   "cell_type": "markdown",
   "id": "54c7f546-6b47-4938-98bf-8cd1ae9cfd98",
   "metadata": {},
   "source": [
    "<HR>"
   ]
  },
  {
   "cell_type": "markdown",
   "id": "88e30fe3-0fd6-4156-a800-0582399fa819",
   "metadata": {},
   "source": [
    "# Ejercicio 4"
   ]
  },
  {
   "cell_type": "markdown",
   "id": "c26cacbc-04c0-4fcb-aa21-f50ff03d852d",
   "metadata": {},
   "source": [
    "### El 10% de las piezas que produce una máquina son defectuosas. Si se toma al azar una muestra de 20 piezas."
   ]
  },
  {
   "cell_type": "markdown",
   "id": "19a9e220-135e-4ff3-a179-801f14d21329",
   "metadata": {},
   "source": [
    "#### a) ¿Cuál es la probabilidad de que contenga 3 piezas defectuosas como máximo?"
   ]
  },
  {
   "cell_type": "code",
   "execution_count": 116,
   "id": "ca11e740-d463-43c3-a06f-c7b9fce1de52",
   "metadata": {},
   "outputs": [
    {
     "data": {
      "text/html": [
       "0.867046676565665"
      ],
      "text/latex": [
       "0.867046676565665"
      ],
      "text/markdown": [
       "0.867046676565665"
      ],
      "text/plain": [
       "[1] 0.8670467"
      ]
     },
     "metadata": {},
     "output_type": "display_data"
    }
   ],
   "source": [
    "prob_3_maximo <- pbinom(3, size=20, prob=0.1)\n",
    "prob_3_maximo"
   ]
  },
  {
   "cell_type": "markdown",
   "id": "3e1f301a-6ad1-41c6-8fcb-74fe28fe6f7a",
   "metadata": {},
   "source": [
    "#### b) ¿Cuál es la probabilidad de que contenga 3 piezas defectuosas como mínimo?"
   ]
  },
  {
   "cell_type": "code",
   "execution_count": 117,
   "id": "0ce7c50c-1fb8-4448-aa2e-e4c8479347fa",
   "metadata": {},
   "outputs": [
    {
     "data": {
      "text/html": [
       "0.132953323434335"
      ],
      "text/latex": [
       "0.132953323434335"
      ],
      "text/markdown": [
       "0.132953323434335"
      ],
      "text/plain": [
       "[1] 0.1329533"
      ]
     },
     "metadata": {},
     "output_type": "display_data"
    }
   ],
   "source": [
    "# Probabilidad de 3 o más defectuosos\n",
    "prob_3_or_more <- pbinom(3, size=20, prob=0.1, lower.tail=FALSE)\n",
    "prob_3_or_more"
   ]
  },
  {
   "cell_type": "markdown",
   "id": "bc707d35-536f-4da2-8ec6-760d3f4048cc",
   "metadata": {},
   "source": [
    "#### c) ¿Cuál es la probabilidad de que se den los dos sucesos descriptos anteriormente?"
   ]
  },
  {
   "cell_type": "code",
   "execution_count": 118,
   "id": "5f987613-bb85-43f5-ae48-5239fcdcffcd",
   "metadata": {},
   "outputs": [
    {
     "data": {
      "text/html": [
       "0.190119871376199"
      ],
      "text/latex": [
       "0.190119871376199"
      ],
      "text/markdown": [
       "0.190119871376199"
      ],
      "text/plain": [
       "[1] 0.1901199"
      ]
     },
     "metadata": {},
     "output_type": "display_data"
    }
   ],
   "source": [
    "ambos_sucesos <- dbinom(3, size=20, prob=0.1) # Se usa la puntual (3 es la intersección de los 2 eventos)\n",
    "ambos_sucesos"
   ]
  },
  {
   "cell_type": "markdown",
   "id": "df2fbe27-bd15-403e-90d6-34db54f42a4d",
   "metadata": {},
   "source": [
    "<hr>"
   ]
  },
  {
   "cell_type": "markdown",
   "id": "7baf77c2-8295-4ae8-aea3-4423b0bf8310",
   "metadata": {},
   "source": [
    "# Ejercicio 5"
   ]
  },
  {
   "cell_type": "markdown",
   "id": "52b00a8e-f1be-4660-a1ac-1cf7020f077c",
   "metadata": {},
   "source": [
    "#### El 15% de los operarios de una fábrica no tienen hijos a cargo, el 28% tiene solamente uno a cargo, el 41% posee 2 hijos, el 13% tiene 3 hijos y el resto tiene 4 hijos. Se sabe que, a fin de año, se abona un adicional cuyo monto se fija de la siguiente forma,\n",
    "\n",
    "- US200 para los operarios que no tienen hijos a cargo\n",
    "- US250 para los operarios con hijos a cargo que poseen menos de 3 hijos;\n",
    "- US400 para el resto de los operarios."
   ]
  },
  {
   "cell_type": "markdown",
   "id": "1016c4e8-c28b-4e11-b9e5-827f70c3c86e",
   "metadata": {},
   "source": [
    "#### a) Calcular el valor esperado y el desvío estándar de la variable aleatoria definida como “cantidad de hijos a cargo de un operario”."
   ]
  },
  {
   "cell_type": "code",
   "execution_count": 119,
   "id": "7fb9e2d2-b1b7-4ea5-95f0-b0d6df3df26d",
   "metadata": {},
   "outputs": [],
   "source": [
    "valores <- c(0, 1, 2, 3, 4)\n",
    "proba <- c(.15, .28, .41, .13, .03)  "
   ]
  },
  {
   "cell_type": "code",
   "execution_count": 120,
   "id": "5cff77c0-3a82-43d3-9361-dc6bcdb80e20",
   "metadata": {},
   "outputs": [
    {
     "data": {
      "text/html": [
       "1.61"
      ],
      "text/latex": [
       "1.61"
      ],
      "text/markdown": [
       "1.61"
      ],
      "text/plain": [
       "[1] 1.61"
      ]
     },
     "metadata": {},
     "output_type": "display_data"
    }
   ],
   "source": [
    "E_hijos <- sum(valores * proba)\n",
    "E_hijos # Esperanza"
   ]
  },
  {
   "cell_type": "code",
   "execution_count": 121,
   "id": "fea38525-ef86-4a2b-baf3-094d5ffc844b",
   "metadata": {},
   "outputs": [],
   "source": [
    "# Varianza\n",
    "E_hijos2 <- sum((valores^2) * proba)\n",
    "varianza_hijos <- E_hijos2 - E_hijos^2"
   ]
  },
  {
   "cell_type": "code",
   "execution_count": 122,
   "id": "7f03f2ca-8223-452a-889d-f1f7993df0f2",
   "metadata": {},
   "outputs": [
    {
     "data": {
      "text/html": [
       "0.988888264668967"
      ],
      "text/latex": [
       "0.988888264668967"
      ],
      "text/markdown": [
       "0.988888264668967"
      ],
      "text/plain": [
       "[1] 0.9888883"
      ]
     },
     "metadata": {},
     "output_type": "display_data"
    }
   ],
   "source": [
    "# Desvio\n",
    "desvio <- sqrt(varianza_hijos)\n",
    "desvio"
   ]
  },
  {
   "cell_type": "markdown",
   "id": "8c1fb673-55fa-4f73-86ee-2bd7d66105f3",
   "metadata": {},
   "source": [
    "Otra forma de resolverlo:"
   ]
  },
  {
   "cell_type": "code",
   "execution_count": 2,
   "id": "e19a2a4c-5c4f-498e-8d5c-0a0fa9a11ce6",
   "metadata": {},
   "outputs": [
    {
     "data": {
      "text/html": [
       "1.61"
      ],
      "text/latex": [
       "1.61"
      ],
      "text/markdown": [
       "1.61"
      ],
      "text/plain": [
       "[1] 1.61"
      ]
     },
     "metadata": {},
     "output_type": "display_data"
    }
   ],
   "source": [
    "E = 0 * 0.15 + 1 * 0.28 + 2 * 0.41 + 3 * 0.13 + 4 * (1-0.13-0.41-0.28-0.15)\n",
    "E"
   ]
  },
  {
   "cell_type": "code",
   "execution_count": 3,
   "id": "c0e468b4-ad74-4fb9-b19a-a34e1c1e895c",
   "metadata": {},
   "outputs": [],
   "source": [
    "var = (0 - E)^2 * 0.15 + (1 - E)^2 * 0.28 + (2 - E)^2 * 0.41 + (3 - E)^2 * 0.13 + (4 - E)^2 * (1-0.13-0.41-0.28-0.15)"
   ]
  },
  {
   "cell_type": "code",
   "execution_count": 4,
   "id": "da600cb1-9316-44f8-ab65-334a99d2becf",
   "metadata": {},
   "outputs": [
    {
     "data": {
      "text/html": [
       "0.988888264668967"
      ],
      "text/latex": [
       "0.988888264668967"
      ],
      "text/markdown": [
       "0.988888264668967"
      ],
      "text/plain": [
       "[1] 0.9888883"
      ]
     },
     "metadata": {},
     "output_type": "display_data"
    }
   ],
   "source": [
    "sqrt(var)"
   ]
  },
  {
   "cell_type": "markdown",
   "id": "40b7d4a3-3c48-49fe-94a6-6a57d2da61f8",
   "metadata": {},
   "source": [
    "#### b) Si en la fábrica trabajan 1.000 operarios, ¿Cuánto se espera tener que abonar en total este fin de año en concepto de adicionales?"
   ]
  },
  {
   "cell_type": "code",
   "execution_count": 123,
   "id": "3db025f4-d70f-464e-b9bf-5d306e126f1b",
   "metadata": {},
   "outputs": [],
   "source": [
    "valores <- c(200, 250, 250, 400, 400)\n",
    "proba <- c(.15, .28, .41, .13, .03)"
   ]
  },
  {
   "cell_type": "code",
   "execution_count": 124,
   "id": "cc794a78-ae4b-4efa-a1fe-9a2087f91ce3",
   "metadata": {},
   "outputs": [
    {
     "data": {
      "text/html": [
       "266500"
      ],
      "text/latex": [
       "266500"
      ],
      "text/markdown": [
       "266500"
      ],
      "text/plain": [
       "[1] 266500"
      ]
     },
     "metadata": {},
     "output_type": "display_data"
    }
   ],
   "source": [
    "E_guita <- sum(valores * proba)\n",
    "E_guita * 1000"
   ]
  },
  {
   "cell_type": "markdown",
   "id": "115f0da5-5bbf-4f55-ae2f-03c7124a2e3c",
   "metadata": {},
   "source": [
    "<hr>"
   ]
  },
  {
   "cell_type": "markdown",
   "id": "f86a5cc5-86f8-4c8a-b1f6-2a7c80abe113",
   "metadata": {},
   "source": [
    "# Ejercicio 6"
   ]
  },
  {
   "cell_type": "markdown",
   "id": "d6bcd516-3ae8-4295-b416-d82228775069",
   "metadata": {},
   "source": [
    "### El 34% de los vendedores de un comercio están casados, se toma una muestra al azar de 15 de ellos y se desea conocer las siguientes probabilidades de encontrar:"
   ]
  },
  {
   "cell_type": "code",
   "execution_count": 125,
   "id": "ad4cd731-9889-4014-a9a8-105700a5ee26",
   "metadata": {},
   "outputs": [],
   "source": [
    "n <- 15\n",
    "p_casados <- .34"
   ]
  },
  {
   "cell_type": "markdown",
   "id": "f36e6806-3db4-49d2-abeb-da6bae21671d",
   "metadata": {},
   "source": [
    "#### a) Exactamente 7 vendedores casados "
   ]
  },
  {
   "cell_type": "code",
   "execution_count": 126,
   "id": "b46dc42b-4803-4642-83d4-7d8fc3fd610e",
   "metadata": {},
   "outputs": [
    {
     "data": {
      "text/html": [
       "0.121689317365653"
      ],
      "text/latex": [
       "0.121689317365653"
      ],
      "text/markdown": [
       "0.121689317365653"
      ],
      "text/plain": [
       "[1] 0.1216893"
      ]
     },
     "metadata": {},
     "output_type": "display_data"
    }
   ],
   "source": [
    "siete_casados <- dbinom(7, n, p_casados)\n",
    "siete_casados"
   ]
  },
  {
   "cell_type": "markdown",
   "id": "48e50076-cfa0-4639-8bc7-780eb1719c2e",
   "metadata": {},
   "source": [
    "#### b) A lo sumo 3 vendedores casados"
   ]
  },
  {
   "cell_type": "code",
   "execution_count": 127,
   "id": "2536c1d8-627b-4b40-9bee-d8776a33b80b",
   "metadata": {},
   "outputs": [
    {
     "data": {
      "text/html": [
       "0.194043193142593"
      ],
      "text/latex": [
       "0.194043193142593"
      ],
      "text/markdown": [
       "0.194043193142593"
      ],
      "text/plain": [
       "[1] 0.1940432"
      ]
     },
     "metadata": {},
     "output_type": "display_data"
    }
   ],
   "source": [
    "maximo_tres_casados <- pbinom(3, n, p_casados)\n",
    "maximo_tres_casados"
   ]
  },
  {
   "cell_type": "markdown",
   "id": "b6336557-5689-4f2a-9e1d-d0d5afa70b74",
   "metadata": {},
   "source": [
    "#### c) Menos de 5 vendedores casados"
   ]
  },
  {
   "cell_type": "code",
   "execution_count": 128,
   "id": "cdc51a6d-6033-4383-b72e-6325ec974f6b",
   "metadata": {},
   "outputs": [
    {
     "data": {
      "text/html": [
       "0.382856070463654"
      ],
      "text/latex": [
       "0.382856070463654"
      ],
      "text/markdown": [
       "0.382856070463654"
      ],
      "text/plain": [
       "[1] 0.3828561"
      ]
     },
     "metadata": {},
     "output_type": "display_data"
    }
   ],
   "source": [
    "maximo_cuatro_casados <- pbinom(4, n, p_casados)\n",
    "maximo_cuatro_casados"
   ]
  },
  {
   "cell_type": "markdown",
   "id": "b9fa9272-bce1-4bad-9a29-0394f5afb4e3",
   "metadata": {},
   "source": [
    "#### d) Como mínimo 8 vendedores casados"
   ]
  },
  {
   "cell_type": "code",
   "execution_count": 129,
   "id": "39447d84-baa9-4f0a-ad74-a3bbea5c051a",
   "metadata": {},
   "outputs": [
    {
     "data": {
      "text/html": [
       "0.0350512397498158"
      ],
      "text/latex": [
       "0.0350512397498158"
      ],
      "text/markdown": [
       "0.0350512397498158"
      ],
      "text/plain": [
       "[1] 0.03505124"
      ]
     },
     "metadata": {},
     "output_type": "display_data"
    }
   ],
   "source": [
    "minimo_ocho_casados <- pbinom(8, n, p_casados, lower.tail=FALSE)\n",
    "minimo_ocho_casados"
   ]
  },
  {
   "cell_type": "markdown",
   "id": "c50d0c5e-e5f9-4951-b470-a1423bb27b77",
   "metadata": {},
   "source": [
    "#### e) Más de 10 vendedores casados"
   ]
  },
  {
   "cell_type": "code",
   "execution_count": 130,
   "id": "336a6423-ea92-4b25-b060-3a6998f07714",
   "metadata": {},
   "outputs": [
    {
     "data": {
      "text/html": [
       "0.00217003243291574"
      ],
      "text/latex": [
       "0.00217003243291574"
      ],
      "text/markdown": [
       "0.00217003243291574"
      ],
      "text/plain": [
       "[1] 0.002170032"
      ]
     },
     "metadata": {},
     "output_type": "display_data"
    }
   ],
   "source": [
    "mas_de_diez_casados <- pbinom(10, n, p_casados, lower.tail=FALSE)\n",
    "mas_de_diez_casados"
   ]
  },
  {
   "cell_type": "markdown",
   "id": "b16f9632-be6f-436d-b746-fd5a8bda8a9a",
   "metadata": {},
   "source": [
    "#### f) Entre 4 y 9 vendedores casados"
   ]
  },
  {
   "cell_type": "code",
   "execution_count": 131,
   "id": "fabcc701-a064-43e3-b531-c1d10a93e285",
   "metadata": {},
   "outputs": [
    {
     "data": {
      "text/html": [
       "0.990066349172816"
      ],
      "text/latex": [
       "0.990066349172816"
      ],
      "text/markdown": [
       "0.990066349172816"
      ],
      "text/plain": [
       "[1] 0.9900663"
      ]
     },
     "metadata": {},
     "output_type": "display_data"
    }
   ],
   "source": [
    "proba_nueve_casados <- pbinom(9, n, p_casados)\n",
    "proba_nueve_casados"
   ]
  },
  {
   "cell_type": "code",
   "execution_count": 132,
   "id": "9923e57b-539f-421d-95cb-f3078c3d7b3c",
   "metadata": {},
   "outputs": [
    {
     "data": {
      "text/html": [
       "0.382856070463654"
      ],
      "text/latex": [
       "0.382856070463654"
      ],
      "text/markdown": [
       "0.382856070463654"
      ],
      "text/plain": [
       "[1] 0.3828561"
      ]
     },
     "metadata": {},
     "output_type": "display_data"
    }
   ],
   "source": [
    "proba_cuatro_casados <- pbinom(4, n, p_casados)\n",
    "proba_cuatro_casados"
   ]
  },
  {
   "cell_type": "code",
   "execution_count": 133,
   "id": "81fd2dbc-bb7c-4dfe-9aeb-392ffad87a55",
   "metadata": {},
   "outputs": [
    {
     "data": {
      "text/html": [
       "0.607210278709162"
      ],
      "text/latex": [
       "0.607210278709162"
      ],
      "text/markdown": [
       "0.607210278709162"
      ],
      "text/plain": [
       "[1] 0.6072103"
      ]
     },
     "metadata": {},
     "output_type": "display_data"
    }
   ],
   "source": [
    "proba_nueve_casados - proba_cuatro_casados"
   ]
  },
  {
   "cell_type": "markdown",
   "id": "e6aed2aa-2542-44c4-beaf-abdc5720e208",
   "metadata": {},
   "source": [
    "#### g) Por lo menos un vendedor casado"
   ]
  },
  {
   "cell_type": "code",
   "execution_count": 134,
   "id": "75f8d730-fd46-4180-9991-26c1605c1832",
   "metadata": {},
   "outputs": [
    {
     "data": {
      "text/html": [
       "0.982858943713977"
      ],
      "text/latex": [
       "0.982858943713977"
      ],
      "text/markdown": [
       "0.982858943713977"
      ],
      "text/plain": [
       "[1] 0.9828589"
      ]
     },
     "metadata": {},
     "output_type": "display_data"
    }
   ],
   "source": [
    "un_vendedor_casado <- pbinom(1, n, p_casados, lower.tail=FALSE)\n",
    "un_vendedor_casado"
   ]
  },
  {
   "cell_type": "markdown",
   "id": "b14a6ca0-7503-4c43-9582-d24090aa2975",
   "metadata": {},
   "source": [
    "#### h) Como máximo 6 vendedores no casados"
   ]
  },
  {
   "cell_type": "code",
   "execution_count": 135,
   "id": "1cbbf9e5-bcce-45b2-881f-621ac80e710d",
   "metadata": {},
   "outputs": [
    {
     "data": {
      "text/html": [
       "0.0350512397498158"
      ],
      "text/latex": [
       "0.0350512397498158"
      ],
      "text/markdown": [
       "0.0350512397498158"
      ],
      "text/plain": [
       "[1] 0.03505124"
      ]
     },
     "metadata": {},
     "output_type": "display_data"
    }
   ],
   "source": [
    "p_no_casados <- 1 - p_casados\n",
    "\n",
    "max_seis_no_casados <- pbinom(6, n, p_no_casados)\n",
    "max_seis_no_casados"
   ]
  },
  {
   "cell_type": "markdown",
   "id": "4d67641b-cb51-479a-8697-310e45800a00",
   "metadata": {},
   "source": [
    "#### i) ¿Cuántos vendedores casados se espera encontrar? (Calcular la varianza y el desvío estándar correspondiente)"
   ]
  },
  {
   "cell_type": "code",
   "execution_count": 136,
   "id": "3665962a-448b-4745-b624-cbee5c4c10b2",
   "metadata": {},
   "outputs": [
    {
     "data": {
      "text/html": [
       "5.1"
      ],
      "text/latex": [
       "5.1"
      ],
      "text/markdown": [
       "5.1"
      ],
      "text/plain": [
       "[1] 5.1"
      ]
     },
     "metadata": {},
     "output_type": "display_data"
    }
   ],
   "source": [
    "# Esperanza (n x p)\n",
    "n <- 15\n",
    "p <- .34\n",
    "\n",
    "esperanza_binomial <- n * p\n",
    "esperanza_binomial"
   ]
  },
  {
   "cell_type": "code",
   "execution_count": 137,
   "id": "133cc2ce-2f98-4751-9859-02463408e1b0",
   "metadata": {},
   "outputs": [
    {
     "data": {
      "text/html": [
       "3.366"
      ],
      "text/latex": [
       "3.366"
      ],
      "text/markdown": [
       "3.366"
      ],
      "text/plain": [
       "[1] 3.366"
      ]
     },
     "metadata": {},
     "output_type": "display_data"
    }
   ],
   "source": [
    "varianza_binomial <- n * p * (1 - p)\n",
    "varianza_binomial"
   ]
  },
  {
   "cell_type": "code",
   "execution_count": 138,
   "id": "0cc4f411-9230-449a-9f74-2c1c1b9199ab",
   "metadata": {},
   "outputs": [
    {
     "data": {
      "text/html": [
       "1.83466618217048"
      ],
      "text/latex": [
       "1.83466618217048"
      ],
      "text/markdown": [
       "1.83466618217048"
      ],
      "text/plain": [
       "[1] 1.834666"
      ]
     },
     "metadata": {},
     "output_type": "display_data"
    }
   ],
   "source": [
    "desvio <- sqrt(varianza_binomial)\n",
    "desvio"
   ]
  },
  {
   "cell_type": "markdown",
   "id": "f2e31640-2006-4b47-b9d9-1e61c32ecd58",
   "metadata": {},
   "source": [
    "<hr>"
   ]
  },
  {
   "cell_type": "markdown",
   "id": "0ae68653-4544-4415-821f-6715cc158632",
   "metadata": {},
   "source": [
    "# Ejercicio 7"
   ]
  },
  {
   "cell_type": "markdown",
   "id": "055b64cb-9093-4538-acb8-03d7ec76f534",
   "metadata": {},
   "source": [
    "### Un curso de Estadística de la Universidad de Buenos Aires posee 10 alumnos, de los cuales 4 son mujeres y el resto hombres. Se eligieron al azar 7 estudiantes del curso para tomarles un examen. Hallar la probabilidad de que, entre los alumnos seleccionados, haya tres mujeres."
   ]
  },
  {
   "cell_type": "code",
   "execution_count": 139,
   "id": "bf43d129-a1ef-430d-aba5-24db04e8b956",
   "metadata": {},
   "outputs": [],
   "source": [
    "n <- 7\n",
    "n_mujeres <- 3\n",
    "p_mujeres <- .4 # 4/10"
   ]
  },
  {
   "cell_type": "code",
   "execution_count": 140,
   "id": "8da5f8ff-d38c-418a-afc2-3e6ae0b7de81",
   "metadata": {},
   "outputs": [
    {
     "data": {
      "text/html": [
       "0.290304"
      ],
      "text/latex": [
       "0.290304"
      ],
      "text/markdown": [
       "0.290304"
      ],
      "text/plain": [
       "[1] 0.290304"
      ]
     },
     "metadata": {},
     "output_type": "display_data"
    }
   ],
   "source": [
    "tres_mujeres <- dbinom(n_mujeres, n, p_mujeres)\n",
    "tres_mujeres"
   ]
  },
  {
   "cell_type": "markdown",
   "id": "3ee7026e-768f-49c2-87eb-a26ac3cd35b4",
   "metadata": {},
   "source": [
    "<hr>"
   ]
  },
  {
   "cell_type": "markdown",
   "id": "051349cf-e969-42c7-b9b6-1459380f292f",
   "metadata": {},
   "source": [
    "# Ejercicio 8"
   ]
  },
  {
   "cell_type": "markdown",
   "id": "603e828c-2ab7-4beb-b100-03e015f62eb8",
   "metadata": {},
   "source": [
    "### El retorno diario de cierto activo financiero sigue una distribución normal, con una media de 0,60% y un desvío típico de 0,15%."
   ]
  },
  {
   "cell_type": "markdown",
   "id": "5eb338e2-0d0e-46ad-b322-63168ffe7b88",
   "metadata": {},
   "source": [
    "#### a) ¿Cuál es la probabilidad de que, en un día cualquiera, este activo haya brindado un retorno entre el 0,42% y el 0,90%, si se sabe que fue superior al 0,51%?"
   ]
  },
  {
   "cell_type": "code",
   "execution_count": 141,
   "id": "d2332341-85ab-435e-923f-745f153d8c7d",
   "metadata": {},
   "outputs": [
    {
     "data": {
      "text/html": [
       "0.968652800990822"
      ],
      "text/latex": [
       "0.968652800990822"
      ],
      "text/markdown": [
       "0.968652800990822"
      ],
      "text/plain": [
       "[1] 0.9686528"
      ]
     },
     "metadata": {},
     "output_type": "display_data"
    }
   ],
   "source": [
    "# Parámetros de la distribución\n",
    "media <- 0.60 / 100\n",
    "desvio <- 0.15 / 100\n",
    "\n",
    "# Probabilidad de B\n",
    "P_B <- 1 - pnorm(0.51 / 100, mean = media, sd = desvio)\n",
    "\n",
    "# Probabilidad de A intersección B (retorno entre 0.51% y 0.90%)\n",
    "P_A_inter_B <- pnorm(0.90 / 100, mean = media, sd = desvio) - pnorm(0.51 / 100, mean = media, sd = desvio)\n",
    "\n",
    "# Probabilidad condicional P(A | B)\n",
    "P_A_given_B <- P_A_inter_B / P_B\n",
    "P_A_given_B"
   ]
  },
  {
   "cell_type": "markdown",
   "id": "43633b95-49c8-4ef7-858f-800f7a50fb89",
   "metadata": {},
   "source": [
    "#### b) ¿Cuál es el retorno diario que no es superado el 1% de las veces?"
   ]
  },
  {
   "cell_type": "code",
   "execution_count": 142,
   "id": "8a64f66d-ae2f-4e31-a0b2-17334d39a5b1",
   "metadata": {},
   "outputs": [
    {
     "data": {
      "text/html": [
       "0.948952181106126"
      ],
      "text/latex": [
       "0.948952181106126"
      ],
      "text/markdown": [
       "0.948952181106126"
      ],
      "text/plain": [
       "[1] 0.9489522"
      ]
     },
     "metadata": {},
     "output_type": "display_data"
    }
   ],
   "source": [
    "# Percentil 99\n",
    "retorno_99 <- qnorm(0.99, mean = media, sd = desvio) * 100\n",
    "retorno_99"
   ]
  },
  {
   "cell_type": "markdown",
   "id": "9bd8730a-0262-418c-b9de-7a84d854d2b8",
   "metadata": {},
   "source": [
    "#### c) Un inversor piensa comprar acciones de este activo y venderlas 15 ruedas más tarde (es decir, 15 días hábiles posteriores) y desea saber la probabilidad de que en más de dos ruedas, la rentabilidad diaria sea por lo menos del 0,75%"
   ]
  },
  {
   "cell_type": "code",
   "execution_count": 158,
   "id": "8dfa5e22-fa81-42a6-a8ce-b1f8a6420f3f",
   "metadata": {},
   "outputs": [
    {
     "name": "stdout",
     "output_type": "stream",
     "text": [
      "[1] \"Probabilidad de P(X >= 0.75%): 0.158655253931457\"\n",
      "[1] \"Probabilidad de que el evento ocurra más de dos veces en 15 días: 0.433409715483956\"\n"
     ]
    }
   ],
   "source": [
    "# Parámetros de la distribución normal\n",
    "mu <- 0.60 / 100\n",
    "sigma <- 0.15 / 100\n",
    "limite <- 0.75 / 100\n",
    "\n",
    "# Calcular la probabilidad de P(X >= 0.75%)\n",
    "probabilidad <- 1 - pnorm(limite, mean = mu, sd = sigma)\n",
    "print(paste(\"Probabilidad de P(X >= 0.75%):\", probabilidad))\n",
    "\n",
    "# Número de días\n",
    "n <- 15\n",
    "\n",
    "# Calcular la probabilidad de que el evento ocurra más de dos veces en 15 días\n",
    "probabilidad_mas_de_dos <- 1 - pbinom(2, size = n, prob = probabilidad)\n",
    "print(paste(\"Probabilidad de que el evento ocurra más de dos veces en 15 días:\", probabilidad_mas_de_dos))"
   ]
  },
  {
   "cell_type": "markdown",
   "id": "8cb620c1-f22e-420f-86b6-5f84c9c815ee",
   "metadata": {},
   "source": [
    "<hr>"
   ]
  },
  {
   "cell_type": "markdown",
   "id": "a2d713f3-6ca4-44c1-a56c-a8310297e19d",
   "metadata": {},
   "source": [
    "# Ejercicio 9"
   ]
  },
  {
   "cell_type": "markdown",
   "id": "68a0f230-78b1-43a7-b672-acb53519ca02",
   "metadata": {},
   "source": [
    "### El peso de los paquetes de harina marca A, que se envasan automáticamente, tienen distribución normal con un promedio de 500 gramos. Se sabe que el 32% de los paquetes pesa como mínimo 513 gramos, contestar:"
   ]
  },
  {
   "cell_type": "markdown",
   "id": "4947f556-016c-40a5-a364-795895f2dbf1",
   "metadata": {},
   "source": [
    "#### a) ¿Cuánto vale el desvío estándar?"
   ]
  },
  {
   "cell_type": "code",
   "execution_count": 160,
   "id": "86b2ed1b-72a0-4a53-bd51-732d44156b6f",
   "metadata": {},
   "outputs": [
    {
     "data": {
      "text/html": [
       "27.7956668364615"
      ],
      "text/latex": [
       "27.7956668364615"
      ],
      "text/markdown": [
       "27.7956668364615"
      ],
      "text/plain": [
       "[1] 27.79567"
      ]
     },
     "metadata": {},
     "output_type": "display_data"
    }
   ],
   "source": [
    "# Parámetros iniciales\n",
    "mu <- 500\n",
    "x <- 513\n",
    "p <- 0.68\n",
    "\n",
    "# Encontrar el valor z correspondiente a p = 0.68\n",
    "z <- qnorm(p)\n",
    "\n",
    "# Calcular el desvío estándar\n",
    "sigma <- (x - mu) / z\n",
    "sigma"
   ]
  },
  {
   "cell_type": "markdown",
   "id": "fdf7177a-c676-4503-9dad-ed88f4872d01",
   "metadata": {},
   "source": [
    "#### b) Se elige al azar un paquete y se comprueba que su peso es inferior al peso promedio, ¿Cuál es la probabilidad de que pese por lo menos 475 gramos?"
   ]
  },
  {
   "cell_type": "code",
   "execution_count": 161,
   "id": "66ad074e-a5a6-4367-b505-8204fdca156d",
   "metadata": {},
   "outputs": [
    {
     "data": {
      "text/html": [
       "0.815920717427155"
      ],
      "text/latex": [
       "0.815920717427155"
      ],
      "text/markdown": [
       "0.815920717427155"
      ],
      "text/plain": [
       "[1] 0.8159207"
      ]
     },
     "metadata": {},
     "output_type": "display_data"
    }
   ],
   "source": [
    "# Parámetros de la distribución normal\n",
    "mu <- 500\n",
    "sigma <- 27.78  # valor obtenido en la parte a)\n",
    "x <- 475\n",
    "\n",
    "# Calcular el valor z correspondiente a x = 475\n",
    "z <- (x - mu) / sigma\n",
    "\n",
    "# Calcular la probabilidad de que X >= 475\n",
    "probabilidad_b <- 1 - pnorm(z)\n",
    "probabilidad_b"
   ]
  },
  {
   "cell_type": "markdown",
   "id": "fe54f6f8-d80d-4d4b-b83a-4e9b0b76aecd",
   "metadata": {},
   "source": [
    "#### c) Se vende un lote de 15 paquetes de harina, ¿Cuál es la probabilidad de que a lo sumo las dos quintas partes de los paquetes del lote pesen menos de 493 gramos?"
   ]
  },
  {
   "cell_type": "code",
   "execution_count": 162,
   "id": "5d6a1f92-03fa-445a-b413-e5390ebbdfe0",
   "metadata": {},
   "outputs": [
    {
     "data": {
      "text/html": [
       "0.268544140973789"
      ],
      "text/latex": [
       "0.268544140973789"
      ],
      "text/markdown": [
       "0.268544140973789"
      ],
      "text/plain": [
       "[1] 0.2685441"
      ]
     },
     "metadata": {},
     "output_type": "display_data"
    }
   ],
   "source": [
    "# Parámetros de la distribución normal\n",
    "mu <- 500\n",
    "sigma <- 27.78  # valor obtenido en la parte a)\n",
    "\n",
    "# Número de paquetes\n",
    "n <- 15\n",
    "\n",
    "# Número de paquetes en dos quintas partes\n",
    "k <- 2 / 5 * n\n",
    "\n",
    "# Media y desviación estándar de la suma de k paquetes\n",
    "mu_suma <- k * mu\n",
    "sigma_suma <- sqrt(k) * sigma\n",
    "\n",
    "# Límite superior para la suma de pesos\n",
    "limite <- 493 * k\n",
    "\n",
    "# Calcular el valor z correspondiente al límite\n",
    "z <- (limite - mu_suma) / sigma_suma\n",
    "\n",
    "# Calcular la probabilidad de que la suma sea menor a 493 gramos\n",
    "probabilidad_c <- pnorm(z)\n",
    "probabilidad_c"
   ]
  },
  {
   "cell_type": "markdown",
   "id": "f38ab91b-931e-42a3-832c-4b5ba9df310e",
   "metadata": {},
   "source": [
    "<hr>"
   ]
  },
  {
   "cell_type": "markdown",
   "id": "6567ebb8-72fa-45ff-b3b7-68e93df0adc6",
   "metadata": {},
   "source": [
    "# Ejercicio 10"
   ]
  },
  {
   "cell_type": "markdown",
   "id": "41351ff7-b79a-4364-a5a4-a1814dd3fef8",
   "metadata": {},
   "source": [
    "### Una fábrica de cartuchos de tinta para impresora comercializa su producción en cajas que contienen 12 unidades. En base a información histórica de la empresa, se sabe que el 7% resultan defectuosos y que la ganancia obtenida por cada caja se encuentra en función de la cantidad de unidades defectuosas según el siguiente esquema,\n",
    "#### - Si la caja no contiene ningún cartucho defectuoso, la ganancia es de US2,50.\n",
    "#### - Si la caja contiene uno o dos cartuchos defectuosos, la ganancia es de US1,80.\n",
    "#### - Si la caja contiene tres o cuatro cartuchos defectuosos, la ganancia es de US1,20.\n",
    "#### - Si la caja contiene más de 4 cartuchos defectuosos es devuelta y origina una pérdida de US2,40."
   ]
  },
  {
   "cell_type": "markdown",
   "id": "12083881-7105-4210-a27a-57f2085d82aa",
   "metadata": {},
   "source": [
    "#### a) Calcular la ganancia que se espera obtener por la venta de 200 cajas.\n",
    "#### b) ¿Cuál es la probabilidad de que una caja produzca como mínimo US1,50 de ganancia?\n",
    "#### c) Se vendieron 4 cajas, ¿Cuál es la probabilidad de obtener una ganancia total de US10 por dicha venta?"
   ]
  },
  {
   "cell_type": "code",
   "execution_count": null,
   "id": "1b8c8dbb-46c3-4a89-ad5a-2345d151cbb9",
   "metadata": {},
   "outputs": [],
   "source": [
    "#p=7%\n",
    "#n=12\n",
    "#P(X=0) * 2.5\n",
    "p0 = dbinom(0,size = 12,prob = 7/100)\n",
    "#P(X=1 U X=2) * 1.8\n",
    "p12 = sum(dbinom(1:2,size = 12,prob = 7/100))\n",
    "#P(X=3 U X=4) * 1.2\n",
    "p34 = sum(dbinom(3:4,size = 12,prob = 7/100))\n",
    "#P(X>4) * -2.4\n",
    "p4c = 1 - pbinom(4,size = 12,prob = 7/100)\n",
    "p=c(p0,p12,p34,p4c)\n",
    "sum(p)\n",
    "sum(p*c(2.5,1.8,1.2,-2.4))*200\n",
    "#P(Y>1.5) = P(X=1 U X=2) + P(X=0)\n",
    "p0+p12\n",
    "#P(Z=$10) => P(X=0)*P(X=0)*P(X=0)*P(X=0)\n",
    "p0^4"
   ]
  },
  {
   "cell_type": "markdown",
   "id": "5b368d28-ab7c-491a-989c-1e7316de87c6",
   "metadata": {},
   "source": [
    "<hr style=\"border: 2px solid black;\">"
   ]
  },
  {
   "cell_type": "markdown",
   "id": "e60d237d-3839-47c3-a09e-fffbd9f3fde3",
   "metadata": {},
   "source": [
    "# GUIA 4"
   ]
  },
  {
   "cell_type": "markdown",
   "id": "26702d16-be05-452f-b4cc-e2bfa346331c",
   "metadata": {},
   "source": [
    "# Ejercicio 1"
   ]
  },
  {
   "cell_type": "markdown",
   "id": "29c6a14d-5914-4f48-8611-2d4c37b8d761",
   "metadata": {},
   "source": [
    "### En la Facultad de Ciencias Económicas, la altura de los estudiantes se distribuye normalmente con una media de 174 cm y desvío 20 cm. Se toma un curso de 50 alumnos al azar:"
   ]
  },
  {
   "cell_type": "markdown",
   "id": "35bdc01d-3cc8-46e8-b280-3f762c4175ac",
   "metadata": {},
   "source": [
    "#### a. ¿Cuál es la probabilidad de que la altura promedio de la muestra sea inferior a 172 cm?\n",
    "\n",
    "RESPUESTA: 0,23885"
   ]
  },
  {
   "cell_type": "code",
   "execution_count": 1,
   "id": "444f6678-824c-4f8d-b9e2-bea5031c1ab2",
   "metadata": {},
   "outputs": [],
   "source": [
    "mu <- 174\n",
    "sigma <- 20\n",
    "n <- 50"
   ]
  },
  {
   "cell_type": "code",
   "execution_count": 2,
   "id": "d5562fc2-3909-4abd-9a26-b7d94c81e7e6",
   "metadata": {},
   "outputs": [
    {
     "data": {
      "text/html": [
       "0.23975"
      ],
      "text/latex": [
       "0.23975"
      ],
      "text/markdown": [
       "0.23975"
      ],
      "text/plain": [
       "[1] 0.23975"
      ]
     },
     "metadata": {},
     "output_type": "display_data"
    }
   ],
   "source": [
    "Z <- (172 - mu) / (sigma / sqrt(n))\n",
    "\n",
    "round(pnorm(Z), 5)"
   ]
  },
  {
   "cell_type": "markdown",
   "id": "82a206c9-105c-4dcc-a2bb-958497951bd0",
   "metadata": {},
   "source": [
    "Para que de exactamente como dice la respuesta del ejercicio:"
   ]
  },
  {
   "cell_type": "code",
   "execution_count": 3,
   "id": "c66f8ed4-09f2-49b9-969a-7e3cd1a46214",
   "metadata": {},
   "outputs": [
    {
     "data": {
      "text/html": [
       "0.23885"
      ],
      "text/latex": [
       "0.23885"
      ],
      "text/markdown": [
       "0.23885"
      ],
      "text/plain": [
       "[1] 0.23885"
      ]
     },
     "metadata": {},
     "output_type": "display_data"
    }
   ],
   "source": [
    "Z <- round((172 - mu) / round((sigma / sqrt(n)),2),2)\n",
    "\n",
    "round(pnorm(Z), 5)"
   ]
  },
  {
   "cell_type": "markdown",
   "id": "c7c372d8-fcc0-41dc-a8f6-fffc74ab3908",
   "metadata": {},
   "source": [
    "#### b. ¿De qué tamaño deberá ser la muestra si se quiere que esta probabilidad sea de 0,20?\n",
    "\n",
    "RESPUESTA: n = 71"
   ]
  },
  {
   "cell_type": "code",
   "execution_count": 168,
   "id": "6bd4645b-4eef-463f-9956-c0c522406fef",
   "metadata": {},
   "outputs": [],
   "source": [
    "objetivo_probabilidad <- 0.20"
   ]
  },
  {
   "cell_type": "code",
   "execution_count": 169,
   "id": "2962aef9-a67b-46c6-9120-01a546da6352",
   "metadata": {},
   "outputs": [
    {
     "data": {
      "text/html": [
       "71"
      ],
      "text/latex": [
       "71"
      ],
      "text/markdown": [
       "71"
      ],
      "text/plain": [
       "[1] 71"
      ]
     },
     "metadata": {},
     "output_type": "display_data"
    }
   ],
   "source": [
    "# Iniciar con un tamaño de muestra pequeño\n",
    "n <- 1\n",
    "\n",
    "# Bucle para encontrar el n adecuado\n",
    "while(TRUE) {\n",
    "    error_estandar <- sigma / sqrt(n)\n",
    "    probabilidad <- pnorm(valor_deseado, mean = mu, sd = error_estandar)\n",
    "    if (abs(probabilidad - objetivo_probabilidad) < 0.001) {  # Condición de salida con tolerancia\n",
    "        break\n",
    "    }\n",
    "    n <- n + 1  # Incrementar el tamaño de muestra\n",
    "}\n",
    "\n",
    "# Imprimir el tamaño de muestra encontrado\n",
    "n"
   ]
  },
  {
   "cell_type": "markdown",
   "id": "0bb63737-e9ee-4a4f-acbd-f2e93b996bfc",
   "metadata": {},
   "source": [
    "Otra manera de hacerlo, más sencilla:"
   ]
  },
  {
   "cell_type": "code",
   "execution_count": 4,
   "id": "51c1ef79-6bae-4239-8288-1f10c127ccb2",
   "metadata": {},
   "outputs": [],
   "source": [
    "Z <- qnorm(0.20)\n",
    "\n",
    "n <- (Z * sigma / (172 - mu))^2"
   ]
  },
  {
   "cell_type": "code",
   "execution_count": 5,
   "id": "946784f9-7f6c-45f7-bd80-ae5e615cd0a0",
   "metadata": {},
   "outputs": [
    {
     "data": {
      "text/html": [
       "71"
      ],
      "text/latex": [
       "71"
      ],
      "text/markdown": [
       "71"
      ],
      "text/plain": [
       "[1] 71"
      ]
     },
     "metadata": {},
     "output_type": "display_data"
    }
   ],
   "source": [
    "ceiling(n)"
   ]
  },
  {
   "cell_type": "markdown",
   "id": "4131bf5c-6bbe-49dd-ac8d-0ee28c43863c",
   "metadata": {},
   "source": [
    "<hr>"
   ]
  },
  {
   "cell_type": "markdown",
   "id": "f00d584c-7176-42c4-ada7-b765a62f735f",
   "metadata": {},
   "source": [
    "# Ejercicio 2"
   ]
  },
  {
   "cell_type": "markdown",
   "id": "71845e49-4228-4e99-a6cd-9dc8428f6dfd",
   "metadata": {},
   "source": [
    "### La proporción de fumadores en la Ciudad de Buenos Aires es de 0,35. Se toma una muestra de 50 personas al azar. ¿Cuál es la probabilidad de que la proporción de fumadores de la muestra sea menor a 0,30?\n",
    "\n",
    "RESPUESTA: 0,22965"
   ]
  },
  {
   "cell_type": "code",
   "execution_count": 7,
   "id": "ca60490e-871c-4bfe-bb55-3beda3427e5d",
   "metadata": {},
   "outputs": [],
   "source": [
    "p <- 0.35\n",
    "n <- 50\n",
    "p_ <- 0.30"
   ]
  },
  {
   "cell_type": "code",
   "execution_count": 8,
   "id": "683d19e0-aef9-459a-8771-52424f8abbd3",
   "metadata": {},
   "outputs": [
    {
     "data": {
      "text/html": [
       "0.22927"
      ],
      "text/latex": [
       "0.22927"
      ],
      "text/markdown": [
       "0.22927"
      ],
      "text/plain": [
       "[1] 0.22927"
      ]
     },
     "metadata": {},
     "output_type": "display_data"
    }
   ],
   "source": [
    "Z <- (p_ - p) / sqrt(p * (1 - p) / n)\n",
    "\n",
    "round(pnorm(Z), 5)"
   ]
  },
  {
   "cell_type": "markdown",
   "id": "6200ab89-f788-4d31-a27e-67f39d724996",
   "metadata": {},
   "source": [
    "Para que de exactamente como dice la respuesta del ejercicio:"
   ]
  },
  {
   "cell_type": "code",
   "execution_count": 9,
   "id": "72f3adb6-fae8-4bfd-aeb6-2a90e41bb5e5",
   "metadata": {},
   "outputs": [
    {
     "data": {
      "text/html": [
       "0.22965"
      ],
      "text/latex": [
       "0.22965"
      ],
      "text/markdown": [
       "0.22965"
      ],
      "text/plain": [
       "[1] 0.22965"
      ]
     },
     "metadata": {},
     "output_type": "display_data"
    }
   ],
   "source": [
    "Z <- round((p_ - p) / sqrt(p * (1 - p) / n),2)\n",
    "\n",
    "round(pnorm(Z), 5)"
   ]
  },
  {
   "cell_type": "markdown",
   "id": "2e1029c1-405d-40b7-8e7c-f0b9afda30f8",
   "metadata": {},
   "source": [
    "<hr>"
   ]
  },
  {
   "cell_type": "markdown",
   "id": "1c339cf2-a9fc-43ee-bbd1-f545d0c35a67",
   "metadata": {},
   "source": [
    "# Ejercicio 3"
   ]
  },
  {
   "cell_type": "markdown",
   "id": "29da13ca-9b35-47c3-bd76-5f569ad3501b",
   "metadata": {},
   "source": [
    "### Los precios de los artículos que vende un supermercado, se distribuyen normalmente con media US 4 y desvío US 0,75. Se toma al azar una muestra de 50 artículos.\n",
    "### ¿Cuál es la probabilidad de que el precio promedio de los artículos de la muestra esté entre US 3,9 y US 4,2?\n",
    "\n",
    "RESPUESTA: 0,7963"
   ]
  },
  {
   "cell_type": "code",
   "execution_count": 10,
   "id": "ac079219-e44f-445e-9ad1-a729f0021e6d",
   "metadata": {},
   "outputs": [],
   "source": [
    "mu <- 4\n",
    "sigma <- 0.75\n",
    "n <- 50"
   ]
  },
  {
   "cell_type": "code",
   "execution_count": 11,
   "id": "0d0e3dc7-e2d1-44d3-92fc-e16c01753242",
   "metadata": {},
   "outputs": [],
   "source": [
    "Z_s <- (4.2 - mu) / (sigma / sqrt(n))\n",
    "Z_i <- (3.9 - mu) / (sigma / sqrt(n))"
   ]
  },
  {
   "cell_type": "code",
   "execution_count": 12,
   "id": "c577cfa2-9df2-4110-b044-cc3e8adc0a30",
   "metadata": {},
   "outputs": [
    {
     "data": {
      "text/html": [
       "0.7974"
      ],
      "text/latex": [
       "0.7974"
      ],
      "text/markdown": [
       "0.7974"
      ],
      "text/plain": [
       "[1] 0.7974"
      ]
     },
     "metadata": {},
     "output_type": "display_data"
    }
   ],
   "source": [
    "round(pnorm(Z_s) - pnorm(Z_i), 4)"
   ]
  },
  {
   "cell_type": "markdown",
   "id": "361a6395-8ad7-4a27-989e-838c36bf169c",
   "metadata": {},
   "source": [
    "<hr>"
   ]
  },
  {
   "cell_type": "markdown",
   "id": "90fb526f-adcf-4aab-84fb-9590b3aab134",
   "metadata": {},
   "source": [
    "# Ejercicio 4"
   ]
  },
  {
   "cell_type": "markdown",
   "id": "9b37944d-7ebf-4b97-92e9-9e8d3a60a877",
   "metadata": {},
   "source": [
    "### Sabiendo que el peso de los paquetes de galletitas de una conocida empresa alimenticia se distribuye normalmente con desvío 398 gramos.\n",
    "#### a. ¿Cuál es la probabilidad de que la media de una muestra de 40 paquetes difiera del peso medio en menos de 50 gramos?\n",
    "RESPUESTA: 0,57048"
   ]
  },
  {
   "cell_type": "code",
   "execution_count": 13,
   "id": "eddc8d17-bf79-4ccf-84cb-54555659c771",
   "metadata": {},
   "outputs": [],
   "source": [
    "sigma <- 398\n",
    "n <- 40\n",
    "dif <- 50"
   ]
  },
  {
   "cell_type": "code",
   "execution_count": 14,
   "id": "7409c3e5-9a85-4c0f-9859-c3ab92413c5e",
   "metadata": {},
   "outputs": [
    {
     "data": {
      "text/html": [
       "0.57312"
      ],
      "text/latex": [
       "0.57312"
      ],
      "text/markdown": [
       "0.57312"
      ],
      "text/plain": [
       "[1] 0.57312"
      ]
     },
     "metadata": {},
     "output_type": "display_data"
    }
   ],
   "source": [
    "Z_sup <- dif / (sigma / sqrt(40))\n",
    "Z_inf <- -dif / (sigma / sqrt(40))\n",
    "\n",
    "round(pnorm(Z_sup) - pnorm(Z_inf), 5)"
   ]
  },
  {
   "cell_type": "markdown",
   "id": "33b8e799-c06c-423c-bf71-f7a48850f259",
   "metadata": {},
   "source": [
    "Para que de _casi_ como dice la respuesta del ejercicio:"
   ]
  },
  {
   "cell_type": "code",
   "execution_count": 15,
   "id": "a3bfc795-0124-4e8a-840c-761922159c12",
   "metadata": {},
   "outputs": [
    {
     "data": {
      "text/html": [
       "0.57047"
      ],
      "text/latex": [
       "0.57047"
      ],
      "text/markdown": [
       "0.57047"
      ],
      "text/plain": [
       "[1] 0.57047"
      ]
     },
     "metadata": {},
     "output_type": "display_data"
    }
   ],
   "source": [
    "Z_sup <- round(dif / (sigma / sqrt(40)),2)\n",
    "Z_inf <- round(-dif / (sigma / sqrt(40)),2)\n",
    "\n",
    "round(pnorm(Z_sup) - pnorm(Z_inf), 5)"
   ]
  },
  {
   "cell_type": "markdown",
   "id": "9cbf6f6e-8906-4d5c-8648-8172cb7fd07f",
   "metadata": {},
   "source": [
    "#### b. ¿De qué tamaño debería ser la muestra si se quiere que dicha probabilidad sea del 0,90?\n",
    "RESPUESTA: n = 172"
   ]
  },
  {
   "cell_type": "code",
   "execution_count": 16,
   "id": "0372d999-3914-4684-b0ac-a9dc4bb40d1c",
   "metadata": {},
   "outputs": [],
   "source": [
    "sigma <- 398\n",
    "dif <- 50\n",
    "Z <- qnorm(0.95) # Como es acumulada a izquierda, busco el número que deja libre el 5% del lado derecho"
   ]
  },
  {
   "cell_type": "code",
   "execution_count": 17,
   "id": "e0e0186e-f083-48ca-8702-7ae5aced9282",
   "metadata": {},
   "outputs": [],
   "source": [
    "n <- (Z * sigma / dif)^2"
   ]
  },
  {
   "cell_type": "code",
   "execution_count": 18,
   "id": "19e45279-ba6e-4d24-8bef-422a732a8fb3",
   "metadata": {},
   "outputs": [
    {
     "data": {
      "text/html": [
       "172"
      ],
      "text/latex": [
       "172"
      ],
      "text/markdown": [
       "172"
      ],
      "text/plain": [
       "[1] 172"
      ]
     },
     "metadata": {},
     "output_type": "display_data"
    }
   ],
   "source": [
    "ceiling(n)"
   ]
  },
  {
   "cell_type": "markdown",
   "id": "d9a6d978-469f-46be-b75a-b0d92008d29b",
   "metadata": {},
   "source": [
    "<hr>"
   ]
  },
  {
   "cell_type": "markdown",
   "id": "144aa2d8-43fa-47b9-90a0-7f42716900de",
   "metadata": {},
   "source": [
    "# Ejercicio 5"
   ]
  },
  {
   "cell_type": "markdown",
   "id": "bdb8ee56-8edf-47c5-81ac-7099b354602b",
   "metadata": {},
   "source": [
    "### Se sabe que el 60% de los alumnos de la UBA, trabajan. También se sabe que el 45% de los alumnos de una determinada universidad privada, trabajan.\n",
    "#### a. Si se toma una muestra al azar de 80 alumnos de la UBA, ¿cuál es la probabilidad de que menos de la mitad de los alumnos de la muestra trabajen?\n",
    "RESPUESTA: 0,034"
   ]
  },
  {
   "cell_type": "code",
   "execution_count": 19,
   "id": "99f5d700-7440-4eda-89ac-df4cce59c870",
   "metadata": {},
   "outputs": [],
   "source": [
    "n <- 80\n",
    "p <- 0.60\n",
    "x <- 40"
   ]
  },
  {
   "cell_type": "code",
   "execution_count": 20,
   "id": "8776d697-0714-429f-ae91-b1000642558c",
   "metadata": {},
   "outputs": [],
   "source": [
    "mu <- n * p\n",
    "sigma <- sqrt(n * p * (1 - p))\n",
    "\n",
    "probabilidad <- pnorm(x, mean = mu, sd = sigma)"
   ]
  },
  {
   "cell_type": "code",
   "execution_count": 21,
   "id": "200e390d-2dab-411d-bbc2-351fb5f335b2",
   "metadata": {},
   "outputs": [
    {
     "data": {
      "text/html": [
       "0.034"
      ],
      "text/latex": [
       "0.034"
      ],
      "text/markdown": [
       "0.034"
      ],
      "text/plain": [
       "[1] 0.034"
      ]
     },
     "metadata": {},
     "output_type": "display_data"
    }
   ],
   "source": [
    "round(probabilidad, 3)"
   ]
  },
  {
   "cell_type": "markdown",
   "id": "78a733f5-89e1-46ea-8d89-da7635708eb9",
   "metadata": {},
   "source": [
    "Otra forma de resolverlo, sin multiplicar por el n:"
   ]
  },
  {
   "cell_type": "code",
   "execution_count": 22,
   "id": "885c909b-60c9-435e-b0de-b4418e8a7759",
   "metadata": {},
   "outputs": [],
   "source": [
    "p_ <- x/80\n",
    "sigma <- sqrt(p * (1 - p) / n)\n",
    "\n",
    "Z <- (p_ - p) / sigma\n",
    "probabilidad <- pnorm(Z)"
   ]
  },
  {
   "cell_type": "code",
   "execution_count": 23,
   "id": "37d99bac-dc56-40f2-bc04-0c6343c87dc5",
   "metadata": {},
   "outputs": [
    {
     "data": {
      "text/html": [
       "0.034"
      ],
      "text/latex": [
       "0.034"
      ],
      "text/markdown": [
       "0.034"
      ],
      "text/plain": [
       "[1] 0.034"
      ]
     },
     "metadata": {},
     "output_type": "display_data"
    }
   ],
   "source": [
    "round(probabilidad, 3)"
   ]
  },
  {
   "cell_type": "markdown",
   "id": "54b707a9-bc72-4b8c-9dbc-9fd7c9c1bd34",
   "metadata": {},
   "source": [
    "#### b. ¿Y si se toma una muestra del mismo tamaño en la universidad privada?\n",
    "RESPUESTA: 0,815"
   ]
  },
  {
   "cell_type": "code",
   "execution_count": 193,
   "id": "46435f80-e7ec-4030-9101-d914dd6c4ea0",
   "metadata": {},
   "outputs": [
    {
     "data": {
      "text/html": [
       "0.898933149950989"
      ],
      "text/latex": [
       "0.898933149950989"
      ],
      "text/markdown": [
       "0.898933149950989"
      ],
      "text/plain": [
       "[1] 0.8989331"
      ]
     },
     "metadata": {},
     "output_type": "display_data"
    }
   ],
   "source": [
    "p <- 0.45"
   ]
  },
  {
   "cell_type": "code",
   "execution_count": 24,
   "id": "e8de02f3-e196-4071-97e3-c877a99e77ee",
   "metadata": {},
   "outputs": [],
   "source": [
    "mu <- n * p\n",
    "sigma <- sqrt(n * p * (1 - p))\n",
    "\n",
    "probabilidad <- pnorm(x, mean = mu, sd = sigma)"
   ]
  },
  {
   "cell_type": "code",
   "execution_count": 25,
   "id": "de6c6ba7-b56f-4b62-9c5c-e32401beeca4",
   "metadata": {},
   "outputs": [
    {
     "data": {
      "text/html": [
       "0.034"
      ],
      "text/latex": [
       "0.034"
      ],
      "text/markdown": [
       "0.034"
      ],
      "text/plain": [
       "[1] 0.034"
      ]
     },
     "metadata": {},
     "output_type": "display_data"
    }
   ],
   "source": [
    "round(probabilidad, 3)"
   ]
  },
  {
   "cell_type": "markdown",
   "id": "51a13f7a-308c-4538-81ee-6f2acecdb170",
   "metadata": {},
   "source": [
    "<hr>"
   ]
  },
  {
   "cell_type": "markdown",
   "id": "d5b9acaf-42d9-4991-bd84-7083d0adabf3",
   "metadata": {},
   "source": [
    "# Ejercicio 6"
   ]
  },
  {
   "cell_type": "markdown",
   "id": "d3e98546-b1c6-48a5-82b2-26db7a504b6c",
   "metadata": {},
   "source": [
    "### La resistencia a la rotura de ciertos cables de acero producidos por una empresa es una variable aleatoria distribuida normalmente con media 15.800 kg/m y con un desvío estándar de 2.600 kg/m. ¿Cuál es la probabilidad de que una muestra de 16 cables de la misma longitud, proporcione una media superior a 17.360 kg/m?\n",
    "RESPUESTA: 0,0082"
   ]
  },
  {
   "cell_type": "code",
   "execution_count": 26,
   "id": "dc3a8d71-8a6c-4517-b2a9-583435eb02d5",
   "metadata": {},
   "outputs": [],
   "source": [
    "mu <- 15800\n",
    "sigma <- 2600\n",
    "n <- 16\n",
    "X_ <- 17360"
   ]
  },
  {
   "cell_type": "code",
   "execution_count": 27,
   "id": "87e7c1b7-11f9-434f-a47f-3f8ceff25bbc",
   "metadata": {},
   "outputs": [],
   "source": [
    "Z <- (X_ - mu) / (sigma / sqrt(n))\n",
    "\n",
    "probabilidad <- pnorm (Z)"
   ]
  },
  {
   "cell_type": "markdown",
   "id": "6e4339ea-8cde-4201-bd1c-9de27dec4206",
   "metadata": {},
   "source": [
    "Como pide una longitud media superior a 17360, me tengo que quedar con el área de la derecha que marca el Z:"
   ]
  },
  {
   "cell_type": "code",
   "execution_count": 28,
   "id": "6f51599f-8446-41c9-97b2-a45c859cb59a",
   "metadata": {},
   "outputs": [
    {
     "data": {
      "text/html": [
       "0.0082"
      ],
      "text/latex": [
       "0.0082"
      ],
      "text/markdown": [
       "0.0082"
      ],
      "text/plain": [
       "[1] 0.0082"
      ]
     },
     "metadata": {},
     "output_type": "display_data"
    }
   ],
   "source": [
    "round(1 - probabilidad, 4)"
   ]
  },
  {
   "cell_type": "markdown",
   "id": "010b170a-3661-43f6-a0bf-05f45aef5d0d",
   "metadata": {},
   "source": [
    "<hr>"
   ]
  },
  {
   "cell_type": "markdown",
   "id": "a6b310d6-68ea-4d19-9294-679954a0c4ab",
   "metadata": {},
   "source": [
    "# Ejercicio 7"
   ]
  },
  {
   "cell_type": "markdown",
   "id": "021dc570-0dfb-493c-998a-694820f1bf79",
   "metadata": {},
   "source": [
    "### Se sabe que en un lote de 700 lápices hay un 5% que presentan defectos de fabricación. ¿Cuál es la probabilidad de que en una muestra de 80 lápices provenientes de dicho lote se encuentren a lo sumo 5 lápices con defectos?\n",
    "RESPUESTA: 0,7054"
   ]
  },
  {
   "cell_type": "code",
   "execution_count": 29,
   "id": "c9c824a0-b8b5-46c0-9156-147b28e41b6c",
   "metadata": {},
   "outputs": [],
   "source": [
    "N <- 700\n",
    "p <- 0.05\n",
    "n <- 80\n",
    "x <- 5"
   ]
  },
  {
   "cell_type": "code",
   "execution_count": 30,
   "id": "d2cd5faa-a7b9-4c93-a891-9e186d2bb095",
   "metadata": {},
   "outputs": [],
   "source": [
    "p_ <- 5/80\n",
    "sigma <- sqrt(p * (1 - p) / n * (N - n) / (N - 1))\n",
    "\n",
    "Z <- round((p_ - p) / sigma, 2)\n",
    "probabilidad <- pnorm(Z)"
   ]
  },
  {
   "cell_type": "code",
   "execution_count": 31,
   "id": "d02aee11-a70a-460f-a072-d1ae0e2f2984",
   "metadata": {},
   "outputs": [
    {
     "data": {
      "text/html": [
       "0.7054"
      ],
      "text/latex": [
       "0.7054"
      ],
      "text/markdown": [
       "0.7054"
      ],
      "text/plain": [
       "[1] 0.7054"
      ]
     },
     "metadata": {},
     "output_type": "display_data"
    }
   ],
   "source": [
    "round(probabilidad, 4)"
   ]
  },
  {
   "cell_type": "markdown",
   "id": "cc3cb4dc-3b7a-4820-ba90-f5cde5416313",
   "metadata": {},
   "source": [
    "<hr>"
   ]
  },
  {
   "cell_type": "markdown",
   "id": "3c4e79ba-4620-4f35-90a5-b1dee5920598",
   "metadata": {},
   "source": [
    "# Ejercicio 8"
   ]
  },
  {
   "cell_type": "markdown",
   "id": "1a03e91c-07aa-49bf-a48f-637ab4cb5457",
   "metadata": {},
   "source": [
    "### Una empresa tiene 478 clientes. En promedio, cada uno compra mensualmente por valor de US935.460, con un desvío estándar de US38.274. ¿Cuál es la probabilidad de que el promedio de una muestra de 70 clientes esté entre US930.000 y US940.000?\n",
    "RESPUESTA: 0,75916"
   ]
  },
  {
   "cell_type": "code",
   "execution_count": 32,
   "id": "7b635c2e-54e5-4336-95c1-200db31402b3",
   "metadata": {},
   "outputs": [],
   "source": [
    "N <- 478\n",
    "mu <- 935460\n",
    "sigma <- 38274\n",
    "n <- 70"
   ]
  },
  {
   "cell_type": "code",
   "execution_count": 33,
   "id": "8269a9c4-0df9-49f5-9013-c4c0f62d7a7d",
   "metadata": {},
   "outputs": [],
   "source": [
    "Z1 <- round((930000 - mu) / (sigma / sqrt(n) * sqrt((N - n) / (N - 1))), 2)\n",
    "Z2 <- round((940000 - mu) / (sigma / sqrt(n) * sqrt((N - n) / (N - 1))), 2)\n",
    "\n",
    "probabilidad <- pnorm(Z2) - pnorm(Z1)"
   ]
  },
  {
   "cell_type": "code",
   "execution_count": 34,
   "id": "d4985639-4008-44f7-a288-8dfe4df2c6c9",
   "metadata": {},
   "outputs": [
    {
     "data": {
      "text/html": [
       "0.75917"
      ],
      "text/latex": [
       "0.75917"
      ],
      "text/markdown": [
       "0.75917"
      ],
      "text/plain": [
       "[1] 0.75917"
      ]
     },
     "metadata": {},
     "output_type": "display_data"
    }
   ],
   "source": [
    "round(probabilidad, 5)"
   ]
  },
  {
   "cell_type": "markdown",
   "id": "060627e0-3073-475f-ae49-910c94617f9b",
   "metadata": {},
   "source": [
    "<hr>"
   ]
  },
  {
   "cell_type": "markdown",
   "id": "02bb7cb0-4efa-41e6-928e-5b28fbbd27b6",
   "metadata": {},
   "source": [
    "# Ejercicio 9"
   ]
  },
  {
   "cell_type": "markdown",
   "id": "cb1b69fd-4c92-4f4a-b5ff-2db0e64a5ecf",
   "metadata": {},
   "source": [
    "### El 25% de los clientes que desean renovar su crédito en cierta Entidad Financiera, no requiere codeudor en razón de sus antecedentes. Se sacó una muestra de 160 solicitudes de renovación. ¿Cuál es la probabilidad de que la proporción de clientes que no necesitan codeudor esté entre el 20% y el 28%?\n",
    "RESPUESTA: 0,73842"
   ]
  },
  {
   "cell_type": "code",
   "execution_count": 35,
   "id": "9cf281c8-1df6-4bee-aa5c-f9c8787ee9d5",
   "metadata": {},
   "outputs": [],
   "source": [
    "p <- 0.25\n",
    "n <- 160\n",
    "p_1 <- 0.20\n",
    "p_2 <- 0.28"
   ]
  },
  {
   "cell_type": "code",
   "execution_count": 36,
   "id": "d6a2e9ad-f347-4dee-b6ea-9ad3910c1557",
   "metadata": {},
   "outputs": [],
   "source": [
    "Z1 <- (p_1 - p) / sqrt(p * (1 - p) / n)\n",
    "Z2 <- (p_2 - p) / sqrt(p * (1 - p) / n)\n",
    "\n",
    "probabilidad <- pnorm(Z2) - pnorm (Z1)"
   ]
  },
  {
   "cell_type": "code",
   "execution_count": 38,
   "id": "814d33cc-9b7b-468c-b211-c73fa1859de6",
   "metadata": {},
   "outputs": [
    {
     "data": {
      "text/html": [
       "0.73752"
      ],
      "text/latex": [
       "0.73752"
      ],
      "text/markdown": [
       "0.73752"
      ],
      "text/plain": [
       "[1] 0.73752"
      ]
     },
     "metadata": {},
     "output_type": "display_data"
    }
   ],
   "source": [
    "round(probabilidad,5)"
   ]
  },
  {
   "cell_type": "markdown",
   "id": "bdcf71ff-398c-4d8e-a2ec-f449025eb1a0",
   "metadata": {},
   "source": [
    "# Ejercicio 10"
   ]
  },
  {
   "cell_type": "markdown",
   "id": "d5999241-c016-4070-a881-a8c8963e4b55",
   "metadata": {},
   "source": [
    "### Se sabe que las ventas efectuadas por una empresa tienen distribución normal con media US343.200 y desvío estándar de US48.152. De las ventas realizadas en el mes, se saca una muestra de 16 facturas."
   ]
  },
  {
   "cell_type": "code",
   "execution_count": 39,
   "id": "abde18e5-cd1a-45a6-a79a-029d7b3041a9",
   "metadata": {},
   "outputs": [],
   "source": [
    "mu <- 343200\n",
    "sigma <- 48152\n",
    "n <- 16\n",
    "dif <- 20000"
   ]
  },
  {
   "cell_type": "markdown",
   "id": "0614dc02-2e75-4b6d-8ac8-eaefe3b3e389",
   "metadata": {},
   "source": [
    "### a. ¿Cuál es la probabilidad de que la media de la muestra difiera de la media poblacional en más de US20.000?\n",
    "RESPUESTA: 0,09692"
   ]
  },
  {
   "cell_type": "code",
   "execution_count": 40,
   "id": "9218f5d4-230b-4e00-8620-fc8f7b2959c7",
   "metadata": {},
   "outputs": [],
   "source": [
    "error_estandar <- sigma / sqrt(n)"
   ]
  },
  {
   "cell_type": "code",
   "execution_count": 41,
   "id": "063b03a0-2d35-46c6-a796-d02eca69f8bf",
   "metadata": {},
   "outputs": [],
   "source": [
    "lower <- pnorm(mu - 20000, mean=mu, sd=error_estandar)\n",
    "upper <- pnorm(mu + 20000, mean=mu, sd=error_estandar, lower.tail=FALSE)"
   ]
  },
  {
   "cell_type": "code",
   "execution_count": 42,
   "id": "52f126b6-17d9-4f08-8112-19c295e02191",
   "metadata": {},
   "outputs": [
    {
     "data": {
      "text/html": [
       "0.0966320240791444"
      ],
      "text/latex": [
       "0.0966320240791444"
      ],
      "text/markdown": [
       "0.0966320240791444"
      ],
      "text/plain": [
       "[1] 0.09663202"
      ]
     },
     "metadata": {},
     "output_type": "display_data"
    }
   ],
   "source": [
    "lower + upper"
   ]
  },
  {
   "cell_type": "markdown",
   "id": "b8f8081a-5ca8-41b8-a7da-fd10fd469132",
   "metadata": {},
   "source": [
    "Otra forma de calcularlo es aprovechando la simetría de la normal:"
   ]
  },
  {
   "cell_type": "code",
   "execution_count": 43,
   "id": "3436eb37-80e5-4c3d-a439-a15c1a6bcb7b",
   "metadata": {},
   "outputs": [],
   "source": [
    "Z <- -dif / (sigma / sqrt(n))\n",
    "\n",
    "probabilidad <- pnorm(Z)"
   ]
  },
  {
   "cell_type": "code",
   "execution_count": 44,
   "id": "e975bdd4-e680-42a5-8664-187411bfacad",
   "metadata": {},
   "outputs": [
    {
     "data": {
      "text/html": [
       "0.0966320240791444"
      ],
      "text/latex": [
       "0.0966320240791444"
      ],
      "text/markdown": [
       "0.0966320240791444"
      ],
      "text/plain": [
       "[1] 0.09663202"
      ]
     },
     "metadata": {},
     "output_type": "display_data"
    }
   ],
   "source": [
    "2 * probabilidad"
   ]
  },
  {
   "cell_type": "markdown",
   "id": "f141f7dd-4d3f-402f-a1a3-d2105ed99126",
   "metadata": {},
   "source": [
    "### b. ¿Cuál es el valor de la media muestral que será superado con probabilidad 0,05?\n",
    "RESPUESTA: $363.002,51"
   ]
  },
  {
   "cell_type": "code",
   "execution_count": 45,
   "id": "8439f3df-80e2-491e-8922-b196ed2b8b39",
   "metadata": {},
   "outputs": [
    {
     "data": {
      "text/html": [
       "363000.747961242"
      ],
      "text/latex": [
       "363000.747961242"
      ],
      "text/markdown": [
       "363000.747961242"
      ],
      "text/plain": [
       "[1] 363000.7"
      ]
     },
     "metadata": {},
     "output_type": "display_data"
    }
   ],
   "source": [
    "qnorm(0.95, mean = mu, sd = error_estandar)"
   ]
  },
  {
   "cell_type": "markdown",
   "id": "704c6732-4108-4642-b36c-4fd1f847c354",
   "metadata": {},
   "source": [
    "Alternativamente, podría hacer uso de -qnorm porque aprovecho la simetría de la normal para quedarme con el valor de Z para área acumulada que correspondería al 0,5 pero para la derecha"
   ]
  },
  {
   "cell_type": "code",
   "execution_count": 46,
   "id": "47cc1869-15f9-4768-a6ef-af904da1407f",
   "metadata": {},
   "outputs": [],
   "source": [
    "Z <- round(-qnorm(0.05), 3)\n",
    "\n",
    "X_ <- Z * sigma / sqrt(n) + mu"
   ]
  },
  {
   "cell_type": "code",
   "execution_count": 47,
   "id": "1095b2e5-5466-4592-849c-fdd3aede1fd2",
   "metadata": {},
   "outputs": [
    {
     "data": {
      "text/html": [
       "363002.51"
      ],
      "text/latex": [
       "363002.51"
      ],
      "text/markdown": [
       "363002.51"
      ],
      "text/plain": [
       "[1] 363002.5"
      ]
     },
     "metadata": {},
     "output_type": "display_data"
    }
   ],
   "source": [
    "X_"
   ]
  },
  {
   "cell_type": "markdown",
   "id": "4a221ad0-d244-4645-b945-ca2a38949b8c",
   "metadata": {},
   "source": [
    "<hr style=\"border: 2px solid black;\">"
   ]
  },
  {
   "cell_type": "markdown",
   "id": "dc5c1067-5f7b-4418-b5bf-a6e9af8cfec4",
   "metadata": {},
   "source": [
    "# GUIA 5"
   ]
  },
  {
   "cell_type": "markdown",
   "id": "ec5e5f72-212c-4a8e-a98e-80ed11339f0b",
   "metadata": {},
   "source": [
    "# Ejercicio n° 1"
   ]
  },
  {
   "cell_type": "markdown",
   "id": "6b7c41d9-16b8-4f07-b1a1-d6c4e345a7cf",
   "metadata": {},
   "source": [
    "**La profundidad de las piletas de lona que fabrica la empresa “PILETITA S.A.”, se distribuye normalmente con un desvío estándar de 5 mm. Para estimar la profundidad media de las piletas, se tomó una muestra de 38 piletas, calculándose una profundidad promedio de 1250 mm. Realizar la estimación, con una confianza del 99%.**\n",
    "\n",
    "Respuesta: (1.247,91; 1.252,09)"
   ]
  },
  {
   "cell_type": "code",
   "execution_count": 247,
   "id": "3a1fe8f8-9aa0-4d2c-a8f1-1a1c01d318b7",
   "metadata": {},
   "outputs": [],
   "source": [
    "sigma <- 5\n",
    "n <- 38\n",
    "X_ <- 1250\n",
    "LOC <- 0.99"
   ]
  },
  {
   "cell_type": "code",
   "execution_count": 248,
   "id": "ef41ef04-1078-4b42-9fc8-fba09a259478",
   "metadata": {},
   "outputs": [],
   "source": [
    "alpha <- 1 - LOC\n",
    "\n",
    "Z_critico <- qnorm(1 - alpha / 2)\n",
    "SE <- sigma / sqrt(n)\n",
    "\n",
    "margen_error <- Z_critico * SE\n",
    "\n",
    "limite_inf <- round(X_ - margen_error, 2)\n",
    "limite_sup <- round(X_ + margen_error, 2)"
   ]
  },
  {
   "cell_type": "code",
   "execution_count": 249,
   "id": "5d722f3b-ed76-4a1e-8b4c-a5df9c23492f",
   "metadata": {},
   "outputs": [
    {
     "data": {
      "text/html": [
       "<style>\n",
       ".list-inline {list-style: none; margin:0; padding: 0}\n",
       ".list-inline>li {display: inline-block}\n",
       ".list-inline>li:not(:last-child)::after {content: \"\\00b7\"; padding: 0 .5ex}\n",
       "</style>\n",
       "<ol class=list-inline><li>1247.91</li><li>1252.09</li></ol>\n"
      ],
      "text/latex": [
       "\\begin{enumerate*}\n",
       "\\item 1247.91\n",
       "\\item 1252.09\n",
       "\\end{enumerate*}\n"
      ],
      "text/markdown": [
       "1. 1247.91\n",
       "2. 1252.09\n",
       "\n",
       "\n"
      ],
      "text/plain": [
       "[1] 1247.91 1252.09"
      ]
     },
     "metadata": {},
     "output_type": "display_data"
    }
   ],
   "source": [
    "c(limite_inf, limite_sup)"
   ]
  },
  {
   "cell_type": "markdown",
   "id": "a6f95cae-f4ce-47ed-a572-bd9eeff842d5",
   "metadata": {},
   "source": [
    "<hr>"
   ]
  },
  {
   "cell_type": "markdown",
   "id": "8d21555e-b174-4944-a440-db11c66ba031",
   "metadata": {},
   "source": [
    "# Ejercicio n° 2"
   ]
  },
  {
   "cell_type": "markdown",
   "id": "4e96e2af-08c5-4408-b0db-45991b8b8799",
   "metadata": {},
   "source": [
    "**El costo variable de construcción de un determinado tipo de vivienda prefabricada, por metro cuadrado, se distribuye normalmente. Se tomó una muestra de 12 viviendas con las que se calculó un costo variable promedio de USD 1440 y un desvío estándar de USD 135.**\n",
    "\n",
    "**a. ¿Entre qué valores estará el costo variable promedio del producto si se lo estima con una confianza del 95%?**\n",
    "\n",
    "Respuesta: (1.354,22; 1.525,78)"
   ]
  },
  {
   "cell_type": "code",
   "execution_count": 252,
   "id": "026ede80-f6f1-4715-8b99-b88f892d2822",
   "metadata": {},
   "outputs": [],
   "source": [
    "n <- 12\n",
    "X_ <- 1440\n",
    "S <- 135\n",
    "LOC <- 0.95"
   ]
  },
  {
   "cell_type": "code",
   "execution_count": 253,
   "id": "a089d8ec-5c54-4038-aadb-e554eab1da6b",
   "metadata": {},
   "outputs": [],
   "source": [
    "alpha <- 1 - LOC\n",
    "\n",
    "t_critico <- qt(1 - alpha / 2, n - 1)\n",
    "SE <- S / sqrt(n)\n",
    "\n",
    "margen_error <- t_critico * SE\n",
    "\n",
    "lim_inferior <- round(X_ - margen_error, 2)\n",
    "lim_superior <- round(X_ + margen_error, 2)"
   ]
  },
  {
   "cell_type": "code",
   "execution_count": 254,
   "id": "f836b421-2936-455c-94fd-7b6f93d3e9a6",
   "metadata": {},
   "outputs": [
    {
     "data": {
      "text/html": [
       "<style>\n",
       ".list-inline {list-style: none; margin:0; padding: 0}\n",
       ".list-inline>li {display: inline-block}\n",
       ".list-inline>li:not(:last-child)::after {content: \"\\00b7\"; padding: 0 .5ex}\n",
       "</style>\n",
       "<ol class=list-inline><li>1354.23</li><li>1525.77</li></ol>\n"
      ],
      "text/latex": [
       "\\begin{enumerate*}\n",
       "\\item 1354.23\n",
       "\\item 1525.77\n",
       "\\end{enumerate*}\n"
      ],
      "text/markdown": [
       "1. 1354.23\n",
       "2. 1525.77\n",
       "\n",
       "\n"
      ],
      "text/plain": [
       "[1] 1354.23 1525.77"
      ]
     },
     "metadata": {},
     "output_type": "display_data"
    }
   ],
   "source": [
    "c(lim_inferior, lim_superior)"
   ]
  },
  {
   "cell_type": "markdown",
   "id": "89ff54d1-8b15-4e7f-ab74-2179c8794faa",
   "metadata": {},
   "source": [
    "**b. Estime la varianza poblacional con una confianza del 90%.**\n",
    "\n",
    "Respuesta: (10.186,74; 43.867,61)"
   ]
  },
  {
   "cell_type": "code",
   "execution_count": 255,
   "id": "b72a23c9-ba30-4c59-bc8b-227f75d1fe2b",
   "metadata": {},
   "outputs": [],
   "source": [
    "LOC <- 0.90\n",
    "n <- 12\n",
    "S <- 135"
   ]
  },
  {
   "cell_type": "code",
   "execution_count": 256,
   "id": "2f619c8c-7491-4b78-a211-8bb30d7c41a1",
   "metadata": {},
   "outputs": [],
   "source": [
    "alpha <- 1 - LOC\n",
    "\n",
    "X_critico_inf <- qchisq(1 - alpha / 2, n - 1)\n",
    "X_critico_sup <- qchisq(alpha / 2, n - 1)\n",
    "\n",
    "var_inf <- round((n - 1) * S^2 / X_critico_inf, 2)\n",
    "var_sup <- round((n - 1) * S^2 / X_critico_sup, 2)"
   ]
  },
  {
   "cell_type": "code",
   "execution_count": 257,
   "id": "36433141-4b29-4736-b551-fc6a54522443",
   "metadata": {},
   "outputs": [
    {
     "data": {
      "text/html": [
       "<style>\n",
       ".list-inline {list-style: none; margin:0; padding: 0}\n",
       ".list-inline>li {display: inline-block}\n",
       ".list-inline>li:not(:last-child)::after {content: \"\\00b7\"; padding: 0 .5ex}\n",
       "</style>\n",
       "<ol class=list-inline><li>10189.26</li><li>43821.46</li></ol>\n"
      ],
      "text/latex": [
       "\\begin{enumerate*}\n",
       "\\item 10189.26\n",
       "\\item 43821.46\n",
       "\\end{enumerate*}\n"
      ],
      "text/markdown": [
       "1. 10189.26\n",
       "2. 43821.46\n",
       "\n",
       "\n"
      ],
      "text/plain": [
       "[1] 10189.26 43821.46"
      ]
     },
     "metadata": {},
     "output_type": "display_data"
    }
   ],
   "source": [
    "c(var_inf, var_sup)"
   ]
  },
  {
   "cell_type": "markdown",
   "id": "5bfbf856-4da8-4624-830a-fea3426183ed",
   "metadata": {},
   "source": [
    "<hr>"
   ]
  },
  {
   "cell_type": "markdown",
   "id": "2b72e124-a894-405d-ab28-d8aa504e8977",
   "metadata": {},
   "source": [
    "# Ejercicio n° 3"
   ]
  },
  {
   "cell_type": "markdown",
   "id": "236f0da7-0782-4b2c-a971-765f1c071d71",
   "metadata": {},
   "source": [
    "**Una muestra de 248 bicicletas indicó que el 19% de ellas tenía problemas en los frenos. Con una confianza del 92%, estime la proporción de bicicletas con problema en los frenos**\n",
    "\n",
    "Respuesta: (0,1464; 0,2336)"
   ]
  },
  {
   "cell_type": "code",
   "execution_count": 258,
   "id": "06b36274-ac16-49e6-bce8-e11c68c64877",
   "metadata": {},
   "outputs": [],
   "source": [
    "n <- 248\n",
    "p_ <- 0.19\n",
    "LOC <- 0.92"
   ]
  },
  {
   "cell_type": "code",
   "execution_count": 259,
   "id": "cb4b86c8-9e48-42ff-a6a9-9ba37a865f4d",
   "metadata": {},
   "outputs": [],
   "source": [
    "alpha <- 1 - LOC\n",
    "\n",
    "Z_critico <- qnorm(1 - alpha / 2)\n",
    "SE <- sqrt(p_ * (1 - p_) / n)\n",
    "\n",
    "margen_error <- Z_critico * SE\n",
    "\n",
    "lim_inferior <- round(p_ - margen_error, 4)\n",
    "lim_superior <- round(p_ + margen_error, 4)"
   ]
  },
  {
   "cell_type": "code",
   "execution_count": 260,
   "id": "62196a94-a375-4cb5-bf46-da8c215348ae",
   "metadata": {},
   "outputs": [
    {
     "data": {
      "text/html": [
       "<style>\n",
       ".list-inline {list-style: none; margin:0; padding: 0}\n",
       ".list-inline>li {display: inline-block}\n",
       ".list-inline>li:not(:last-child)::after {content: \"\\00b7\"; padding: 0 .5ex}\n",
       "</style>\n",
       "<ol class=list-inline><li>0.1464</li><li>0.2336</li></ol>\n"
      ],
      "text/latex": [
       "\\begin{enumerate*}\n",
       "\\item 0.1464\n",
       "\\item 0.2336\n",
       "\\end{enumerate*}\n"
      ],
      "text/markdown": [
       "1. 0.1464\n",
       "2. 0.2336\n",
       "\n",
       "\n"
      ],
      "text/plain": [
       "[1] 0.1464 0.2336"
      ]
     },
     "metadata": {},
     "output_type": "display_data"
    }
   ],
   "source": [
    "c(lim_inferior, lim_superior)"
   ]
  },
  {
   "cell_type": "markdown",
   "id": "fb36ce9f-c2c1-435a-8243-b1f262cf9dcb",
   "metadata": {},
   "source": [
    "<hr>"
   ]
  },
  {
   "cell_type": "markdown",
   "id": "785597ab-b579-4fb8-b08b-25ec70ea0882",
   "metadata": {},
   "source": [
    "# Ejercicio n° 4"
   ]
  },
  {
   "cell_type": "markdown",
   "id": "a57b4538-4326-4f43-9169-31594420514d",
   "metadata": {},
   "source": [
    "**En una tornería se fabrican cilindros cuyo diámetro se distribuye normalmente con un desvío estándar de 1.5 mm Con una muestra de 10 cilindros se estimó el diámetro medio entre 20,5 y 21,8. Calcule la confianza de la estimación.**\n",
    "\n",
    "Respuesta: 0,83"
   ]
  },
  {
   "cell_type": "code",
   "execution_count": 262,
   "id": "e2b43e1d-fed2-4652-851b-a66071d92abb",
   "metadata": {},
   "outputs": [],
   "source": [
    "sigma <- 1.5\n",
    "n <- 10\n",
    "lim_inferior <- 20.5\n",
    "lim_superior <- 21.8"
   ]
  },
  {
   "cell_type": "code",
   "execution_count": 263,
   "id": "e5144632-c571-4e94-925c-a9188bd0491c",
   "metadata": {},
   "outputs": [],
   "source": [
    "X_ <- (lim_superior + lim_inferior) / 2\n",
    "margen_error <- X_ - lim_inferior\n",
    "\n",
    "SE <- sigma / sqrt(n)\n",
    "Z_critico <- margen_error / SE"
   ]
  },
  {
   "cell_type": "code",
   "execution_count": 264,
   "id": "768217ba-af7f-488d-96ba-137e59a066ce",
   "metadata": {},
   "outputs": [],
   "source": [
    "area_acumulada <- pnorm(Z_critico, mean = 0, sd = 1)\n",
    "alpha <- (1 - area_acumulada) * 2\n",
    "LOC <- 1 - alpha"
   ]
  },
  {
   "cell_type": "code",
   "execution_count": 265,
   "id": "f64d62d7-71f9-4a0b-b9d3-8e74ade9f1a1",
   "metadata": {},
   "outputs": [
    {
     "data": {
      "text/html": [
       "0.83"
      ],
      "text/latex": [
       "0.83"
      ],
      "text/markdown": [
       "0.83"
      ],
      "text/plain": [
       "[1] 0.83"
      ]
     },
     "metadata": {},
     "output_type": "display_data"
    }
   ],
   "source": [
    "round(LOC, 2)"
   ]
  },
  {
   "cell_type": "markdown",
   "id": "3cc8200a-97c5-4f60-9979-7dcced18f916",
   "metadata": {},
   "source": [
    "# Ejercicio n° 5"
   ]
  },
  {
   "cell_type": "markdown",
   "id": "665a9505-9444-499d-b559-d14cd9a9df42",
   "metadata": {},
   "source": [
    "**La longitud de los durmientes utilizados en la industria ferroviaria a fines del siglo XIX se distribuye normalmente con un desvío estándar de 2cm.**\n",
    "\n",
    "**a. Calcular cuál será el tamaño de la muestra mínimo para estimar la longitud media, si se quiere un error de muestreo de como máximo 0,3 cm., con una confianza del 92%.**\n",
    "\n",
    "Respuesta: 137"
   ]
  },
  {
   "cell_type": "code",
   "execution_count": 266,
   "id": "dcf12472-5c68-490a-83fc-87c86041c87a",
   "metadata": {},
   "outputs": [],
   "source": [
    "sigma <- 2\n",
    "margen_error <- 0.3\n",
    "LOC <- 0.92"
   ]
  },
  {
   "cell_type": "code",
   "execution_count": 267,
   "id": "8aeb6480-5364-4908-bbf1-e7fa5dc2c1fb",
   "metadata": {},
   "outputs": [],
   "source": [
    "alpha <- 1 - LOC\n",
    "\n",
    "Z_critico <- qnorm(1 - alpha / 2)\n",
    "SE <- margen_error / Z_critico "
   ]
  },
  {
   "cell_type": "markdown",
   "id": "aeb0c613-bdf3-4c55-a9d9-255b03271416",
   "metadata": {},
   "source": [
    "Redondeo para arriba porque el tamaño de la muestra es un valor entero y para contener esa fracción decimal que tiene el resultado"
   ]
  },
  {
   "cell_type": "code",
   "execution_count": 268,
   "id": "2df909eb-04f1-4491-bf32-0dbe0dc0df46",
   "metadata": {},
   "outputs": [
    {
     "data": {
      "text/html": [
       "137"
      ],
      "text/latex": [
       "137"
      ],
      "text/markdown": [
       "137"
      ],
      "text/plain": [
       "[1] 137"
      ]
     },
     "metadata": {},
     "output_type": "display_data"
    }
   ],
   "source": [
    "n <- (sigma / SE)^2\n",
    "ceiling(n)"
   ]
  },
  {
   "cell_type": "markdown",
   "id": "105dfa2a-6a7a-49b3-be8a-aec296af77e8",
   "metadata": {},
   "source": [
    "**b. Ídem anterior, pero con una confianza del 97%.**\n",
    "\n",
    "Respuesta: 210"
   ]
  },
  {
   "cell_type": "code",
   "execution_count": 269,
   "id": "3f0bc674-241a-4e1c-810c-208c1234011b",
   "metadata": {},
   "outputs": [],
   "source": [
    "sigma <- 2\n",
    "margen_error <- 0.3\n",
    "LOC <- 0.97"
   ]
  },
  {
   "cell_type": "code",
   "execution_count": 270,
   "id": "da583e62-8922-4c2b-8cef-7166e2c45da4",
   "metadata": {},
   "outputs": [],
   "source": [
    "alpha <- 1 - LOC\n",
    "\n",
    "Z_critico <- qnorm(1 - alpha / 2)\n",
    "SE <- margen_error / Z_critico "
   ]
  },
  {
   "cell_type": "code",
   "execution_count": 271,
   "id": "d91a1014-14b7-4670-a547-4786fe8dadec",
   "metadata": {},
   "outputs": [
    {
     "data": {
      "text/html": [
       "210"
      ],
      "text/latex": [
       "210"
      ],
      "text/markdown": [
       "210"
      ],
      "text/plain": [
       "[1] 210"
      ]
     },
     "metadata": {},
     "output_type": "display_data"
    }
   ],
   "source": [
    "n <- (sigma / SE)^2\n",
    "ceiling(n)"
   ]
  },
  {
   "cell_type": "markdown",
   "id": "1f5530ef-e3ba-43d3-ad7a-f5eb256fb050",
   "metadata": {},
   "source": [
    "# Ejercicio n° 6"
   ]
  },
  {
   "cell_type": "markdown",
   "id": "4c0f2532-07da-4b28-84cd-e2997e75bd04",
   "metadata": {},
   "source": [
    "**Una importante marca de ropa deportiva, contrató a un equipo de especialistas que realizó una encuesta, a fin de estimar qué proporción de personas mayores de 65 años, aceptarían un nuevo producto que se planea lanzar al mercado.\n",
    "Calcule el tamaño de la muestra mínimo a utilizar si se quiere un error de muestreo máximo de 2%, y un nivel de confianza del 99%, en base a los siguientes supuestos:**\n",
    "\n",
    "**a. En experiencias anteriores, el 82% de las personas mayores de 65 años, mostraron aceptación en nuevos productos de este tipo.**\n",
    "\n",
    "Respuesta: 2449"
   ]
  },
  {
   "cell_type": "code",
   "execution_count": 273,
   "id": "aafcd65b-dbec-48c7-a916-bf6dd59a9bd5",
   "metadata": {},
   "outputs": [],
   "source": [
    "margen_error <- 0.02\n",
    "LOC <- 0.99\n",
    "p_ <- 0.82"
   ]
  },
  {
   "cell_type": "code",
   "execution_count": 274,
   "id": "c38b3b77-0b31-4008-828d-3f6c10433f66",
   "metadata": {},
   "outputs": [],
   "source": [
    "alpha <- 1 - LOC\n",
    "\n",
    "Z_critico <- qnorm(1 - alpha / 2)\n",
    "SE <- margen_error / Z_critico"
   ]
  },
  {
   "cell_type": "markdown",
   "id": "023e93c3-a0ba-486e-84a7-cbb7b3a26e8d",
   "metadata": {},
   "source": [
    "Despejo n de la fórmula de error estándar para una proporción:"
   ]
  },
  {
   "cell_type": "code",
   "execution_count": 275,
   "id": "14687842-a4af-48bb-b7ba-ad9a67612262",
   "metadata": {},
   "outputs": [],
   "source": [
    "n <- p_ * (1 - p_) / SE^2"
   ]
  },
  {
   "cell_type": "markdown",
   "id": "48aefc03-9ab8-44fb-bcd3-f608f7f7837b",
   "metadata": {},
   "source": [
    "Redondeo para arriba porque el tamaño de la muestra es un valor entero y para contener esa fracción decimal que tiene el resultado"
   ]
  },
  {
   "cell_type": "code",
   "execution_count": 277,
   "id": "95531c44-3124-4d0f-9f15-b6e4d2da4962",
   "metadata": {},
   "outputs": [
    {
     "data": {
      "text/html": [
       "2449"
      ],
      "text/latex": [
       "2449"
      ],
      "text/markdown": [
       "2449"
      ],
      "text/plain": [
       "[1] 2449"
      ]
     },
     "metadata": {},
     "output_type": "display_data"
    }
   ],
   "source": [
    "ceiling(n)"
   ]
  },
  {
   "cell_type": "markdown",
   "id": "fa628b88-85e2-45b4-9d40-b4bd9cee2660",
   "metadata": {},
   "source": [
    "**b. No se tiene información de trabajos anteriores.**\n",
    "\n",
    "Respuesta: 4148"
   ]
  },
  {
   "cell_type": "markdown",
   "id": "ef23b3e7-8c01-438c-87cd-96a9e8e027b9",
   "metadata": {},
   "source": [
    "En ausencia de información previa, se suele asumir que la proporción de éxito es 0.5 cuando se trabaja con situaciones del tipo binomiales. Esto es así porque p=0.5 representa el punto de máxima incertidumbre para una variable binomial."
   ]
  },
  {
   "cell_type": "code",
   "execution_count": 1,
   "id": "33aceca1-74fd-4620-9e5c-ab64fbfefdf9",
   "metadata": {},
   "outputs": [],
   "source": [
    "margen_error <- 0.02\n",
    "LOC <- 0.99\n",
    "p_ <- 0.5"
   ]
  },
  {
   "cell_type": "code",
   "execution_count": 2,
   "id": "69f1f57a-26ea-4294-9d44-a1b282de4f13",
   "metadata": {},
   "outputs": [],
   "source": [
    "alpha <- 1 - LOC\n",
    "\n",
    "Z_critico <- qnorm(1 - alpha / 2)\n",
    "SE <- margen_error / Z_critico"
   ]
  },
  {
   "cell_type": "code",
   "execution_count": 3,
   "id": "2dc81d9e-6356-4632-ad07-935da716b024",
   "metadata": {},
   "outputs": [
    {
     "data": {
      "text/html": [
       "4147"
      ],
      "text/latex": [
       "4147"
      ],
      "text/markdown": [
       "4147"
      ],
      "text/plain": [
       "[1] 4147"
      ]
     },
     "metadata": {},
     "output_type": "display_data"
    }
   ],
   "source": [
    "n <- p_ * (1 - p_) / SE^2\n",
    "ceiling(n)"
   ]
  },
  {
   "cell_type": "markdown",
   "id": "13c527e3-9344-4d55-bd3c-dd6ab0d16003",
   "metadata": {},
   "source": [
    "<hr>"
   ]
  },
  {
   "cell_type": "markdown",
   "id": "d8eef77d-c8e9-4e70-b8bd-acfa34106f43",
   "metadata": {},
   "source": [
    "# Ejercicio n° 7"
   ]
  },
  {
   "cell_type": "markdown",
   "id": "bcfdf7cc-73f8-4a5b-8e11-606b77cb8db8",
   "metadata": {},
   "source": [
    "**En una fábrica situada en Pacheco se fabrican llantas de aleación para automóviles, cuyo diámetro se distribuye normalmente con un desvío típico de 2 mm.**\n",
    "\n",
    "**a. Con una muestra de 22 llantas se calculó un diámetro promedio de 150 mm. Estimar el diámetro medio de las llantas con una confianza del 90 %.**\n",
    "\n",
    "Respuesta: (149,30; 150,70)"
   ]
  },
  {
   "cell_type": "code",
   "execution_count": 5,
   "id": "842a858f-bb8d-4467-a5f9-1562c56e7d64",
   "metadata": {},
   "outputs": [],
   "source": [
    "sigma <- 2\n",
    "n <- 22\n",
    "X_ <- 150\n",
    "LOC <- 0.90"
   ]
  },
  {
   "cell_type": "code",
   "execution_count": 6,
   "id": "526459b9-575c-473f-8257-3a0e6b879d2c",
   "metadata": {},
   "outputs": [],
   "source": [
    "alpha <- 1 - LOC\n",
    "\n",
    "Z_critico <- qnorm(1 - alpha / 2)\n",
    "SE <- sigma / sqrt(n)\n",
    "\n",
    "margen_error <- Z_critico * SE\n",
    "\n",
    "lim_inferior <- round(X_ - margen_error, 2)\n",
    "lim_superior <- round(X_ + margen_error, 2)"
   ]
  },
  {
   "cell_type": "code",
   "execution_count": 7,
   "id": "4495e393-406b-48a2-87d2-9fb9e37b0804",
   "metadata": {},
   "outputs": [
    {
     "data": {
      "text/html": [
       "<style>\n",
       ".list-inline {list-style: none; margin:0; padding: 0}\n",
       ".list-inline>li {display: inline-block}\n",
       ".list-inline>li:not(:last-child)::after {content: \"\\00b7\"; padding: 0 .5ex}\n",
       "</style>\n",
       "<ol class=list-inline><li>149.3</li><li>150.7</li></ol>\n"
      ],
      "text/latex": [
       "\\begin{enumerate*}\n",
       "\\item 149.3\n",
       "\\item 150.7\n",
       "\\end{enumerate*}\n"
      ],
      "text/markdown": [
       "1. 149.3\n",
       "2. 150.7\n",
       "\n",
       "\n"
      ],
      "text/plain": [
       "[1] 149.3 150.7"
      ]
     },
     "metadata": {},
     "output_type": "display_data"
    }
   ],
   "source": [
    "c(lim_inferior, lim_superior)"
   ]
  },
  {
   "cell_type": "markdown",
   "id": "29b748cb-68b5-4f7c-9921-b1808bea35a7",
   "metadata": {},
   "source": [
    "**b. Calcular la confianza de la estimación si con una muestra de 18 llantas, se estimó el diámetro promedio entre 148,41 y 150,85 mm.**\n",
    "\n",
    "Respuesta: 0,99"
   ]
  },
  {
   "cell_type": "code",
   "execution_count": 8,
   "id": "b9beca7b-8645-4344-89cc-af09ba4106bc",
   "metadata": {},
   "outputs": [],
   "source": [
    "lim_inferior <- 148.41\n",
    "lim_superior <- 150.85\n",
    "X_ <- (lim_inferior + lim_superior) / 2\n",
    "n <- 18"
   ]
  },
  {
   "cell_type": "code",
   "execution_count": 9,
   "id": "9ab9ad00-eeb6-4f17-83f5-cacaacd08fc4",
   "metadata": {},
   "outputs": [],
   "source": [
    "margen_error <- X_ - lim_inferior\n",
    "SE <- sigma / sqrt(n)\n",
    "\n",
    "Z_critico <- margen_error / SE\n",
    "area_acumulada <- pnorm(Z_critico, mean = 0, sd = 1)\n",
    "alpha <- (1 - area_acumulada) * 2"
   ]
  },
  {
   "cell_type": "code",
   "execution_count": 10,
   "id": "952f601f-82a5-47a9-ab99-7296c48d953f",
   "metadata": {},
   "outputs": [
    {
     "data": {
      "text/html": [
       "0.99"
      ],
      "text/latex": [
       "0.99"
      ],
      "text/markdown": [
       "0.99"
      ],
      "text/plain": [
       "[1] 0.99"
      ]
     },
     "metadata": {},
     "output_type": "display_data"
    }
   ],
   "source": [
    "LOC <- 1 - alpha\n",
    "round(LOC, 2)"
   ]
  },
  {
   "cell_type": "markdown",
   "id": "d6379ab3-b35e-4fc2-b97e-eb29df8e486f",
   "metadata": {},
   "source": [
    "<hr>"
   ]
  },
  {
   "cell_type": "markdown",
   "id": "caf28a0f-d247-4091-b317-ddc2a7cfc203",
   "metadata": {},
   "source": [
    "# Ejercicio n° 8"
   ]
  },
  {
   "cell_type": "markdown",
   "id": "6e9dc720-a6b6-4698-8bd2-096285fa039c",
   "metadata": {},
   "source": [
    "**Los siguientes datos corresponden a los pagos en concepto de impuesto a las ganancias, los cuales se distribuyen normalmente, que fueron realizados por seis contribuyentes en el último periodo fiscal:**\n",
    "\n",
    "$$854,8 - 754,3 - 698,2 - 789,2 - 401,9 - 642,6$$\n",
    "\n",
    "**Estime con una confianza del 95% el monto medio de los pagos en concepto de impuesto a las ganancias.**\n",
    "\n",
    "Respuesta: (523,25; 857,09)"
   ]
  },
  {
   "cell_type": "code",
   "execution_count": 11,
   "id": "3112d9b0-8f84-4e0a-902e-8db26748101b",
   "metadata": {},
   "outputs": [],
   "source": [
    "datos <- c(854.8, 754.3, 698.2, 789.2, 401.9, 642.6)\n",
    "X_ <- mean(datos)\n",
    "S <- sd(datos)\n",
    "n <- length(datos)\n",
    "LOC <- 0.95"
   ]
  },
  {
   "cell_type": "code",
   "execution_count": 12,
   "id": "a87ec215-0489-4723-908e-fba588dbe5ef",
   "metadata": {},
   "outputs": [],
   "source": [
    "alpha <- 1 - LOC\n",
    "\n",
    "t_critico <- qt(1 - alpha/2, n - 1)\n",
    "SE <- S / sqrt(n)\n",
    "\n",
    "margen_error <- t_critico * SE\n",
    "\n",
    "lim_inferior <- round(X_ - margen_error, 2)\n",
    "lim_superior <- round(X_ + margen_error, 2)"
   ]
  },
  {
   "cell_type": "code",
   "execution_count": 13,
   "id": "ceb269c2-0709-46fe-8276-357b6be644f8",
   "metadata": {},
   "outputs": [
    {
     "data": {
      "text/html": [
       "<style>\n",
       ".list-inline {list-style: none; margin:0; padding: 0}\n",
       ".list-inline>li {display: inline-block}\n",
       ".list-inline>li:not(:last-child)::after {content: \"\\00b7\"; padding: 0 .5ex}\n",
       "</style>\n",
       "<ol class=list-inline><li>523.28</li><li>857.06</li></ol>\n"
      ],
      "text/latex": [
       "\\begin{enumerate*}\n",
       "\\item 523.28\n",
       "\\item 857.06\n",
       "\\end{enumerate*}\n"
      ],
      "text/markdown": [
       "1. 523.28\n",
       "2. 857.06\n",
       "\n",
       "\n"
      ],
      "text/plain": [
       "[1] 523.28 857.06"
      ]
     },
     "metadata": {},
     "output_type": "display_data"
    }
   ],
   "source": [
    "c(lim_inferior, lim_superior)"
   ]
  },
  {
   "cell_type": "markdown",
   "id": "7eec16f0-dbac-4f75-8a66-2282866cf35e",
   "metadata": {},
   "source": [
    "<hr>"
   ]
  },
  {
   "cell_type": "markdown",
   "id": "42e0ef5c-5c4c-4daf-ac42-027c7cf502d1",
   "metadata": {},
   "source": [
    "# Ejercicio 9"
   ]
  },
  {
   "cell_type": "markdown",
   "id": "a9f2cde7-0c2f-47b8-b092-e194c1a59219",
   "metadata": {},
   "source": [
    "**El peso de los paquetes de caramelos envasados automáticamente se distribuye normalmente con un desvío de 1 gramos. Una muestra de 19 paquetes dio como resultado un peso promedio de 138 gramos. Estime, con una confianza del 95%, el peso medio de los paquetes.**\n",
    "\n",
    "Respuesta: (137,55; 138,44)"
   ]
  },
  {
   "cell_type": "code",
   "execution_count": 14,
   "id": "625bb8f9-4c3d-42b3-a5b8-f0de8c2dab66",
   "metadata": {},
   "outputs": [],
   "source": [
    "sigma <- 1\n",
    "n <- 19\n",
    "X_ <- 138\n",
    "LOC <- 0.95"
   ]
  },
  {
   "cell_type": "code",
   "execution_count": 15,
   "id": "0c89efac-61cd-4097-b401-bb3d5eb88704",
   "metadata": {},
   "outputs": [],
   "source": [
    "alpha <- 1 - LOC\n",
    "\n",
    "Z_critico <- qnorm(1 - alpha/2)\n",
    "SE <- sigma / sqrt(n)\n",
    "\n",
    "margen_error <- Z_critico * SE\n",
    "\n",
    "lim_inferior <- round(X_ - margen_error, 2)\n",
    "lim_superior <- round(X_ + margen_error, 2)"
   ]
  },
  {
   "cell_type": "code",
   "execution_count": 16,
   "id": "53588822-564f-462c-9328-b1583587c290",
   "metadata": {},
   "outputs": [
    {
     "data": {
      "text/html": [
       "<style>\n",
       ".list-inline {list-style: none; margin:0; padding: 0}\n",
       ".list-inline>li {display: inline-block}\n",
       ".list-inline>li:not(:last-child)::after {content: \"\\00b7\"; padding: 0 .5ex}\n",
       "</style>\n",
       "<ol class=list-inline><li>137.55</li><li>138.45</li></ol>\n"
      ],
      "text/latex": [
       "\\begin{enumerate*}\n",
       "\\item 137.55\n",
       "\\item 138.45\n",
       "\\end{enumerate*}\n"
      ],
      "text/markdown": [
       "1. 137.55\n",
       "2. 138.45\n",
       "\n",
       "\n"
      ],
      "text/plain": [
       "[1] 137.55 138.45"
      ]
     },
     "metadata": {},
     "output_type": "display_data"
    }
   ],
   "source": [
    "c(lim_inferior, lim_superior)"
   ]
  },
  {
   "cell_type": "markdown",
   "id": "7a093366-a6b4-46f4-913e-931f74dc892d",
   "metadata": {},
   "source": [
    "<hr>"
   ]
  },
  {
   "cell_type": "markdown",
   "id": "efa6b011-6249-44e6-988f-ee7a9cdec165",
   "metadata": {},
   "source": [
    "# Ejercicio n° 10"
   ]
  },
  {
   "cell_type": "markdown",
   "id": "1708b633-3a45-4857-a4db-6a89a59a9c09",
   "metadata": {},
   "source": [
    "**El dueño de una sodería está interesado en estimar algunos parámetros relacionados con su inventario actual. De un lote de 250 sifones, se tomaron al azar 60 sifones y surgió la siguiente información:\n",
    "Se encontraron 22 sifones defectuosos, se determinó que el contenido medio era 950 cm. cúbicos con un desvío de 18 cm. cúbicos.**\n",
    "\n",
    "**a. Estime con una confianza del 95% el contenido medio de los sifones.**\n",
    "\n",
    "Respuesta: (946,02; 953,98)"
   ]
  },
  {
   "cell_type": "code",
   "execution_count": 17,
   "id": "8ce1e225-8460-4456-9289-baa360b2cd65",
   "metadata": {},
   "outputs": [],
   "source": [
    "N <- 250\n",
    "n <- 60\n",
    "X_ <- 950\n",
    "S_ <- 18\n",
    "LOC <- 0.95  # Si uso  0.945 se aproxima más a la solución"
   ]
  },
  {
   "cell_type": "code",
   "execution_count": 18,
   "id": "9dad4d5b-97e1-45bc-986b-f8a157cdaa83",
   "metadata": {},
   "outputs": [],
   "source": [
    "alpha <- 1 - LOC\n",
    "\n",
    "t_critico <- qt(1 - alpha/2, df = n - 1)\n",
    "SE <- S_ / sqrt(n) * sqrt((N - n) / (N - 1))\n",
    "\n",
    "margen_error <- t_critico * SE\n",
    "\n",
    "lim_inferior <- round(X_ - margen_error, 2)\n",
    "lim_superior <- round(X_ + margen_error, 2)"
   ]
  },
  {
   "cell_type": "code",
   "execution_count": 19,
   "id": "c33e1f57-ea24-4cd1-819f-14f53be9e58d",
   "metadata": {},
   "outputs": [
    {
     "data": {
      "text/html": [
       "<style>\n",
       ".list-inline {list-style: none; margin:0; padding: 0}\n",
       ".list-inline>li {display: inline-block}\n",
       ".list-inline>li:not(:last-child)::after {content: \"\\00b7\"; padding: 0 .5ex}\n",
       "</style>\n",
       "<ol class=list-inline><li>945.94</li><li>954.06</li></ol>\n"
      ],
      "text/latex": [
       "\\begin{enumerate*}\n",
       "\\item 945.94\n",
       "\\item 954.06\n",
       "\\end{enumerate*}\n"
      ],
      "text/markdown": [
       "1. 945.94\n",
       "2. 954.06\n",
       "\n",
       "\n"
      ],
      "text/plain": [
       "[1] 945.94 954.06"
      ]
     },
     "metadata": {},
     "output_type": "display_data"
    }
   ],
   "source": [
    "c(lim_inferior, lim_superior)"
   ]
  },
  {
   "cell_type": "markdown",
   "id": "a0f9475e-0531-4246-a321-e7f28c318e09",
   "metadata": {},
   "source": [
    "**b. Estime con una confianza del 98% la proporción de sifones defectuosos.**\n",
    "\n",
    "Respuesta: (0,2403; 0,4931)"
   ]
  },
  {
   "cell_type": "code",
   "execution_count": 20,
   "id": "414eae61-177d-48f2-99f5-4025d0219460",
   "metadata": {},
   "outputs": [],
   "source": [
    "x <- 22\n",
    "n <- 60\n",
    "N <- 250\n",
    "p_ <- x / n\n",
    "LOC = 0.98"
   ]
  },
  {
   "cell_type": "markdown",
   "id": "f084fda1-c17e-437e-81de-9976edfa7c9a",
   "metadata": {},
   "source": [
    "Voy a hacer en primer lugar una comprobación de qué distribución usar para el cálculo del valor crítico. Si **(p_ * n)** es mayor a 5 o 10, uso la curva normal en lugar de la t:"
   ]
  },
  {
   "cell_type": "code",
   "execution_count": 21,
   "id": "ecb1ec95-07db-4b1e-ae61-02bfc9cdd368",
   "metadata": {},
   "outputs": [
    {
     "data": {
      "text/html": [
       "22"
      ],
      "text/latex": [
       "22"
      ],
      "text/markdown": [
       "22"
      ],
      "text/plain": [
       "[1] 22"
      ]
     },
     "metadata": {},
     "output_type": "display_data"
    }
   ],
   "source": [
    "p_ * n"
   ]
  },
  {
   "cell_type": "markdown",
   "id": "e32d8b4a-b6cb-42fa-bf2c-0cc6c7eeca60",
   "metadata": {},
   "source": [
    "Ahora voy a calcular el intervalo de confianza empleando la corrección para población finita:"
   ]
  },
  {
   "cell_type": "markdown",
   "id": "664f5c57-1155-4467-a51b-6c9f1a50a5a9",
   "metadata": {},
   "source": [
    "$$Z = \\frac{\\hat{p} - p}{\\sqrt{\\frac{p(1-p)}{n} \\left( \\frac{N-n}{N-1} \\right)}}$$"
   ]
  },
  {
   "cell_type": "code",
   "execution_count": 22,
   "id": "136bb7c3-203d-4e24-b4a6-18311630d484",
   "metadata": {},
   "outputs": [],
   "source": [
    "alpha <- 1 - LOC\n",
    "\n",
    "Z_critico <- qnorm(1 - alpha/2)\n",
    "SE <- sqrt((p_ * (1 - p_)) / n * ((N - n) / (N - 1)))\n",
    "\n",
    "margen_error <- Z_critico * SE\n",
    "\n",
    "lim_inferior <- round(p_ - margen_error, 4)\n",
    "lim_superior <- round(p_ + margen_error, 4)"
   ]
  },
  {
   "cell_type": "code",
   "execution_count": 23,
   "id": "a391cfd1-ccee-4cec-a063-9209fe30d0a6",
   "metadata": {},
   "outputs": [
    {
     "data": {
      "text/html": [
       "<style>\n",
       ".list-inline {list-style: none; margin:0; padding: 0}\n",
       ".list-inline>li {display: inline-block}\n",
       ".list-inline>li:not(:last-child)::after {content: \"\\00b7\"; padding: 0 .5ex}\n",
       "</style>\n",
       "<ol class=list-inline><li>0.2402</li><li>0.4931</li></ol>\n"
      ],
      "text/latex": [
       "\\begin{enumerate*}\n",
       "\\item 0.2402\n",
       "\\item 0.4931\n",
       "\\end{enumerate*}\n"
      ],
      "text/markdown": [
       "1. 0.2402\n",
       "2. 0.4931\n",
       "\n",
       "\n"
      ],
      "text/plain": [
       "[1] 0.2402 0.4931"
      ]
     },
     "metadata": {},
     "output_type": "display_data"
    }
   ],
   "source": [
    "c(lim_inferior, lim_superior)"
   ]
  },
  {
   "cell_type": "markdown",
   "id": "02fbbe36-9161-4eef-b809-4e6a6d4c1e15",
   "metadata": {},
   "source": [
    "<hr style=\"border: 2px solid black;\">"
   ]
  },
  {
   "cell_type": "markdown",
   "id": "d6cb694c-3471-4752-bc0b-ebe9455c6de5",
   "metadata": {},
   "source": [
    "# GUIA 6"
   ]
  },
  {
   "cell_type": "markdown",
   "id": "daf34305-d535-40bc-b7cf-d58497cf4f91",
   "metadata": {},
   "source": [
    "# Ejercicio 1"
   ]
  },
  {
   "cell_type": "markdown",
   "id": "e29d675e-b7f7-4c74-8ebf-a337973e264a",
   "metadata": {},
   "source": [
    "**Se pudo comprobar que el año pasado, los precios de una determinada canasta de productos se distribuye normalmente con media USD 1780, y un desvío estándar de USD 110. Este año, una muestra de 40 ventas, proporcionó un precio promedio de USD 1900. Con un nivel de significación del 5%, ¿se puede afirmar que el precio promedio de estos productos, ha aumentado, con respecto al precio promedio del año pasado?**\n",
    "\n",
    "Respuesta: 𝑅𝑐 ∶ 𝑍𝑡 ≥ 1,645 𝑍𝑒 = 6,899. Se rechaza 𝐻0"
   ]
  },
  {
   "cell_type": "code",
   "execution_count": 24,
   "id": "fa388b4f-f0ae-4609-aedc-36dfafa77c57",
   "metadata": {},
   "outputs": [],
   "source": [
    "mu <- 1780\n",
    "sigma <- 110\n",
    "n <- 40\n",
    "X_ <- 1900\n",
    "alpha <- 0.05"
   ]
  },
  {
   "cell_type": "code",
   "execution_count": 25,
   "id": "ec569173-d457-49d3-a5e3-4c1d70deab79",
   "metadata": {},
   "outputs": [
    {
     "name": "stdout",
     "output_type": "stream",
     "text": [
      "Rechazamos la hipótesis nula. El precio promedio ha aumentado con un nivel de significación del 5%."
     ]
    }
   ],
   "source": [
    "Zt <- qnorm(1 - alpha)\n",
    "Ze <- (1900 - mu) / (sigma / sqrt(n))\n",
    "\n",
    "if (Ze >= Zt) {\n",
    "  cat(\"Rechazamos la hipótesis nula. El precio promedio ha aumentado con un nivel de significación del 5%.\")\n",
    "} else {\n",
    "  cat(\"No rechazamos la hipótesis nula. No hay suficiente evidencia para afirmar que el precio promedio ha aumentado con un nivel de significación del 5%.\")\n",
    "}"
   ]
  },
  {
   "cell_type": "markdown",
   "id": "8c1328c8-ff0d-49b9-b07e-9c81c00ef85b",
   "metadata": {},
   "source": [
    "Solución con **p-value**:"
   ]
  },
  {
   "cell_type": "code",
   "execution_count": 26,
   "id": "a85300b6-cd28-46ab-915b-f811a102741b",
   "metadata": {},
   "outputs": [
    {
     "name": "stdout",
     "output_type": "stream",
     "text": [
      "Se rechaza la hipótesis nula. El precio promedio ha aumentado con un nivel de significación del 5%."
     ]
    }
   ],
   "source": [
    "z <- (X_ - mu) / (sigma / sqrt(n))\n",
    "p_value <- pnorm(z, lower.tail = FALSE)\n",
    "\n",
    "if (p_value < alpha) {\n",
    "  cat(\"Se rechaza la hipótesis nula. El precio promedio ha aumentado con un nivel de significación del 5%.\")\n",
    "} else {\n",
    "  cat(\"No se rechaza la hipótesis nula. No hay suficiente evidencia para afirmar que el precio promedio ha aumentado con un nivel de significación del 5%.\")\n",
    "}"
   ]
  },
  {
   "cell_type": "markdown",
   "id": "3d14069a-7da6-4b60-b4aa-acd243ad2345",
   "metadata": {},
   "source": [
    "<hr>"
   ]
  },
  {
   "cell_type": "markdown",
   "id": "2eb2d0fb-78f0-49e1-82df-7ce7461e64f8",
   "metadata": {},
   "source": [
    "# Ejercicio n° 2"
   ]
  },
  {
   "cell_type": "markdown",
   "id": "7779eb4a-51fe-4243-b0af-bb647152212c",
   "metadata": {},
   "source": [
    "**El encargado de personal ha informado que el nivel medio de ausencia de los empleados durante el trimestre pasado fue inferior a 15 días. Para ello se seleccionó una muestra de 50 empleados, quienes tuvieron un promedio de ausencias de 12,2 días y un desvío de 6,2 días. Se supone que la población se distribuye normalmente.**\n",
    "\n",
    "**Con un nivel de significación del 5%, determine si el informe del encargado puede considerarse válido.**\n",
    "\n",
    "Respuesta: 𝑅𝑐 ∶ 𝑇𝑡 ≤ −1,677 𝑇𝑒 = −3,193. Se rechaza 𝐻0"
   ]
  },
  {
   "cell_type": "code",
   "execution_count": 27,
   "id": "4bca4ff3-446b-4a52-893f-6d63fee17b13",
   "metadata": {},
   "outputs": [],
   "source": [
    "mu <- 15\n",
    "n <- 50\n",
    "X_ <- 12.2\n",
    "S <- 6.2\n",
    "alpha <- 0.05"
   ]
  },
  {
   "cell_type": "markdown",
   "id": "fd0f56ce-99fa-4f0d-abe1-85764961eb9d",
   "metadata": {},
   "source": [
    "$$H_0: \\mu = 15 \\text{ (La ausencia de los empleados es igual a 15 días)}$$\n",
    "$$H_1: \\mu < 15 \\text{ (La ausencia de los empleados es menor a 15 días)}$$"
   ]
  },
  {
   "cell_type": "code",
   "execution_count": 28,
   "id": "fbdedcba-6f78-4a40-8375-5b184c9f54ba",
   "metadata": {},
   "outputs": [
    {
     "data": {
      "text/html": [
       "<style>\n",
       ".list-inline {list-style: none; margin:0; padding: 0}\n",
       ".list-inline>li {display: inline-block}\n",
       ".list-inline>li:not(:last-child)::after {content: \"\\00b7\"; padding: 0 .5ex}\n",
       "</style>\n",
       "<ol class=list-inline><li>1.677</li><li>-3.193</li></ol>\n"
      ],
      "text/latex": [
       "\\begin{enumerate*}\n",
       "\\item 1.677\n",
       "\\item -3.193\n",
       "\\end{enumerate*}\n"
      ],
      "text/markdown": [
       "1. 1.677\n",
       "2. -3.193\n",
       "\n",
       "\n"
      ],
      "text/plain": [
       "[1]  1.677 -3.193"
      ]
     },
     "metadata": {},
     "output_type": "display_data"
    }
   ],
   "source": [
    "T <- round(qt(1 - alpha, n - 1), 3)\n",
    "Temp <- round((X_ - mu) / (S / sqrt(n)), 3)\n",
    "\n",
    "c(T, Temp)"
   ]
  },
  {
   "cell_type": "code",
   "execution_count": 29,
   "id": "6cda02f5-6af0-4d5f-a73a-273b679a2aea",
   "metadata": {},
   "outputs": [
    {
     "name": "stdout",
     "output_type": "stream",
     "text": [
      "Se rechaza la hipótesis nula. La media de las ausencias es menor a 15 días."
     ]
    }
   ],
   "source": [
    "if (Temp <= T) {\n",
    "  cat(\"Se rechaza la hipótesis nula. La media de las ausencias es menor a 15 días.\")\n",
    "} else {\n",
    "  cat(\"No se rechaza la hipótesis nula. No hay suficiente evidencia para afirmar que la media de las ausencias es igual a 15 días con un nivel de significación del 5%.\")\n",
    "}"
   ]
  },
  {
   "cell_type": "markdown",
   "id": "0a45addd-478f-472a-8150-03a87e3d70a9",
   "metadata": {},
   "source": [
    "Solución con **p-value**:"
   ]
  },
  {
   "cell_type": "code",
   "execution_count": 30,
   "id": "74695706-1588-4523-9280-4c92c43f7329",
   "metadata": {},
   "outputs": [
    {
     "name": "stdout",
     "output_type": "stream",
     "text": [
      "Se rechaza la hipótesis nula. La media de las ausencias es menor a 15 días."
     ]
    }
   ],
   "source": [
    "T <- (X_ - mu) / (S / sqrt(n))\n",
    "p_value <- pt(T, n - 1)\n",
    "\n",
    "if (p_value < alpha) {\n",
    "  cat(\"Se rechaza la hipótesis nula. La media de las ausencias es menor a 15 días.\")\n",
    "} else {\n",
    "  cat(\"No se rechaza la hipótesis nula. No hay suficiente evidencia para afirmar que la media de las ausencias es igual a 15 días con un nivel de significación del 5%.\")\n",
    "}"
   ]
  },
  {
   "cell_type": "markdown",
   "id": "b7f5d341-3ae6-4f0d-a6be-b5d022dd1aca",
   "metadata": {},
   "source": [
    "<hr>"
   ]
  },
  {
   "cell_type": "markdown",
   "id": "f7106cbc-47fc-479c-b9ef-4701bfd0016c",
   "metadata": {},
   "source": [
    "# Ejercicio n° 3"
   ]
  },
  {
   "cell_type": "markdown",
   "id": "a5247aaa-111c-46f2-81ea-b66774c4c18d",
   "metadata": {},
   "source": [
    "**Del padrón nacional de una importante obra social, se toman al azar, 9 pacientes que padecen una misma enfermedad, y se les indica que realicen una misma tarea, cuyo tiempo de realización tiene distribución normal. El tiempo promedio para la realización de la tarea fue de 17 minutos, con desvío de 2 minutos. Con un nivel de significación del 1%, ¿estos datos permiten afirmar que la varianza es menor a 5?**\n",
    "\n",
    "Respuesta: 𝑅𝑐 ∶ 𝜒2 ≤ 1,65 𝜒2 = 6,4. No se rechaza 𝐻0"
   ]
  },
  {
   "cell_type": "code",
   "execution_count": 32,
   "id": "3ce36305-3174-48fa-a0ec-437ec4277b90",
   "metadata": {},
   "outputs": [],
   "source": [
    "n <- 9\n",
    "X_ <- 17\n",
    "S <- 2\n",
    "sigma <- 5\n",
    "alpha <- 0.01"
   ]
  },
  {
   "cell_type": "markdown",
   "id": "cd515023-f9e7-4bff-99e6-df17f97c438c",
   "metadata": {},
   "source": [
    "$$H_0: \\sigma = 5 \\text{ (La varianza es igual a 5)}$$\n",
    "$$H_1: \\sigma < 5 \\text{ (La varianza es menor a 5)}$$"
   ]
  },
  {
   "cell_type": "markdown",
   "id": "fae6b792-9556-452f-880f-727f33366a67",
   "metadata": {},
   "source": [
    "Solución con **p-value**:"
   ]
  },
  {
   "cell_type": "code",
   "execution_count": 33,
   "id": "1897a9aa-251d-4f82-abaa-764ea8b544f6",
   "metadata": {},
   "outputs": [
    {
     "name": "stdout",
     "output_type": "stream",
     "text": [
      "Estadístico chi-cuadrado: 6.4 \n",
      "P-value: 0.3974803 \n",
      "No rechazamos la hipótesis nula. No hay suficiente evidencia para afirmar que la varianza es menor a 5 con un nivel de significación del 1%."
     ]
    }
   ],
   "source": [
    "chi_cuadrado <- (n - 1) * (S^2) / sigma\n",
    "\n",
    "p_value <- pchisq(chi_cuadrado, df = n - 1, lower.tail = TRUE)\n",
    "\n",
    "# Imprimir resultados\n",
    "cat(\"Estadístico chi-cuadrado:\", chi_cuadrado, \"\\n\")\n",
    "cat(\"P-value:\", p_value, \"\\n\")\n",
    "\n",
    "if (p_value < alpha) {\n",
    "  cat(\"Rechazamos la hipótesis nula. La varianza es menor a 5 con un nivel de significación del 1%.\")\n",
    "} else {\n",
    "  cat(\"No rechazamos la hipótesis nula. No hay suficiente evidencia para afirmar que la varianza es menor a 5 con un nivel de significación del 1%.\")\n",
    "}"
   ]
  },
  {
   "cell_type": "markdown",
   "id": "6f88abab-9a72-4fb5-9e47-bb7eeb22ccab",
   "metadata": {},
   "source": [
    "<hr>"
   ]
  },
  {
   "cell_type": "markdown",
   "id": "762c702d-8d04-4e11-bbe9-fcc379d4bdca",
   "metadata": {},
   "source": [
    "# Ejercicio 4"
   ]
  },
  {
   "cell_type": "markdown",
   "id": "bbb816f5-e1e3-450f-b19e-8affd06ae95d",
   "metadata": {},
   "source": [
    "##### **Con una muestra de 26 unidades que arrojó una media de 120 y una varianza de 25, se ha afirmado que la media poblacional tiene un valor menor a 118 con un nivel de significación del 1%. Suponiendo que la población se distribuye normalmente. ¿Puede considerarse correcta dicha afirmación?**\n",
    "Respuesta: 𝑅𝑐 ∶ 𝑇𝑡 ≤ −2,485 𝑇𝑒 = 2,04. No se rechaza 𝐻0"
   ]
  },
  {
   "cell_type": "code",
   "execution_count": 34,
   "id": "1d10c710-c405-4d86-8891-c485736a3225",
   "metadata": {},
   "outputs": [],
   "source": [
    "n <- 26\n",
    "X_ <- 120\n",
    "S2 <- 25"
   ]
  },
  {
   "cell_type": "code",
   "execution_count": 35,
   "id": "7ff7534e-eb9d-4b1c-b5bb-e60ac333837e",
   "metadata": {},
   "outputs": [],
   "source": [
    "mu <- 118\n",
    "alpha <- 0.01"
   ]
  },
  {
   "cell_type": "markdown",
   "id": "2c7c3709-3694-4298-a989-7a9d1c184b82",
   "metadata": {},
   "source": [
    "$$H_0: \\mu = 118 \\text{ (La media es igual a 118)}$$\n",
    "$$H_1: \\mu < 118 \\text{ (La media es menor a 118)}$$"
   ]
  },
  {
   "cell_type": "code",
   "execution_count": 36,
   "id": "146c7dd0-f2e8-4338-9c74-0c09cd7ffe4b",
   "metadata": {},
   "outputs": [],
   "source": [
    "error_estandar <- sqrt(S2) / sqrt(n)"
   ]
  },
  {
   "cell_type": "code",
   "execution_count": 37,
   "id": "112ae6a9-e3be-42f8-b571-489890f0a279",
   "metadata": {},
   "outputs": [],
   "source": [
    "t <- (X_ - mu) / error_estandar"
   ]
  },
  {
   "cell_type": "code",
   "execution_count": 38,
   "id": "66aeda3a-2959-4ad5-9bd5-90ab33bbffc8",
   "metadata": {},
   "outputs": [
    {
     "data": {
      "text/html": [
       "0.973954776342613"
      ],
      "text/latex": [
       "0.973954776342613"
      ],
      "text/markdown": [
       "0.973954776342613"
      ],
      "text/plain": [
       "[1] 0.9739548"
      ]
     },
     "metadata": {},
     "output_type": "display_data"
    }
   ],
   "source": [
    "p_value <- pt(t, n-1)\n",
    "p_value"
   ]
  },
  {
   "cell_type": "code",
   "execution_count": 40,
   "id": "eea1121d-b95e-408d-91f3-d7c9176ef93a",
   "metadata": {},
   "outputs": [
    {
     "data": {
      "text/html": [
       "2.03960780543711"
      ],
      "text/latex": [
       "2.03960780543711"
      ],
      "text/markdown": [
       "2.03960780543711"
      ],
      "text/plain": [
       "[1] 2.039608"
      ]
     },
     "metadata": {},
     "output_type": "display_data"
    }
   ],
   "source": [
    "t"
   ]
  },
  {
   "cell_type": "code",
   "execution_count": 43,
   "id": "6a3cfbcb-90c9-43c7-beb9-dc8f3ab02e53",
   "metadata": {},
   "outputs": [
    {
     "name": "stdout",
     "output_type": "stream",
     "text": [
      "No rechazamos la hipótesis nula. No hay suficiente evidencia para afirmar que la media es menor a 118 con un nivel de significación del 1%."
     ]
    }
   ],
   "source": [
    "if (p_value < alpha) {\n",
    "  cat(\"Rechazamos la hipótesis nula. La media es igual a 118 con un nivel de significación del 1%.\")\n",
    "} else {\n",
    "  cat(\"No rechazamos la hipótesis nula. No hay suficiente evidencia para afirmar que la media es menor a 118 con un nivel de significación del 1%.\")\n",
    "}"
   ]
  },
  {
   "cell_type": "markdown",
   "id": "2a6fb0a3-5a01-42b6-9966-c3ddf4e56e2f",
   "metadata": {},
   "source": [
    "<hr>"
   ]
  },
  {
   "cell_type": "markdown",
   "id": "5259b392-c0b9-4e0e-b890-3a07d361c56f",
   "metadata": {},
   "source": [
    "# Ejercicio 5"
   ]
  },
  {
   "cell_type": "markdown",
   "id": "8ab70fb5-16f7-461d-8342-5507c6a89c14",
   "metadata": {},
   "source": [
    "#### A partir de los resultados de una encuesta realizada en una importante universidad pública del país, se afirma que en por lo menos el 90% de los casos, las mujeres alcanzan un rendimiento académico superior al de los hombres. Se eligen al azar 200 alumnos y se encontraron 160 mujeres con promedio mayor al de los hombres. Con un nivel de significación del 5%, demostrar si se puede admitir como válida dicha afirmación.\n",
    "Respuesta: 𝑅𝑐 ∶ 𝑍𝑡 ≤ −1,645 𝑍𝑒 = −4,714. Se rechaza 𝐻0"
   ]
  },
  {
   "cell_type": "code",
   "execution_count": 54,
   "id": "229ceb7e-c1ac-487d-92eb-a95d4d8309d2",
   "metadata": {},
   "outputs": [],
   "source": [
    "p_poblacion_mujeres <- .9\n",
    "n <- 200\n",
    "p_muestra_mujeres <- 160 / n\n",
    "alpha <- .05"
   ]
  },
  {
   "cell_type": "markdown",
   "id": "0dbf0fb2-e327-4ea0-b9f6-9c3b641894c3",
   "metadata": {},
   "source": [
    "$$H_0: p <= 90% $$\n",
    "$$H_1: p > 90% $$"
   ]
  },
  {
   "cell_type": "code",
   "execution_count": 55,
   "id": "a864dc27-f2c3-4275-867a-3e8b8c9ded0b",
   "metadata": {},
   "outputs": [
    {
     "data": {
      "text/html": [
       "-4.71404520791032"
      ],
      "text/latex": [
       "-4.71404520791032"
      ],
      "text/markdown": [
       "-4.71404520791032"
      ],
      "text/plain": [
       "[1] -4.714045"
      ]
     },
     "metadata": {},
     "output_type": "display_data"
    }
   ],
   "source": [
    "Z <- (p_muestra_mujeres - p_poblacion_mujeres) / sqrt(p_poblacion_mujeres * (1 - p_poblacion_mujeres) / n)\n",
    "Z"
   ]
  },
  {
   "cell_type": "code",
   "execution_count": 56,
   "id": "ef785fc5-e50a-4c5d-a29a-53e97a82e502",
   "metadata": {},
   "outputs": [
    {
     "data": {
      "text/html": [
       "0.999998785766264"
      ],
      "text/latex": [
       "0.999998785766264"
      ],
      "text/markdown": [
       "0.999998785766264"
      ],
      "text/plain": [
       "[1] 0.9999988"
      ]
     },
     "metadata": {},
     "output_type": "display_data"
    }
   ],
   "source": [
    "p_value <- pnorm(Z, lower.tail=FALSE)\n",
    "p_value"
   ]
  },
  {
   "cell_type": "code",
   "execution_count": 57,
   "id": "871315a9-06c0-4cc9-ad57-1291102210b2",
   "metadata": {},
   "outputs": [
    {
     "name": "stdout",
     "output_type": "stream",
     "text": [
      "Rechazamos la hipótesis nula. La proporción de mujeres cuyo rendimiento académico es superior al de los hombres es mayor al 90% con un nivel de significación del 5%."
     ]
    }
   ],
   "source": [
    "if (p_value > alpha) {\n",
    "  cat(\"Rechazamos la hipótesis nula. La proporción de mujeres cuyo rendimiento académico es superior al de los hombres es mayor al 90% con un nivel de significación del 5%.\")\n",
    "} else {\n",
    "  cat(\"No rechazamos la hipótesis nula. No hay suficiente evidencia para afirmar que la media es menor a 118 con un nivel de significación del 5%.\")\n",
    "}"
   ]
  },
  {
   "cell_type": "markdown",
   "id": "e401d1d1-6b33-4dfe-b8c8-514d902509cc",
   "metadata": {},
   "source": [
    "<hr>"
   ]
  },
  {
   "cell_type": "markdown",
   "id": "caa204ad-299a-43a9-bf1e-e84a7fabf5c0",
   "metadata": {},
   "source": [
    "# Ejercicio 6"
   ]
  },
  {
   "cell_type": "markdown",
   "id": "3133b8cf-9f19-4881-b668-b9d48fa38000",
   "metadata": {},
   "source": [
    "#### Se inyectó una droga a 100 personas y solo 8 tuvieron reacción alérgica, con un nivel de significación del 5% ¿se puede afirmar que la proporción de personas que sufren dicha reacción a esa droga, es menor a 0,10?\n",
    "Respuesta: 𝑅𝑐 ∶ 𝑍𝑡 ≤ −1,645 𝑍𝑒 = −0,667. No se rechaza 𝐻0"
   ]
  },
  {
   "cell_type": "code",
   "execution_count": 58,
   "id": "b158f2d9-c26c-4dce-9512-d8a06c4bf3ad",
   "metadata": {},
   "outputs": [],
   "source": [
    "n <- 100\n",
    "p_muestral <- 8 / n\n",
    "p_poblacion <- .10\n",
    "alpha <- .05"
   ]
  },
  {
   "cell_type": "markdown",
   "id": "6ad00d5e-2f98-4eb1-b850-006e52891868",
   "metadata": {},
   "source": [
    "$$H_0: p >= 10% $$\n",
    "$$H_1: p < 10% $$"
   ]
  },
  {
   "cell_type": "code",
   "execution_count": 59,
   "id": "ca196fe7-aa6b-48aa-b04f-ddce15770410",
   "metadata": {},
   "outputs": [
    {
     "data": {
      "text/html": [
       "0.666666666666667"
      ],
      "text/latex": [
       "0.666666666666667"
      ],
      "text/markdown": [
       "0.666666666666667"
      ],
      "text/plain": [
       "[1] 0.6666667"
      ]
     },
     "metadata": {},
     "output_type": "display_data"
    }
   ],
   "source": [
    "# Saco Z\n",
    "Z <- (p_poblacion - p_muestral )/ sqrt(p_poblacion * (1 - p_poblacion) / n)\n",
    "Z"
   ]
  },
  {
   "cell_type": "code",
   "execution_count": 63,
   "id": "49684485-84c6-47d5-bc67-f0795a519107",
   "metadata": {},
   "outputs": [
    {
     "data": {
      "text/html": [
       "-1.64485362695147"
      ],
      "text/latex": [
       "-1.64485362695147"
      ],
      "text/markdown": [
       "-1.64485362695147"
      ],
      "text/plain": [
       "[1] -1.644854"
      ]
     },
     "metadata": {},
     "output_type": "display_data"
    }
   ],
   "source": [
    "Zt <- qnorm(alpha)\n",
    "Zt"
   ]
  },
  {
   "cell_type": "code",
   "execution_count": 61,
   "id": "99f24ff6-6041-4ce6-8322-7b09415a3963",
   "metadata": {},
   "outputs": [
    {
     "data": {
      "text/html": [
       "0.747507462453077"
      ],
      "text/latex": [
       "0.747507462453077"
      ],
      "text/markdown": [
       "0.747507462453077"
      ],
      "text/plain": [
       "[1] 0.7475075"
      ]
     },
     "metadata": {},
     "output_type": "display_data"
    }
   ],
   "source": [
    "# Saco p_value\n",
    "p_value <- pnorm(Z)\n",
    "p_value"
   ]
  },
  {
   "cell_type": "code",
   "execution_count": 62,
   "id": "1ed8c4b5-a3cd-4952-8a5a-3e17019021f8",
   "metadata": {},
   "outputs": [
    {
     "name": "stdout",
     "output_type": "stream",
     "text": [
      "No rechazamos la hipótesis nula. No hay suficiente evidencia para afirmar que la media es menor a 118 con un nivel de significación del 5%."
     ]
    }
   ],
   "source": [
    "if (p_value < alpha) {\n",
    "  cat(\"Rechazamos la hipótesis nula. La proporción de mujeres cuyo rendimiento académico es superior al de los hombres es mayor al 90% con un nivel de significación del 5%.\")\n",
    "} else {\n",
    "  cat(\"No rechazamos la hipótesis nula. No hay suficiente evidencia para afirmar que la media es menor a 118 con un nivel de significación del 5%.\")\n",
    "}"
   ]
  },
  {
   "cell_type": "markdown",
   "id": "9e5b3201-7649-48b2-bf19-b2eacfbfca0e",
   "metadata": {},
   "source": [
    "<hr>"
   ]
  },
  {
   "cell_type": "markdown",
   "id": "95bdffb9-0307-48d7-b01b-cb482028ac5e",
   "metadata": {},
   "source": [
    "# Ejercicio n° 7\n",
    "##### El mes pasado, el rendimiento promedio de cierto activo fue de 9,8%. En 8 días tomados al azar del presente mes, tomados al azar, el rendimiento medio fue de 8,9% con un desvío de 1,93%. Admitiendo que estos rendimientos se distribuyen normalmente, se pide probar, con un nivel de significación de 5%, si puede afirmarse que el rendimiento promedio del presente mes, es inferior al del mes pasado.\n",
    "Respuesta: 𝑅𝑐 ∶ 𝑇𝑡 ≤ −1,895 𝑇𝑒 = −1,319. No se rechaza 𝐻0"
   ]
  },
  {
   "cell_type": "code",
   "execution_count": 68,
   "id": "7a611d65-171a-47b6-9e51-3aafbd11021f",
   "metadata": {},
   "outputs": [],
   "source": [
    "mu <- 9.8 / 100\n",
    "\n",
    "n <- 8\n",
    "X_ <- 8.9 / 100\n",
    "S <- 1.93 / 100\n",
    "\n",
    "alpha <- .05"
   ]
  },
  {
   "cell_type": "markdown",
   "id": "81c7c005-13a0-4fb0-95e5-382182b4e9e5",
   "metadata": {},
   "source": [
    "$$H_0: mu >= 9.8% $$\n",
    "$$H_1: mu < 9.8% $$"
   ]
  },
  {
   "cell_type": "code",
   "execution_count": 69,
   "id": "a4a6139e-405d-4539-89b8-754abbc2a9d6",
   "metadata": {},
   "outputs": [
    {
     "data": {
      "text/html": [
       "0.00682358043845018"
      ],
      "text/latex": [
       "0.00682358043845018"
      ],
      "text/markdown": [
       "0.00682358043845018"
      ],
      "text/plain": [
       "[1] 0.00682358"
      ]
     },
     "metadata": {},
     "output_type": "display_data"
    }
   ],
   "source": [
    "error_estandar <- S / sqrt(n)\n",
    "error_estandar"
   ]
  },
  {
   "cell_type": "code",
   "execution_count": 70,
   "id": "5aa055d6-563e-4923-9b12-81d680e1b93f",
   "metadata": {},
   "outputs": [
    {
     "data": {
      "text/html": [
       "-1.31895565402672"
      ],
      "text/latex": [
       "-1.31895565402672"
      ],
      "text/markdown": [
       "-1.31895565402672"
      ],
      "text/plain": [
       "[1] -1.318956"
      ]
     },
     "metadata": {},
     "output_type": "display_data"
    }
   ],
   "source": [
    "T <- (X_ - mu) / error_estandar\n",
    "T"
   ]
  },
  {
   "cell_type": "code",
   "execution_count": 71,
   "id": "11606acb-ad3d-48b7-a450-4eab72ac3155",
   "metadata": {},
   "outputs": [
    {
     "data": {
      "text/html": [
       "0.114346030700814"
      ],
      "text/latex": [
       "0.114346030700814"
      ],
      "text/markdown": [
       "0.114346030700814"
      ],
      "text/plain": [
       "[1] 0.114346"
      ]
     },
     "metadata": {},
     "output_type": "display_data"
    }
   ],
   "source": [
    "p_value <- pt(T, df=n-1)\n",
    "p_value"
   ]
  },
  {
   "cell_type": "code",
   "execution_count": 72,
   "id": "bae9310a-1fea-4f70-a228-5ef3dab7097a",
   "metadata": {},
   "outputs": [
    {
     "name": "stdout",
     "output_type": "stream",
     "text": [
      "No rechazamos la hipótesis nula. No hay suficiente evidencia para afirmar que la media es menor a 118 con un nivel de significación del 5%."
     ]
    }
   ],
   "source": [
    "if (p_value < alpha) {\n",
    "  cat(\"Rechazamos la hipótesis nula. La proporción de mujeres cuyo rendimiento académico es superior al de los hombres es mayor al 90% con un nivel de significación del 5%.\")\n",
    "} else {\n",
    "  cat(\"No rechazamos la hipótesis nula. No hay suficiente evidencia para afirmar que la media es menor a 118 con un nivel de significación del 5%.\")\n",
    "}"
   ]
  },
  {
   "cell_type": "markdown",
   "id": "aaf1c9e8-4e68-4124-a08a-e4cc4a44c372",
   "metadata": {},
   "source": [
    "<hr>"
   ]
  },
  {
   "cell_type": "markdown",
   "id": "5299d30a-0617-4a47-8018-b24dd7b9af10",
   "metadata": {},
   "source": [
    "# Ejercicio 8"
   ]
  },
  {
   "cell_type": "markdown",
   "id": "3bb599e9-67c2-4f17-944f-ec9773bb7167",
   "metadata": {},
   "source": [
    "#### Las autoridades de una prestigiosa Universidad afirman que sus profesores cobran un sueldo promedio no inferior a US7200 anuales con un desvío de US2000. Para verificarlo se tomó una muestra al azar de 400 profesores de dicha Universidad, que arrojó un salario medio anual de US6900. Compruebe, si con una significación del 5%, puede validarse la afirmación de las autoridades de dicha Universidad.\n",
    "Respuesta: 𝑅𝑐 ∶ 𝑍𝑡 ≤ −1,645 𝑍𝑒 = −3. Se rechaza 𝐻0"
   ]
  },
  {
   "cell_type": "code",
   "execution_count": 73,
   "id": "b46b3a0f-9075-4869-a238-5433a5657bf4",
   "metadata": {},
   "outputs": [],
   "source": [
    "mu <- 7200\n",
    "sigma <- 2000\n",
    "\n",
    "n <- 400\n",
    "X_ <- 6900\n",
    "\n",
    "alpha <- 0.05"
   ]
  },
  {
   "cell_type": "markdown",
   "id": "1c83e121-dd2d-4480-a1a8-d26bf2086ce8",
   "metadata": {},
   "source": [
    "$$H_0: mu >= 7200% $$\n",
    "$$H_1: mu < 7200% $$"
   ]
  },
  {
   "cell_type": "code",
   "execution_count": 74,
   "id": "231600ec-3655-430d-bc5f-87c19bb1a798",
   "metadata": {},
   "outputs": [],
   "source": [
    "error_estandar <- sigma / sqrt(n)"
   ]
  },
  {
   "cell_type": "code",
   "execution_count": 75,
   "id": "03bb0126-2052-4f79-a6ff-b3e925bc6fd0",
   "metadata": {},
   "outputs": [
    {
     "data": {
      "text/html": [
       "-3"
      ],
      "text/latex": [
       "-3"
      ],
      "text/markdown": [
       "-3"
      ],
      "text/plain": [
       "[1] -3"
      ]
     },
     "metadata": {},
     "output_type": "display_data"
    }
   ],
   "source": [
    "Z <- (X_ - mu) / error_estandar\n",
    "Z"
   ]
  },
  {
   "cell_type": "code",
   "execution_count": 76,
   "id": "6772ca5c-bc7b-4f66-a045-78e27b5e3cc3",
   "metadata": {},
   "outputs": [],
   "source": [
    "p_value <- pnorm(Z)"
   ]
  },
  {
   "cell_type": "code",
   "execution_count": 79,
   "id": "6289e667-e3a6-4a5b-a0b7-7c068a18516f",
   "metadata": {},
   "outputs": [
    {
     "name": "stdout",
     "output_type": "stream",
     "text": [
      "Rechazamos la hipótesis nula. La proporción de mujeres cuyo rendimiento académico es superior al de los hombres es mayor al 90% con un nivel de significación del 5%."
     ]
    }
   ],
   "source": [
    "if (p_value < alpha) {\n",
    "  cat(\"Rechazamos la hipótesis nula. La proporción de mujeres cuyo rendimiento académico es superior al de los hombres es mayor al 90% con un nivel de significación del 5%.\")\n",
    "} else {\n",
    "  cat(\"No rechazamos la hipótesis nula. No hay suficiente evidencia para afirmar que la media es menor a 118 con un nivel de significación del 5%.\")\n",
    "}"
   ]
  },
  {
   "cell_type": "markdown",
   "id": "93075760-cf8f-4634-b590-f4121984f182",
   "metadata": {},
   "source": [
    "<hr>"
   ]
  },
  {
   "cell_type": "markdown",
   "id": "243fa65f-ccfa-48ba-87f9-ed042c838c1e",
   "metadata": {},
   "source": [
    "# Ejercicio 9"
   ]
  },
  {
   "cell_type": "markdown",
   "id": "8999308e-a7a6-499b-bcbe-4ebdbdcb0c1a",
   "metadata": {},
   "source": [
    "#### El desvío estándar del peso de ciertas computadoras es de 27 Kg. Se toman al azar 15 computadoras, las cuales arrojaron una desviación de 36 Kg. Compruebe si puede afirmarse que el incremento en la variabilidad es significativo, con alfa del 5%.\n",
    "Respuesta: 𝑅𝑐 ∶ 𝜒2 ≥ 23,68 𝜒2 = 24,88. Se rechaza 𝐻0"
   ]
  },
  {
   "cell_type": "code",
   "execution_count": 81,
   "id": "95d320f4-091d-40f3-aa87-3d906eb1200e",
   "metadata": {},
   "outputs": [],
   "source": [
    "sigma <- 27\n",
    "\n",
    "n <- 15\n",
    "S <- 36\n",
    "\n",
    "alpha <- .05"
   ]
  },
  {
   "cell_type": "code",
   "execution_count": 85,
   "id": "4e0f6f90-8454-451c-9743-cf03e4ad7b50",
   "metadata": {},
   "outputs": [
    {
     "data": {
      "text/html": [
       "24.8888888888889"
      ],
      "text/latex": [
       "24.8888888888889"
      ],
      "text/markdown": [
       "24.8888888888889"
      ],
      "text/plain": [
       "[1] 24.88889"
      ]
     },
     "metadata": {},
     "output_type": "display_data"
    }
   ],
   "source": [
    "var_poblacional <- ((n-1) * S^2) / sigma^2\n",
    "var_poblacional"
   ]
  },
  {
   "cell_type": "markdown",
   "id": "53b5533f-0b42-4862-866c-6357d6fd2e9f",
   "metadata": {},
   "source": [
    "- **Hipótesis nula (H₀)**: El desvío estándar del peso de las computadoras no ha cambiado y es igual a 27 kg. $( H_0: \\sigma = 27 \\text{ kg} )$\n",
    "- **Hipótesis alternativa (H₁)**: El desvío estándar del peso de las computadoras ha aumentado y es mayor a 27 kg. $( H_1: \\sigma > 27 \\text{ kg} )$\n"
   ]
  },
  {
   "cell_type": "code",
   "execution_count": 88,
   "id": "7a2e0eef-8cc7-48e0-b69b-c9036f99dc61",
   "metadata": {},
   "outputs": [
    {
     "data": {
      "text/html": [
       "23.6847913048406"
      ],
      "text/latex": [
       "23.6847913048406"
      ],
      "text/markdown": [
       "23.6847913048406"
      ],
      "text/plain": [
       "[1] 23.68479"
      ]
     },
     "metadata": {},
     "output_type": "display_data"
    }
   ],
   "source": [
    "qchiskuski <- qchisq(1 - alpha, n-1)\n",
    "qchiskuski"
   ]
  },
  {
   "cell_type": "code",
   "execution_count": null,
   "id": "dc5ac600-d3ee-409b-b4c0-6d78ddaa3fc4",
   "metadata": {},
   "outputs": [],
   "source": []
  }
 ],
 "metadata": {
  "kernelspec": {
   "display_name": "R",
   "language": "R",
   "name": "ir"
  },
  "language_info": {
   "codemirror_mode": "r",
   "file_extension": ".r",
   "mimetype": "text/x-r-source",
   "name": "R",
   "pygments_lexer": "r",
   "version": "4.4.0"
  }
 },
 "nbformat": 4,
 "nbformat_minor": 5
}
